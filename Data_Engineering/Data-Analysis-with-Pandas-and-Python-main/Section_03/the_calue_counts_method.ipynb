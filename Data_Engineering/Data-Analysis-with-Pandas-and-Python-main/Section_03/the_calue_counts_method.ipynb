{
 "cells": [
  {
   "cell_type": "markdown",
   "metadata": {},
   "source": [
    "# The value_counts Method"
   ]
  },
  {
   "cell_type": "code",
   "execution_count": 2,
   "metadata": {},
   "outputs": [
    {
     "data": {
      "text/plain": [
       "Pokemon\n",
       "Bulbasaur     Grass\n",
       "Ivysaur       Grass\n",
       "Venusaur      Grass\n",
       "Charmander     Fire\n",
       "Charmeleon     Fire\n",
       "Name: Type, dtype: object"
      ]
     },
     "execution_count": 2,
     "metadata": {},
     "output_type": "execute_result"
    }
   ],
   "source": [
    "import pandas as pd\n",
    "pokemon = pd.read_csv(\"pokemon.csv\", index_col=\"Pokemon\").squeeze(\"columns\")\n",
    "pokemon.head()"
   ]
  },
  {
   "cell_type": "code",
   "execution_count": 3,
   "metadata": {},
   "outputs": [
    {
     "data": {
      "text/plain": [
       "Water       105\n",
       "Normal       93\n",
       "Grass        66\n",
       "Bug          63\n",
       "Fire         47\n",
       "Psychic      47\n",
       "Rock         41\n",
       "Electric     36\n",
       "Ground       30\n",
       "Poison       28\n",
       "Dark         28\n",
       "Fighting     25\n",
       "Dragon       24\n",
       "Ghost        23\n",
       "Ice          23\n",
       "Steel        22\n",
       "Fairy        17\n",
       "Flying        3\n",
       "Name: Type, dtype: int64"
      ]
     },
     "execution_count": 3,
     "metadata": {},
     "output_type": "execute_result"
    }
   ],
   "source": [
    "pokemon.value_counts()"
   ]
  },
  {
   "cell_type": "code",
   "execution_count": 4,
   "metadata": {},
   "outputs": [
    {
     "data": {
      "text/plain": [
       "Flying        3\n",
       "Fairy        17\n",
       "Steel        22\n",
       "Ghost        23\n",
       "Ice          23\n",
       "Dragon       24\n",
       "Fighting     25\n",
       "Poison       28\n",
       "Dark         28\n",
       "Ground       30\n",
       "Electric     36\n",
       "Rock         41\n",
       "Psychic      47\n",
       "Fire         47\n",
       "Bug          63\n",
       "Grass        66\n",
       "Normal       93\n",
       "Water       105\n",
       "Name: Type, dtype: int64"
      ]
     },
     "execution_count": 4,
     "metadata": {},
     "output_type": "execute_result"
    }
   ],
   "source": [
    "pokemon.value_counts(ascending=True)"
   ]
  },
  {
   "cell_type": "code",
   "execution_count": 5,
   "metadata": {},
   "outputs": [
    {
     "data": {
      "text/plain": [
       "Flying     3\n",
       "Fairy     17\n",
       "Steel     22\n",
       "Ghost     23\n",
       "Ice       23\n",
       "Name: Type, dtype: int64"
      ]
     },
     "execution_count": 5,
     "metadata": {},
     "output_type": "execute_result"
    }
   ],
   "source": [
    "pokemon.value_counts(ascending=True).head()"
   ]
  },
  {
   "cell_type": "code",
   "execution_count": 7,
   "metadata": {},
   "outputs": [
    {
     "data": {
      "text/plain": [
       "Pokemon\n",
       "Hoopa        Psychic\n",
       "Volcanion       Fire\n",
       "Name: Type, dtype: object"
      ]
     },
     "execution_count": 7,
     "metadata": {},
     "output_type": "execute_result"
    }
   ],
   "source": [
    "pokemon.tail(2)"
   ]
  },
  {
   "cell_type": "code",
   "execution_count": 8,
   "metadata": {},
   "outputs": [
    {
     "data": {
      "text/plain": [
       "Pokemon\n",
       "Bulbasaur    Grass\n",
       "Ivysaur      Grass\n",
       "Name: Type, dtype: object"
      ]
     },
     "execution_count": 8,
     "metadata": {},
     "output_type": "execute_result"
    }
   ],
   "source": [
    "pokemon.head(2)"
   ]
  },
  {
   "cell_type": "code",
   "execution_count": 9,
   "metadata": {},
   "outputs": [
    {
     "data": {
      "text/plain": [
       "Fairy     17\n",
       "Flying     3\n",
       "Name: Type, dtype: int64"
      ]
     },
     "execution_count": 9,
     "metadata": {},
     "output_type": "execute_result"
    }
   ],
   "source": [
    "pokemon.value_counts(ascending=False).tail(2)"
   ]
  },
  {
   "cell_type": "code",
   "execution_count": 10,
   "metadata": {},
   "outputs": [
    {
     "data": {
      "text/plain": [
       "Water     105\n",
       "Normal     93\n",
       "Name: Type, dtype: int64"
      ]
     },
     "execution_count": 10,
     "metadata": {},
     "output_type": "execute_result"
    }
   ],
   "source": [
    "pokemon.value_counts(ascending=False).head(2)"
   ]
  },
  {
   "cell_type": "code",
   "execution_count": 11,
   "metadata": {},
   "outputs": [
    {
     "data": {
      "text/plain": [
       "Flying     3\n",
       "Fairy     17\n",
       "Steel     22\n",
       "Name: Type, dtype: int64"
      ]
     },
     "execution_count": 11,
     "metadata": {},
     "output_type": "execute_result"
    }
   ],
   "source": [
    "pokemon.value_counts(ascending=True).head(3)"
   ]
  },
  {
   "cell_type": "code",
   "execution_count": 12,
   "metadata": {},
   "outputs": [
    {
     "data": {
      "text/plain": [
       "Water       0.145631\n",
       "Normal      0.128988\n",
       "Grass       0.091540\n",
       "Bug         0.087379\n",
       "Fire        0.065187\n",
       "Psychic     0.065187\n",
       "Rock        0.056865\n",
       "Electric    0.049931\n",
       "Ground      0.041609\n",
       "Poison      0.038835\n",
       "Dark        0.038835\n",
       "Fighting    0.034674\n",
       "Dragon      0.033287\n",
       "Ghost       0.031900\n",
       "Ice         0.031900\n",
       "Steel       0.030513\n",
       "Fairy       0.023578\n",
       "Flying      0.004161\n",
       "Name: Type, dtype: float64"
      ]
     },
     "execution_count": 12,
     "metadata": {},
     "output_type": "execute_result"
    }
   ],
   "source": [
    "pokemon.value_counts(normalize=True)"
   ]
  },
  {
   "cell_type": "code",
   "execution_count": 13,
   "metadata": {},
   "outputs": [
    {
     "data": {
      "text/plain": [
       "Water       14.563107\n",
       "Normal      12.898752\n",
       "Grass        9.153953\n",
       "Bug          8.737864\n",
       "Fire         6.518724\n",
       "Psychic      6.518724\n",
       "Rock         5.686546\n",
       "Electric     4.993065\n",
       "Ground       4.160888\n",
       "Poison       3.883495\n",
       "Dark         3.883495\n",
       "Fighting     3.467406\n",
       "Dragon       3.328710\n",
       "Ghost        3.190014\n",
       "Ice          3.190014\n",
       "Steel        3.051318\n",
       "Fairy        2.357836\n",
       "Flying       0.416089\n",
       "Name: Type, dtype: float64"
      ]
     },
     "execution_count": 13,
     "metadata": {},
     "output_type": "execute_result"
    }
   ],
   "source": [
    "pokemon.value_counts(normalize=True) * 100"
   ]
  },
  {
   "cell_type": "code",
   "execution_count": null,
   "metadata": {},
   "outputs": [],
   "source": []
  }
 ],
 "metadata": {
  "kernelspec": {
   "display_name": "Python 3.10.5 64-bit",
   "language": "python",
   "name": "python3"
  },
  "language_info": {
   "codemirror_mode": {
    "name": "ipython",
    "version": 3
   },
   "file_extension": ".py",
   "mimetype": "text/x-python",
   "name": "python",
   "nbconvert_exporter": "python",
   "pygments_lexer": "ipython3",
   "version": "3.10.5"
  },
  "orig_nbformat": 4,
  "vscode": {
   "interpreter": {
    "hash": "722b6f501d3291d098eeb116c55030d7476387c4156a20534e17b28f07582bab"
   }
  }
 },
 "nbformat": 4,
 "nbformat_minor": 2
}
