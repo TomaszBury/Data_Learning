{
 "cells": [
  {
   "cell_type": "markdown",
   "metadata": {},
   "source": [
    "# Parameters and Arguments\n",
    "#### Parameter - the name we give to an expected input\n",
    "#### Argument - The concrete value that we provide to parameter\n",
    "\n",
    "##### Difficulty - Easy, Medium, Hard; Parameter Difficulty - Easy, Medium. Hard <-- Arguments\n",
    "##### Volume - 1 through 10\n",
    "##### Subtitles - True, False"
   ]
  },
  {
   "cell_type": "code",
   "execution_count": 1,
   "metadata": {},
   "outputs": [],
   "source": [
    "import pandas as pd"
   ]
  },
  {
   "cell_type": "code",
   "execution_count": 7,
   "metadata": {},
   "outputs": [
    {
     "data": {
      "text/plain": [
       "Apple          Monday\n",
       "Oragne       Thuesday\n",
       "Plum         Wenesday\n",
       "Grape        Thursday\n",
       "Blueberry      Friday\n",
       "dtype: object"
      ]
     },
     "execution_count": 7,
     "metadata": {},
     "output_type": "execute_result"
    }
   ],
   "source": [
    "fruits = [\"Apple\", \"Oragne\", \"Plum\", \"Grape\", \"Blueberry\"]\n",
    "weekdays = [\"Monday\", \"Thuesday\", \"Wenesday\", \"Thursday\", \"Friday\"]\n",
    "\n",
    "pd.Series(weekdays, fruits)"
   ]
  },
  {
   "cell_type": "code",
   "execution_count": 8,
   "metadata": {},
   "outputs": [
    {
     "data": {
      "text/plain": [
       "Monday          Apple\n",
       "Thuesday       Oragne\n",
       "Wenesday         Plum\n",
       "Thursday        Grape\n",
       "Friday      Blueberry\n",
       "dtype: object"
      ]
     },
     "execution_count": 8,
     "metadata": {},
     "output_type": "execute_result"
    }
   ],
   "source": [
    "pd.Series(data=fruits, index=weekdays)"
   ]
  },
  {
   "cell_type": "code",
   "execution_count": 9,
   "metadata": {},
   "outputs": [
    {
     "data": {
      "text/plain": [
       "Monday          Apple\n",
       "Thuesday       Oragne\n",
       "Wenesday         Plum\n",
       "Thursday        Grape\n",
       "Friday      Blueberry\n",
       "dtype: object"
      ]
     },
     "execution_count": 9,
     "metadata": {},
     "output_type": "execute_result"
    }
   ],
   "source": [
    "pd.Series(index=weekdays, data=fruits)"
   ]
  },
  {
   "cell_type": "code",
   "execution_count": 10,
   "metadata": {},
   "outputs": [
    {
     "data": {
      "text/plain": [
       "Monday          Apple\n",
       "Thuesday       Oragne\n",
       "Wenesday         Plum\n",
       "Thursday        Grape\n",
       "Friday      Blueberry\n",
       "dtype: object"
      ]
     },
     "execution_count": 10,
     "metadata": {},
     "output_type": "execute_result"
    }
   ],
   "source": [
    "pd.Series(fruits, index=weekdays)"
   ]
  },
  {
   "cell_type": "code",
   "execution_count": 11,
   "metadata": {},
   "outputs": [
    {
     "data": {
      "text/plain": [
       "0        Apple\n",
       "1       Oragne\n",
       "2         Plum\n",
       "3        Grape\n",
       "4    Blueberry\n",
       "dtype: object"
      ]
     },
     "execution_count": 11,
     "metadata": {},
     "output_type": "execute_result"
    }
   ],
   "source": [
    "pd.Series(fruits)"
   ]
  },
  {
   "cell_type": "code",
   "execution_count": 12,
   "metadata": {},
   "outputs": [
    {
     "data": {
      "text/plain": [
       "0        Apple\n",
       "1       Oragne\n",
       "2         Plum\n",
       "3        Grape\n",
       "4    Blueberry\n",
       "dtype: object"
      ]
     },
     "execution_count": 12,
     "metadata": {},
     "output_type": "execute_result"
    }
   ],
   "source": [
    "pd.Series(fruits, index=None)"
   ]
  },
  {
   "cell_type": "code",
   "execution_count": 13,
   "metadata": {},
   "outputs": [
    {
     "name": "stderr",
     "output_type": "stream",
     "text": [
      "<ipython-input-13-fa15c544da3b>:1: DeprecationWarning: The default dtype for empty Series will be 'object' instead of 'float64' in a future version. Specify a dtype explicitly to silence this warning.\n",
      "  pd.Series()\n"
     ]
    },
    {
     "data": {
      "text/plain": [
       "Series([], dtype: float64)"
      ]
     },
     "execution_count": 13,
     "metadata": {},
     "output_type": "execute_result"
    }
   ],
   "source": [
    "pd.Series()"
   ]
  },
  {
   "cell_type": "code",
   "execution_count": 14,
   "metadata": {},
   "outputs": [
    {
     "data": {
      "text/plain": [
       "Series([], dtype: object)"
      ]
     },
     "execution_count": 14,
     "metadata": {},
     "output_type": "execute_result"
    }
   ],
   "source": [
    "pd.Series(dtype=object)"
   ]
  },
  {
   "cell_type": "code",
   "execution_count": 16,
   "metadata": {},
   "outputs": [
    {
     "ename": "SyntaxError",
     "evalue": "positional argument follows keyword argument (<ipython-input-16-b9f3af4f8351>, line 4)",
     "output_type": "error",
     "traceback": [
      "\u001b[1;36m  File \u001b[1;32m\"<ipython-input-16-b9f3af4f8351>\"\u001b[1;36m, line \u001b[1;32m4\u001b[0m\n\u001b[1;33m    pd.Series(index=weekdays, fruits)\u001b[0m\n\u001b[1;37m                                    ^\u001b[0m\n\u001b[1;31mSyntaxError\u001b[0m\u001b[1;31m:\u001b[0m positional argument follows keyword argument\n"
     ]
    }
   ],
   "source": [
    "fruits = [\"Apple\", \"Oragne\", \"Plum\", \"Grape\", \"Blueberry\", \"Watermelon\"]\n",
    "weekdays = [\"Monday\", \"Thuesday\", \"Wenesday\", \"Thursday\", \"Friday\", \"monday\"]\n",
    "\n",
    "pd.Series(index=weekdays, fruits)"
   ]
  },
  {
   "cell_type": "code",
   "execution_count": 21,
   "metadata": {},
   "outputs": [],
   "source": [
    "fruits = [\"Apple\", \"Oragne\", \"Plum\", \"Grape\", \"Blueberry\", \"Watermelon\"]\n",
    "weekdays = [\"Monday\", \"Thuesday\", \"Wenesday\", \"Thursday\", \"Friday\", \"Monday\"]\n",
    "\n",
    "if len(fruits) == len(weekdays):\n",
    "    pd.Series(index=weekdays, data=fruits)"
   ]
  },
  {
   "cell_type": "code",
   "execution_count": 20,
   "metadata": {},
   "outputs": [
    {
     "data": {
      "text/plain": [
       "6"
      ]
     },
     "execution_count": 20,
     "metadata": {},
     "output_type": "execute_result"
    }
   ],
   "source": [
    "len(fruits)"
   ]
  },
  {
   "cell_type": "code",
   "execution_count": null,
   "metadata": {},
   "outputs": [],
   "source": []
  }
 ],
 "metadata": {
  "interpreter": {
   "hash": "0963322607b61fb85e60b3c63581df9ac5d2bad434271279b035d9d92170e8cb"
  },
  "kernelspec": {
   "display_name": "Python 3.9.5 64-bit",
   "language": "python",
   "name": "python3"
  },
  "language_info": {
   "codemirror_mode": {
    "name": "ipython",
    "version": 3
   },
   "file_extension": ".py",
   "mimetype": "text/x-python",
   "name": "python",
   "nbconvert_exporter": "python",
   "pygments_lexer": "ipython3",
   "version": "3.9.5"
  },
  "orig_nbformat": 4
 },
 "nbformat": 4,
 "nbformat_minor": 2
}
