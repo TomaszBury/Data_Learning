{
 "cells": [
  {
   "cell_type": "markdown",
   "metadata": {},
   "source": [
    "# The pd.DateOffset Object"
   ]
  },
  {
   "cell_type": "code",
   "execution_count": 1,
   "metadata": {},
   "outputs": [],
   "source": [
    "from pandas_datareader import data"
   ]
  },
  {
   "cell_type": "code",
   "execution_count": 2,
   "metadata": {},
   "outputs": [],
   "source": [
    "import pandas as pd"
   ]
  },
  {
   "cell_type": "code",
   "execution_count": 3,
   "metadata": {},
   "outputs": [],
   "source": [
    "stocks = data.DataReader(name='MSFT', data_source='yahoo', start='2010-01-01', end='2020-12-31')"
   ]
  },
  {
   "cell_type": "code",
   "execution_count": 4,
   "metadata": {},
   "outputs": [
    {
     "data": {
      "text/html": [
       "<div>\n",
       "<style scoped>\n",
       "    .dataframe tbody tr th:only-of-type {\n",
       "        vertical-align: middle;\n",
       "    }\n",
       "\n",
       "    .dataframe tbody tr th {\n",
       "        vertical-align: top;\n",
       "    }\n",
       "\n",
       "    .dataframe thead th {\n",
       "        text-align: right;\n",
       "    }\n",
       "</style>\n",
       "<table border=\"1\" class=\"dataframe\">\n",
       "  <thead>\n",
       "    <tr style=\"text-align: right;\">\n",
       "      <th></th>\n",
       "      <th>High</th>\n",
       "      <th>Low</th>\n",
       "      <th>Open</th>\n",
       "      <th>Close</th>\n",
       "      <th>Volume</th>\n",
       "      <th>Adj Close</th>\n",
       "    </tr>\n",
       "    <tr>\n",
       "      <th>Date</th>\n",
       "      <th></th>\n",
       "      <th></th>\n",
       "      <th></th>\n",
       "      <th></th>\n",
       "      <th></th>\n",
       "      <th></th>\n",
       "    </tr>\n",
       "  </thead>\n",
       "  <tbody>\n",
       "    <tr>\n",
       "      <th>2010-01-04</th>\n",
       "      <td>31.100000</td>\n",
       "      <td>30.590000</td>\n",
       "      <td>30.620001</td>\n",
       "      <td>30.950001</td>\n",
       "      <td>38409100.0</td>\n",
       "      <td>23.800232</td>\n",
       "    </tr>\n",
       "    <tr>\n",
       "      <th>2010-01-05</th>\n",
       "      <td>31.100000</td>\n",
       "      <td>30.639999</td>\n",
       "      <td>30.850000</td>\n",
       "      <td>30.959999</td>\n",
       "      <td>49749600.0</td>\n",
       "      <td>23.807915</td>\n",
       "    </tr>\n",
       "    <tr>\n",
       "      <th>2010-01-06</th>\n",
       "      <td>31.080000</td>\n",
       "      <td>30.520000</td>\n",
       "      <td>30.879999</td>\n",
       "      <td>30.770000</td>\n",
       "      <td>58182400.0</td>\n",
       "      <td>23.661802</td>\n",
       "    </tr>\n",
       "    <tr>\n",
       "      <th>2010-01-07</th>\n",
       "      <td>30.700001</td>\n",
       "      <td>30.190001</td>\n",
       "      <td>30.629999</td>\n",
       "      <td>30.450001</td>\n",
       "      <td>50559700.0</td>\n",
       "      <td>23.415730</td>\n",
       "    </tr>\n",
       "    <tr>\n",
       "      <th>2010-01-08</th>\n",
       "      <td>30.879999</td>\n",
       "      <td>30.240000</td>\n",
       "      <td>30.280001</td>\n",
       "      <td>30.660000</td>\n",
       "      <td>51197400.0</td>\n",
       "      <td>23.577213</td>\n",
       "    </tr>\n",
       "    <tr>\n",
       "      <th>2010-01-11</th>\n",
       "      <td>30.760000</td>\n",
       "      <td>30.120001</td>\n",
       "      <td>30.709999</td>\n",
       "      <td>30.270000</td>\n",
       "      <td>68754700.0</td>\n",
       "      <td>23.277313</td>\n",
       "    </tr>\n",
       "  </tbody>\n",
       "</table>\n",
       "</div>"
      ],
      "text/plain": [
       "                 High        Low       Open      Close      Volume  Adj Close\n",
       "Date                                                                         \n",
       "2010-01-04  31.100000  30.590000  30.620001  30.950001  38409100.0  23.800232\n",
       "2010-01-05  31.100000  30.639999  30.850000  30.959999  49749600.0  23.807915\n",
       "2010-01-06  31.080000  30.520000  30.879999  30.770000  58182400.0  23.661802\n",
       "2010-01-07  30.700001  30.190001  30.629999  30.450001  50559700.0  23.415730\n",
       "2010-01-08  30.879999  30.240000  30.280001  30.660000  51197400.0  23.577213\n",
       "2010-01-11  30.760000  30.120001  30.709999  30.270000  68754700.0  23.277313"
      ]
     },
     "execution_count": 4,
     "metadata": {},
     "output_type": "execute_result"
    }
   ],
   "source": [
    "stocks.head(n=6)"
   ]
  },
  {
   "cell_type": "code",
   "execution_count": 5,
   "metadata": {},
   "outputs": [
    {
     "data": {
      "text/plain": [
       "Date\n",
       "2010-01-04     36.100000\n",
       "2010-01-05     36.100000\n",
       "2010-01-06     36.080000\n",
       "2010-01-07     35.700001\n",
       "2010-01-08     35.879999\n",
       "                 ...    \n",
       "2020-12-24    228.610001\n",
       "2020-12-28    231.029999\n",
       "2020-12-29    232.179993\n",
       "2020-12-30    230.630005\n",
       "2020-12-31    228.000000\n",
       "Name: High, Length: 2769, dtype: float64"
      ]
     },
     "execution_count": 5,
     "metadata": {},
     "output_type": "execute_result"
    }
   ],
   "source": [
    "stocks['High'] + 5"
   ]
  },
  {
   "cell_type": "code",
   "execution_count": 6,
   "metadata": {},
   "outputs": [
    {
     "ename": "TypeError",
     "evalue": "Addition/subtraction of integers and integer-arrays with DatetimeArray is no longer supported.  Instead of adding/subtracting `n`, use `n * obj.freq`",
     "output_type": "error",
     "traceback": [
      "\u001b[1;31m---------------------------------------------------------------------------\u001b[0m",
      "\u001b[1;31mTypeError\u001b[0m                                 Traceback (most recent call last)",
      "\u001b[1;32mc:\\Users\\Tom\\iCloudDrive\\Nauka\\Python\\Pyton_files\\Data-Analysis-with-Pandas-and-Python\\section_11\\185.ipynb Cell 7\u001b[0m in \u001b[0;36m<module>\u001b[1;34m\u001b[0m\n\u001b[1;32m----> <a href='vscode-notebook-cell:/c%3A/Users/Tom/iCloudDrive/Nauka/Python/Pyton_files/Data-Analysis-with-Pandas-and-Python/section_11/185.ipynb#ch0000006?line=0'>1</a>\u001b[0m stocks\u001b[39m.\u001b[39;49mindex \u001b[39m+\u001b[39;49m \u001b[39m5\u001b[39;49m\n",
      "File \u001b[1;32mc:\\Users\\Tom\\AppData\\Local\\Programs\\Python\\Python310\\lib\\site-packages\\pandas\\core\\ops\\common.py:70\u001b[0m, in \u001b[0;36m_unpack_zerodim_and_defer.<locals>.new_method\u001b[1;34m(self, other)\u001b[0m\n\u001b[0;32m     66\u001b[0m             \u001b[39mreturn\u001b[39;00m \u001b[39mNotImplemented\u001b[39m\n\u001b[0;32m     68\u001b[0m other \u001b[39m=\u001b[39m item_from_zerodim(other)\n\u001b[1;32m---> 70\u001b[0m \u001b[39mreturn\u001b[39;00m method(\u001b[39mself\u001b[39;49m, other)\n",
      "File \u001b[1;32mc:\\Users\\Tom\\AppData\\Local\\Programs\\Python\\Python310\\lib\\site-packages\\pandas\\core\\arraylike.py:100\u001b[0m, in \u001b[0;36mOpsMixin.__add__\u001b[1;34m(self, other)\u001b[0m\n\u001b[0;32m     98\u001b[0m \u001b[39m@unpack_zerodim_and_defer\u001b[39m(\u001b[39m\"\u001b[39m\u001b[39m__add__\u001b[39m\u001b[39m\"\u001b[39m)\n\u001b[0;32m     99\u001b[0m \u001b[39mdef\u001b[39;00m \u001b[39m__add__\u001b[39m(\u001b[39mself\u001b[39m, other):\n\u001b[1;32m--> 100\u001b[0m     \u001b[39mreturn\u001b[39;00m \u001b[39mself\u001b[39;49m\u001b[39m.\u001b[39;49m_arith_method(other, operator\u001b[39m.\u001b[39;49madd)\n",
      "File \u001b[1;32mc:\\Users\\Tom\\AppData\\Local\\Programs\\Python\\Python310\\lib\\site-packages\\pandas\\core\\indexes\\base.py:6717\u001b[0m, in \u001b[0;36mIndex._arith_method\u001b[1;34m(self, other, op)\u001b[0m\n\u001b[0;32m   6707\u001b[0m \u001b[39mif\u001b[39;00m (\n\u001b[0;32m   6708\u001b[0m     \u001b[39misinstance\u001b[39m(other, Index)\n\u001b[0;32m   6709\u001b[0m     \u001b[39mand\u001b[39;00m is_object_dtype(other\u001b[39m.\u001b[39mdtype)\n\u001b[1;32m   (...)\u001b[0m\n\u001b[0;32m   6713\u001b[0m     \u001b[39m# a chance to implement ops before we unwrap them.\u001b[39;00m\n\u001b[0;32m   6714\u001b[0m     \u001b[39m# See https://github.com/pandas-dev/pandas/issues/31109\u001b[39;00m\n\u001b[0;32m   6715\u001b[0m     \u001b[39mreturn\u001b[39;00m \u001b[39mNotImplemented\u001b[39m\n\u001b[1;32m-> 6717\u001b[0m \u001b[39mreturn\u001b[39;00m \u001b[39msuper\u001b[39;49m()\u001b[39m.\u001b[39;49m_arith_method(other, op)\n",
      "File \u001b[1;32mc:\\Users\\Tom\\AppData\\Local\\Programs\\Python\\Python310\\lib\\site-packages\\pandas\\core\\base.py:1295\u001b[0m, in \u001b[0;36mIndexOpsMixin._arith_method\u001b[1;34m(self, other, op)\u001b[0m\n\u001b[0;32m   1292\u001b[0m rvalues \u001b[39m=\u001b[39m ensure_wrapped_if_datetimelike(rvalues)\n\u001b[0;32m   1294\u001b[0m \u001b[39mwith\u001b[39;00m np\u001b[39m.\u001b[39merrstate(\u001b[39mall\u001b[39m\u001b[39m=\u001b[39m\u001b[39m\"\u001b[39m\u001b[39mignore\u001b[39m\u001b[39m\"\u001b[39m):\n\u001b[1;32m-> 1295\u001b[0m     result \u001b[39m=\u001b[39m ops\u001b[39m.\u001b[39;49marithmetic_op(lvalues, rvalues, op)\n\u001b[0;32m   1297\u001b[0m \u001b[39mreturn\u001b[39;00m \u001b[39mself\u001b[39m\u001b[39m.\u001b[39m_construct_result(result, name\u001b[39m=\u001b[39mres_name)\n",
      "File \u001b[1;32mc:\\Users\\Tom\\AppData\\Local\\Programs\\Python\\Python310\\lib\\site-packages\\pandas\\core\\ops\\array_ops.py:216\u001b[0m, in \u001b[0;36marithmetic_op\u001b[1;34m(left, right, op)\u001b[0m\n\u001b[0;32m    203\u001b[0m \u001b[39m# NB: We assume that extract_array and ensure_wrapped_if_datetimelike\u001b[39;00m\n\u001b[0;32m    204\u001b[0m \u001b[39m#  have already been called on `left` and `right`,\u001b[39;00m\n\u001b[0;32m    205\u001b[0m \u001b[39m#  and `maybe_prepare_scalar_for_op` has already been called on `right`\u001b[39;00m\n\u001b[0;32m    206\u001b[0m \u001b[39m# We need to special-case datetime64/timedelta64 dtypes (e.g. because numpy\u001b[39;00m\n\u001b[0;32m    207\u001b[0m \u001b[39m# casts integer dtypes to timedelta64 when operating with timedelta64 - GH#22390)\u001b[39;00m\n\u001b[0;32m    209\u001b[0m \u001b[39mif\u001b[39;00m (\n\u001b[0;32m    210\u001b[0m     should_extension_dispatch(left, right)\n\u001b[0;32m    211\u001b[0m     \u001b[39mor\u001b[39;00m \u001b[39misinstance\u001b[39m(right, (Timedelta, BaseOffset, Timestamp))\n\u001b[1;32m   (...)\u001b[0m\n\u001b[0;32m    214\u001b[0m     \u001b[39m# Timedelta/Timestamp and other custom scalars are included in the check\u001b[39;00m\n\u001b[0;32m    215\u001b[0m     \u001b[39m# because numexpr will fail on it, see GH#31457\u001b[39;00m\n\u001b[1;32m--> 216\u001b[0m     res_values \u001b[39m=\u001b[39m op(left, right)\n\u001b[0;32m    217\u001b[0m \u001b[39melse\u001b[39;00m:\n\u001b[0;32m    218\u001b[0m     \u001b[39m# TODO we should handle EAs consistently and move this check before the if/else\u001b[39;00m\n\u001b[0;32m    219\u001b[0m     \u001b[39m# (https://github.com/pandas-dev/pandas/issues/41165)\u001b[39;00m\n\u001b[0;32m    220\u001b[0m     _bool_arith_check(op, left, right)\n",
      "File \u001b[1;32mc:\\Users\\Tom\\AppData\\Local\\Programs\\Python\\Python310\\lib\\site-packages\\pandas\\core\\ops\\common.py:70\u001b[0m, in \u001b[0;36m_unpack_zerodim_and_defer.<locals>.new_method\u001b[1;34m(self, other)\u001b[0m\n\u001b[0;32m     66\u001b[0m             \u001b[39mreturn\u001b[39;00m \u001b[39mNotImplemented\u001b[39m\n\u001b[0;32m     68\u001b[0m other \u001b[39m=\u001b[39m item_from_zerodim(other)\n\u001b[1;32m---> 70\u001b[0m \u001b[39mreturn\u001b[39;00m method(\u001b[39mself\u001b[39;49m, other)\n",
      "File \u001b[1;32mc:\\Users\\Tom\\AppData\\Local\\Programs\\Python\\Python310\\lib\\site-packages\\pandas\\core\\arrays\\datetimelike.py:1271\u001b[0m, in \u001b[0;36mDatetimeLikeArrayMixin.__add__\u001b[1;34m(self, other)\u001b[0m\n\u001b[0;32m   1267\u001b[0m \u001b[39melif\u001b[39;00m lib\u001b[39m.\u001b[39mis_integer(other):\n\u001b[0;32m   1268\u001b[0m     \u001b[39m# This check must come after the check for np.timedelta64\u001b[39;00m\n\u001b[0;32m   1269\u001b[0m     \u001b[39m# as is_integer returns True for these\u001b[39;00m\n\u001b[0;32m   1270\u001b[0m     \u001b[39mif\u001b[39;00m \u001b[39mnot\u001b[39;00m is_period_dtype(\u001b[39mself\u001b[39m\u001b[39m.\u001b[39mdtype):\n\u001b[1;32m-> 1271\u001b[0m         \u001b[39mraise\u001b[39;00m integer_op_not_supported(\u001b[39mself\u001b[39m)\n\u001b[0;32m   1272\u001b[0m     result \u001b[39m=\u001b[39m \u001b[39mself\u001b[39m\u001b[39m.\u001b[39m_time_shift(other)\n\u001b[0;32m   1274\u001b[0m \u001b[39m# array-like others\u001b[39;00m\n",
      "\u001b[1;31mTypeError\u001b[0m: Addition/subtraction of integers and integer-arrays with DatetimeArray is no longer supported.  Instead of adding/subtracting `n`, use `n * obj.freq`"
     ]
    }
   ],
   "source": [
    "stocks.index + 5"
   ]
  },
  {
   "cell_type": "code",
   "execution_count": 7,
   "metadata": {},
   "outputs": [
    {
     "data": {
      "text/plain": [
       "DatetimeIndex(['2010-01-09', '2010-01-10', '2010-01-11', '2010-01-12',\n",
       "               '2010-01-13', '2010-01-16', '2010-01-17', '2010-01-18',\n",
       "               '2010-01-19', '2010-01-20',\n",
       "               ...\n",
       "               '2020-12-22', '2020-12-23', '2020-12-26', '2020-12-27',\n",
       "               '2020-12-28', '2020-12-29', '2021-01-02', '2021-01-03',\n",
       "               '2021-01-04', '2021-01-05'],\n",
       "              dtype='datetime64[ns]', name='Date', length=2769, freq=None)"
      ]
     },
     "execution_count": 7,
     "metadata": {},
     "output_type": "execute_result"
    }
   ],
   "source": [
    "stocks.index + pd.DateOffset(days = 5)"
   ]
  },
  {
   "cell_type": "code",
   "execution_count": 8,
   "metadata": {},
   "outputs": [
    {
     "data": {
      "text/plain": [
       "DatetimeIndex(['2009-12-30', '2009-12-31', '2010-01-01', '2010-01-02',\n",
       "               '2010-01-03', '2010-01-06', '2010-01-07', '2010-01-08',\n",
       "               '2010-01-09', '2010-01-10',\n",
       "               ...\n",
       "               '2020-12-12', '2020-12-13', '2020-12-16', '2020-12-17',\n",
       "               '2020-12-18', '2020-12-19', '2020-12-23', '2020-12-24',\n",
       "               '2020-12-25', '2020-12-26'],\n",
       "              dtype='datetime64[ns]', name='Date', length=2769, freq=None)"
      ]
     },
     "execution_count": 8,
     "metadata": {},
     "output_type": "execute_result"
    }
   ],
   "source": [
    "stocks.index  - pd.DateOffset(days=5)"
   ]
  },
  {
   "cell_type": "code",
   "execution_count": 9,
   "metadata": {},
   "outputs": [
    {
     "data": {
      "text/plain": [
       "DatetimeIndex(['2010-01-04', '2010-01-05', '2010-01-06', '2010-01-07',\n",
       "               '2010-01-08', '2010-01-11', '2010-01-12', '2010-01-13',\n",
       "               '2010-01-14', '2010-01-15',\n",
       "               ...\n",
       "               '2020-12-17', '2020-12-18', '2020-12-21', '2020-12-22',\n",
       "               '2020-12-23', '2020-12-24', '2020-12-28', '2020-12-29',\n",
       "               '2020-12-30', '2020-12-31'],\n",
       "              dtype='datetime64[ns]', name='Date', length=2769, freq=None)"
      ]
     },
     "execution_count": 9,
     "metadata": {},
     "output_type": "execute_result"
    }
   ],
   "source": [
    "stocks.index"
   ]
  },
  {
   "cell_type": "code",
   "execution_count": 10,
   "metadata": {},
   "outputs": [
    {
     "data": {
      "text/plain": [
       "DatetimeIndex(['2010-01-18', '2010-01-19', '2010-01-20', '2010-01-21',\n",
       "               '2010-01-22', '2010-01-25', '2010-01-26', '2010-01-27',\n",
       "               '2010-01-28', '2010-01-29',\n",
       "               ...\n",
       "               '2020-12-31', '2021-01-01', '2021-01-04', '2021-01-05',\n",
       "               '2021-01-06', '2021-01-07', '2021-01-11', '2021-01-12',\n",
       "               '2021-01-13', '2021-01-14'],\n",
       "              dtype='datetime64[ns]', name='Date', length=2769, freq=None)"
      ]
     },
     "execution_count": 10,
     "metadata": {},
     "output_type": "execute_result"
    }
   ],
   "source": [
    "stocks.index + pd.DateOffset(weeks = 2)"
   ]
  },
  {
   "cell_type": "code",
   "execution_count": 12,
   "metadata": {},
   "outputs": [
    {
     "data": {
      "text/plain": [
       "DatetimeIndex(['2010-03-04', '2010-03-05', '2010-03-06', '2010-03-07',\n",
       "               '2010-03-08', '2010-03-11', '2010-03-12', '2010-03-13',\n",
       "               '2010-03-14', '2010-03-15',\n",
       "               ...\n",
       "               '2021-02-17', '2021-02-18', '2021-02-21', '2021-02-22',\n",
       "               '2021-02-23', '2021-02-24', '2021-02-28', '2021-02-28',\n",
       "               '2021-02-28', '2021-02-28'],\n",
       "              dtype='datetime64[ns]', name='Date', length=2769, freq=None)"
      ]
     },
     "execution_count": 12,
     "metadata": {},
     "output_type": "execute_result"
    }
   ],
   "source": [
    "stocks.index + pd.DateOffset(months = 2)"
   ]
  },
  {
   "cell_type": "code",
   "execution_count": 13,
   "metadata": {},
   "outputs": [
    {
     "data": {
      "text/plain": [
       "DatetimeIndex(['2009-08-04', '2009-08-05', '2009-08-06', '2009-08-07',\n",
       "               '2009-08-08', '2009-08-11', '2009-08-12', '2009-08-13',\n",
       "               '2009-08-14', '2009-08-15',\n",
       "               ...\n",
       "               '2020-07-17', '2020-07-18', '2020-07-21', '2020-07-22',\n",
       "               '2020-07-23', '2020-07-24', '2020-07-28', '2020-07-29',\n",
       "               '2020-07-30', '2020-07-31'],\n",
       "              dtype='datetime64[ns]', name='Date', length=2769, freq=None)"
      ]
     },
     "execution_count": 13,
     "metadata": {},
     "output_type": "execute_result"
    }
   ],
   "source": [
    "stocks.index - pd.DateOffset(months = 5)"
   ]
  },
  {
   "cell_type": "code",
   "execution_count": 15,
   "metadata": {},
   "outputs": [
    {
     "data": {
      "text/plain": [
       "DatetimeIndex(['2013-03-14 06:02:00', '2013-03-15 06:02:00',\n",
       "               '2013-03-16 06:02:00', '2013-03-17 06:02:00',\n",
       "               '2013-03-18 06:02:00', '2013-03-21 06:02:00',\n",
       "               '2013-03-22 06:02:00', '2013-03-23 06:02:00',\n",
       "               '2013-03-24 06:02:00', '2013-03-25 06:02:00',\n",
       "               ...\n",
       "               '2024-02-27 06:02:00', '2024-02-28 06:02:00',\n",
       "               '2024-03-02 06:02:00', '2024-03-03 06:02:00',\n",
       "               '2024-03-04 06:02:00', '2024-03-05 06:02:00',\n",
       "               '2024-03-09 06:02:00', '2024-03-10 06:02:00',\n",
       "               '2024-03-10 06:02:00', '2024-03-10 06:02:00'],\n",
       "              dtype='datetime64[ns]', name='Date', length=2769, freq=None)"
      ]
     },
     "execution_count": 15,
     "metadata": {},
     "output_type": "execute_result"
    }
   ],
   "source": [
    "stocks.index + pd.DateOffset(months = 2, years=3, days=10, hours=6, minutes=2)"
   ]
  },
  {
   "cell_type": "code",
   "execution_count": 17,
   "metadata": {},
   "outputs": [
    {
     "data": {
      "text/plain": [
       "DatetimeIndex(['2006-10-24 17:57:34', '2006-10-25 17:57:34',\n",
       "               '2006-10-26 17:57:34', '2006-10-27 17:57:34',\n",
       "               '2006-10-28 17:57:34', '2006-10-31 17:57:34',\n",
       "               '2006-11-01 17:57:34', '2006-11-02 17:57:34',\n",
       "               '2006-11-03 17:57:34', '2006-11-04 17:57:34',\n",
       "               ...\n",
       "               '2017-10-06 17:57:34', '2017-10-07 17:57:34',\n",
       "               '2017-10-10 17:57:34', '2017-10-11 17:57:34',\n",
       "               '2017-10-12 17:57:34', '2017-10-13 17:57:34',\n",
       "               '2017-10-17 17:57:34', '2017-10-18 17:57:34',\n",
       "               '2017-10-19 17:57:34', '2017-10-20 17:57:34'],\n",
       "              dtype='datetime64[ns]', name='Date', length=2769, freq=None)"
      ]
     },
     "execution_count": 17,
     "metadata": {},
     "output_type": "execute_result"
    }
   ],
   "source": [
    "stocks.index - pd.DateOffset(months = 2, years=3, days=10, hours=6, minutes=2, seconds=26)"
   ]
  },
  {
   "cell_type": "code",
   "execution_count": null,
   "metadata": {},
   "outputs": [],
   "source": []
  }
 ],
 "metadata": {
  "kernelspec": {
   "display_name": "Python 3.10.5 64-bit",
   "language": "python",
   "name": "python3"
  },
  "language_info": {
   "codemirror_mode": {
    "name": "ipython",
    "version": 3
   },
   "file_extension": ".py",
   "mimetype": "text/x-python",
   "name": "python",
   "nbconvert_exporter": "python",
   "pygments_lexer": "ipython3",
   "version": "3.10.5"
  },
  "orig_nbformat": 4,
  "vscode": {
   "interpreter": {
    "hash": "722b6f501d3291d098eeb116c55030d7476387c4156a20534e17b28f07582bab"
   }
  }
 },
 "nbformat": 4,
 "nbformat_minor": 2
}
