{
 "cells": [
  {
   "cell_type": "code",
   "execution_count": 1,
   "metadata": {},
   "outputs": [],
   "source": [
    "# Timeseries offsets"
   ]
  },
  {
   "cell_type": "code",
   "execution_count": 3,
   "metadata": {},
   "outputs": [],
   "source": [
    "from pandas_datareader import data\n",
    "import pandas as pd"
   ]
  },
  {
   "cell_type": "code",
   "execution_count": 5,
   "metadata": {},
   "outputs": [
    {
     "data": {
      "text/html": [
       "<div>\n",
       "<style scoped>\n",
       "    .dataframe tbody tr th:only-of-type {\n",
       "        vertical-align: middle;\n",
       "    }\n",
       "\n",
       "    .dataframe tbody tr th {\n",
       "        vertical-align: top;\n",
       "    }\n",
       "\n",
       "    .dataframe thead th {\n",
       "        text-align: right;\n",
       "    }\n",
       "</style>\n",
       "<table border=\"1\" class=\"dataframe\">\n",
       "  <thead>\n",
       "    <tr style=\"text-align: right;\">\n",
       "      <th></th>\n",
       "      <th>High</th>\n",
       "      <th>Low</th>\n",
       "      <th>Open</th>\n",
       "      <th>Close</th>\n",
       "      <th>Volume</th>\n",
       "      <th>Adj Close</th>\n",
       "    </tr>\n",
       "    <tr>\n",
       "      <th>Date</th>\n",
       "      <th></th>\n",
       "      <th></th>\n",
       "      <th></th>\n",
       "      <th></th>\n",
       "      <th></th>\n",
       "      <th></th>\n",
       "    </tr>\n",
       "  </thead>\n",
       "  <tbody>\n",
       "    <tr>\n",
       "      <th>2010-01-04</th>\n",
       "      <td>31.10</td>\n",
       "      <td>30.590000</td>\n",
       "      <td>30.620001</td>\n",
       "      <td>30.950001</td>\n",
       "      <td>38409100.0</td>\n",
       "      <td>23.800232</td>\n",
       "    </tr>\n",
       "    <tr>\n",
       "      <th>2010-01-05</th>\n",
       "      <td>31.10</td>\n",
       "      <td>30.639999</td>\n",
       "      <td>30.850000</td>\n",
       "      <td>30.959999</td>\n",
       "      <td>49749600.0</td>\n",
       "      <td>23.807909</td>\n",
       "    </tr>\n",
       "    <tr>\n",
       "      <th>2010-01-06</th>\n",
       "      <td>31.08</td>\n",
       "      <td>30.520000</td>\n",
       "      <td>30.879999</td>\n",
       "      <td>30.770000</td>\n",
       "      <td>58182400.0</td>\n",
       "      <td>23.661802</td>\n",
       "    </tr>\n",
       "  </tbody>\n",
       "</table>\n",
       "</div>"
      ],
      "text/plain": [
       "             High        Low       Open      Close      Volume  Adj Close\n",
       "Date                                                                     \n",
       "2010-01-04  31.10  30.590000  30.620001  30.950001  38409100.0  23.800232\n",
       "2010-01-05  31.10  30.639999  30.850000  30.959999  49749600.0  23.807909\n",
       "2010-01-06  31.08  30.520000  30.879999  30.770000  58182400.0  23.661802"
      ]
     },
     "execution_count": 5,
     "metadata": {},
     "output_type": "execute_result"
    }
   ],
   "source": [
    "stocks = data.DataReader(name='MSFT', data_source='yahoo', start='2010-01-01', end='2022-12-31')\n",
    "stocks.head(n=3)"
   ]
  },
  {
   "cell_type": "code",
   "execution_count": 6,
   "metadata": {},
   "outputs": [
    {
     "data": {
      "text/plain": [
       "DatetimeIndex(['2010-01-04', '2010-01-05', '2010-01-06', '2010-01-07',\n",
       "               '2010-01-08', '2010-01-11', '2010-01-12', '2010-01-13',\n",
       "               '2010-01-14', '2010-01-15',\n",
       "               ...\n",
       "               '2022-07-18', '2022-07-19', '2022-07-20', '2022-07-21',\n",
       "               '2022-07-22', '2022-07-25', '2022-07-26', '2022-07-27',\n",
       "               '2022-07-28', '2022-07-29'],\n",
       "              dtype='datetime64[ns]', name='Date', length=3165, freq=None)"
      ]
     },
     "execution_count": 6,
     "metadata": {},
     "output_type": "execute_result"
    }
   ],
   "source": [
    "stocks.index"
   ]
  },
  {
   "cell_type": "code",
   "execution_count": 7,
   "metadata": {},
   "outputs": [
    {
     "data": {
      "text/plain": [
       "DatetimeIndex(['2010-01-31', '2010-01-31', '2010-01-31', '2010-01-31',\n",
       "               '2010-01-31', '2010-01-31', '2010-01-31', '2010-01-31',\n",
       "               '2010-01-31', '2010-01-31',\n",
       "               ...\n",
       "               '2022-07-31', '2022-07-31', '2022-07-31', '2022-07-31',\n",
       "               '2022-07-31', '2022-07-31', '2022-07-31', '2022-07-31',\n",
       "               '2022-07-31', '2022-07-31'],\n",
       "              dtype='datetime64[ns]', name='Date', length=3165, freq=None)"
      ]
     },
     "execution_count": 7,
     "metadata": {},
     "output_type": "execute_result"
    }
   ],
   "source": [
    "stocks.index + pd.tseries.offsets.MonthEnd()"
   ]
  },
  {
   "cell_type": "code",
   "execution_count": 8,
   "metadata": {},
   "outputs": [
    {
     "data": {
      "text/html": [
       "<div>\n",
       "<style scoped>\n",
       "    .dataframe tbody tr th:only-of-type {\n",
       "        vertical-align: middle;\n",
       "    }\n",
       "\n",
       "    .dataframe tbody tr th {\n",
       "        vertical-align: top;\n",
       "    }\n",
       "\n",
       "    .dataframe thead th {\n",
       "        text-align: right;\n",
       "    }\n",
       "</style>\n",
       "<table border=\"1\" class=\"dataframe\">\n",
       "  <thead>\n",
       "    <tr style=\"text-align: right;\">\n",
       "      <th></th>\n",
       "      <th>High</th>\n",
       "      <th>Low</th>\n",
       "      <th>Open</th>\n",
       "      <th>Close</th>\n",
       "      <th>Volume</th>\n",
       "      <th>Adj Close</th>\n",
       "    </tr>\n",
       "    <tr>\n",
       "      <th>Date</th>\n",
       "      <th></th>\n",
       "      <th></th>\n",
       "      <th></th>\n",
       "      <th></th>\n",
       "      <th></th>\n",
       "      <th></th>\n",
       "    </tr>\n",
       "  </thead>\n",
       "  <tbody>\n",
       "    <tr>\n",
       "      <th>2022-07-25</th>\n",
       "      <td>261.500000</td>\n",
       "      <td>256.809998</td>\n",
       "      <td>261.000000</td>\n",
       "      <td>258.829987</td>\n",
       "      <td>21056000.0</td>\n",
       "      <td>258.829987</td>\n",
       "    </tr>\n",
       "    <tr>\n",
       "      <th>2022-07-26</th>\n",
       "      <td>259.880005</td>\n",
       "      <td>249.570007</td>\n",
       "      <td>259.859985</td>\n",
       "      <td>251.899994</td>\n",
       "      <td>39348000.0</td>\n",
       "      <td>251.899994</td>\n",
       "    </tr>\n",
       "    <tr>\n",
       "      <th>2022-07-27</th>\n",
       "      <td>270.049988</td>\n",
       "      <td>258.850006</td>\n",
       "      <td>261.160004</td>\n",
       "      <td>268.739990</td>\n",
       "      <td>45994000.0</td>\n",
       "      <td>268.739990</td>\n",
       "    </tr>\n",
       "    <tr>\n",
       "      <th>2022-07-28</th>\n",
       "      <td>277.839996</td>\n",
       "      <td>267.869995</td>\n",
       "      <td>269.750000</td>\n",
       "      <td>276.410004</td>\n",
       "      <td>33459300.0</td>\n",
       "      <td>276.410004</td>\n",
       "    </tr>\n",
       "    <tr>\n",
       "      <th>2022-07-29</th>\n",
       "      <td>282.000000</td>\n",
       "      <td>276.630005</td>\n",
       "      <td>277.700012</td>\n",
       "      <td>280.739990</td>\n",
       "      <td>32129400.0</td>\n",
       "      <td>280.739990</td>\n",
       "    </tr>\n",
       "  </tbody>\n",
       "</table>\n",
       "</div>"
      ],
      "text/plain": [
       "                  High         Low  ...      Volume   Adj Close\n",
       "Date                                ...                        \n",
       "2022-07-25  261.500000  256.809998  ...  21056000.0  258.829987\n",
       "2022-07-26  259.880005  249.570007  ...  39348000.0  251.899994\n",
       "2022-07-27  270.049988  258.850006  ...  45994000.0  268.739990\n",
       "2022-07-28  277.839996  267.869995  ...  33459300.0  276.410004\n",
       "2022-07-29  282.000000  276.630005  ...  32129400.0  280.739990\n",
       "\n",
       "[5 rows x 6 columns]"
      ]
     },
     "execution_count": 8,
     "metadata": {},
     "output_type": "execute_result"
    }
   ],
   "source": [
    "stocks.tail()"
   ]
  },
  {
   "cell_type": "code",
   "execution_count": 9,
   "metadata": {},
   "outputs": [
    {
     "data": {
      "text/plain": [
       "DatetimeIndex(['2009-12-31', '2009-12-31', '2009-12-31', '2009-12-31',\n",
       "               '2009-12-31', '2009-12-31', '2009-12-31', '2009-12-31',\n",
       "               '2009-12-31', '2009-12-31',\n",
       "               ...\n",
       "               '2022-06-30', '2022-06-30', '2022-06-30', '2022-06-30',\n",
       "               '2022-06-30', '2022-06-30', '2022-06-30', '2022-06-30',\n",
       "               '2022-06-30', '2022-06-30'],\n",
       "              dtype='datetime64[ns]', name='Date', length=3165, freq=None)"
      ]
     },
     "execution_count": 9,
     "metadata": {},
     "output_type": "execute_result"
    }
   ],
   "source": [
    "stocks.index - pd.tseries.offsets.MonthEnd()"
   ]
  },
  {
   "cell_type": "code",
   "execution_count": 10,
   "metadata": {},
   "outputs": [
    {
     "data": {
      "text/plain": [
       "DatetimeIndex(['2010-02-01', '2010-02-01', '2010-02-01', '2010-02-01',\n",
       "               '2010-02-01', '2010-02-01', '2010-02-01', '2010-02-01',\n",
       "               '2010-02-01', '2010-02-01',\n",
       "               ...\n",
       "               '2022-08-01', '2022-08-01', '2022-08-01', '2022-08-01',\n",
       "               '2022-08-01', '2022-08-01', '2022-08-01', '2022-08-01',\n",
       "               '2022-08-01', '2022-08-01'],\n",
       "              dtype='datetime64[ns]', name='Date', length=3165, freq=None)"
      ]
     },
     "execution_count": 10,
     "metadata": {},
     "output_type": "execute_result"
    }
   ],
   "source": [
    "stocks.index + pd.tseries.offsets.MonthBegin()"
   ]
  },
  {
   "cell_type": "code",
   "execution_count": 11,
   "metadata": {},
   "outputs": [
    {
     "data": {
      "text/plain": [
       "DatetimeIndex(['2010-01-01', '2010-01-01', '2010-01-01', '2010-01-01',\n",
       "               '2010-01-01', '2010-01-01', '2010-01-01', '2010-01-01',\n",
       "               '2010-01-01', '2010-01-01',\n",
       "               ...\n",
       "               '2022-07-01', '2022-07-01', '2022-07-01', '2022-07-01',\n",
       "               '2022-07-01', '2022-07-01', '2022-07-01', '2022-07-01',\n",
       "               '2022-07-01', '2022-07-01'],\n",
       "              dtype='datetime64[ns]', name='Date', length=3165, freq=None)"
      ]
     },
     "execution_count": 11,
     "metadata": {},
     "output_type": "execute_result"
    }
   ],
   "source": [
    "stocks.index - pd.tseries.offsets.MonthBegin()"
   ]
  },
  {
   "cell_type": "code",
   "execution_count": 12,
   "metadata": {},
   "outputs": [],
   "source": [
    "from pandas.tseries import offsets"
   ]
  },
  {
   "cell_type": "code",
   "execution_count": 13,
   "metadata": {},
   "outputs": [
    {
     "data": {
      "text/plain": [
       "DatetimeIndex(['2010-01-31', '2010-01-31', '2010-01-31', '2010-01-31',\n",
       "               '2010-01-31', '2010-01-31', '2010-01-31', '2010-01-31',\n",
       "               '2010-01-31', '2010-01-31',\n",
       "               ...\n",
       "               '2022-07-31', '2022-07-31', '2022-07-31', '2022-07-31',\n",
       "               '2022-07-31', '2022-07-31', '2022-07-31', '2022-07-31',\n",
       "               '2022-07-31', '2022-07-31'],\n",
       "              dtype='datetime64[ns]', name='Date', length=3165, freq=None)"
      ]
     },
     "execution_count": 13,
     "metadata": {},
     "output_type": "execute_result"
    }
   ],
   "source": [
    "stocks.index + offsets.MonthEnd()"
   ]
  },
  {
   "cell_type": "code",
   "execution_count": 15,
   "metadata": {},
   "outputs": [
    {
     "data": {
      "text/plain": [
       "DatetimeIndex(['2010-01-29', '2010-01-29', '2010-01-29', '2010-01-29',\n",
       "               '2010-01-29', '2010-01-29', '2010-01-29', '2010-01-29',\n",
       "               '2010-01-29', '2010-01-29',\n",
       "               ...\n",
       "               '2022-07-29', '2022-07-29', '2022-07-29', '2022-07-29',\n",
       "               '2022-07-29', '2022-07-29', '2022-07-29', '2022-07-29',\n",
       "               '2022-07-29', '2022-08-31'],\n",
       "              dtype='datetime64[ns]', name='Date', length=3165, freq=None)"
      ]
     },
     "execution_count": 15,
     "metadata": {},
     "output_type": "execute_result"
    }
   ],
   "source": [
    "stocks.index + offsets.BMonthEnd()"
   ]
  },
  {
   "cell_type": "code",
   "execution_count": 16,
   "metadata": {},
   "outputs": [
    {
     "data": {
      "text/plain": [
       "DatetimeIndex(['2009-12-31', '2009-12-31', '2009-12-31', '2009-12-31',\n",
       "               '2009-12-31', '2009-12-31', '2009-12-31', '2009-12-31',\n",
       "               '2009-12-31', '2009-12-31',\n",
       "               ...\n",
       "               '2022-06-30', '2022-06-30', '2022-06-30', '2022-06-30',\n",
       "               '2022-06-30', '2022-06-30', '2022-06-30', '2022-06-30',\n",
       "               '2022-06-30', '2022-06-30'],\n",
       "              dtype='datetime64[ns]', name='Date', length=3165, freq=None)"
      ]
     },
     "execution_count": 16,
     "metadata": {},
     "output_type": "execute_result"
    }
   ],
   "source": [
    "stocks.index - offsets.BMonthEnd()"
   ]
  },
  {
   "cell_type": "code",
   "execution_count": 18,
   "metadata": {},
   "outputs": [
    {
     "data": {
      "text/plain": [
       "DatetimeIndex(['2010-03-01', '2010-03-01', '2010-03-01', '2010-03-01',\n",
       "               '2010-03-01', '2010-03-01', '2010-03-01', '2010-03-01',\n",
       "               '2010-03-01', '2010-03-01',\n",
       "               ...\n",
       "               '2022-09-01', '2022-09-01', '2022-09-01', '2022-09-01',\n",
       "               '2022-09-01', '2022-09-01', '2022-09-01', '2022-09-01',\n",
       "               '2022-09-01', '2022-09-01'],\n",
       "              dtype='datetime64[ns]', name='Date', length=3165, freq=None)"
      ]
     },
     "execution_count": 18,
     "metadata": {},
     "output_type": "execute_result"
    }
   ],
   "source": [
    "stocks.index + offsets.BQuarterBegin()"
   ]
  },
  {
   "cell_type": "code",
   "execution_count": 19,
   "metadata": {},
   "outputs": [
    {
     "data": {
      "text/plain": [
       "DatetimeIndex(['2010-12-31', '2010-12-31', '2010-12-31', '2010-12-31',\n",
       "               '2010-12-31', '2010-12-31', '2010-12-31', '2010-12-31',\n",
       "               '2010-12-31', '2010-12-31',\n",
       "               ...\n",
       "               '2022-12-31', '2022-12-31', '2022-12-31', '2022-12-31',\n",
       "               '2022-12-31', '2022-12-31', '2022-12-31', '2022-12-31',\n",
       "               '2022-12-31', '2022-12-31'],\n",
       "              dtype='datetime64[ns]', name='Date', length=3165, freq=None)"
      ]
     },
     "execution_count": 19,
     "metadata": {},
     "output_type": "execute_result"
    }
   ],
   "source": [
    "stocks.index + offsets.YearEnd()"
   ]
  },
  {
   "cell_type": "code",
   "execution_count": 20,
   "metadata": {},
   "outputs": [
    {
     "data": {
      "text/plain": [
       "DatetimeIndex(['2010-01-01', '2010-01-01', '2010-01-01', '2010-01-01',\n",
       "               '2010-01-01', '2010-01-01', '2010-01-01', '2010-01-01',\n",
       "               '2010-01-01', '2010-01-01',\n",
       "               ...\n",
       "               '2022-01-01', '2022-01-01', '2022-01-01', '2022-01-01',\n",
       "               '2022-01-01', '2022-01-01', '2022-01-01', '2022-01-01',\n",
       "               '2022-01-01', '2022-01-01'],\n",
       "              dtype='datetime64[ns]', name='Date', length=3165, freq=None)"
      ]
     },
     "execution_count": 20,
     "metadata": {},
     "output_type": "execute_result"
    }
   ],
   "source": [
    "stocks.index - offsets.YearBegin()"
   ]
  },
  {
   "cell_type": "code",
   "execution_count": null,
   "metadata": {},
   "outputs": [],
   "source": []
  }
 ],
 "metadata": {
  "kernelspec": {
   "display_name": "Python 3.10.5 64-bit",
   "language": "python",
   "name": "python3"
  },
  "language_info": {
   "codemirror_mode": {
    "name": "ipython",
    "version": 3
   },
   "file_extension": ".py",
   "mimetype": "text/x-python",
   "name": "python",
   "nbconvert_exporter": "python",
   "pygments_lexer": "ipython3",
   "version": "3.10.5"
  },
  "orig_nbformat": 4,
  "vscode": {
   "interpreter": {
    "hash": "722b6f501d3291d098eeb116c55030d7476387c4156a20534e17b28f07582bab"
   }
  }
 },
 "nbformat": 4,
 "nbformat_minor": 2
}
