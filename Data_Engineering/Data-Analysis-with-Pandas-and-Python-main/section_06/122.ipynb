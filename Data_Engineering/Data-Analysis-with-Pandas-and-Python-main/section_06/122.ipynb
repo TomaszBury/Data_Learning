{
 "cells": [
  {
   "cell_type": "markdown",
   "metadata": {},
   "source": [
    "# A Review of the .apply() Mehod on Single Columns"
   ]
  },
  {
   "cell_type": "code",
   "execution_count": 3,
   "metadata": {},
   "outputs": [
    {
     "data": {
      "text/html": [
       "<div>\n",
       "<style scoped>\n",
       "    .dataframe tbody tr th:only-of-type {\n",
       "        vertical-align: middle;\n",
       "    }\n",
       "\n",
       "    .dataframe tbody tr th {\n",
       "        vertical-align: top;\n",
       "    }\n",
       "\n",
       "    .dataframe thead th {\n",
       "        text-align: right;\n",
       "    }\n",
       "</style>\n",
       "<table border=\"1\" class=\"dataframe\">\n",
       "  <thead>\n",
       "    <tr style=\"text-align: right;\">\n",
       "      <th></th>\n",
       "      <th>Year</th>\n",
       "      <th>Actor</th>\n",
       "      <th>Director</th>\n",
       "      <th>Box Office</th>\n",
       "      <th>Budget</th>\n",
       "      <th>Bond Actor Salary</th>\n",
       "    </tr>\n",
       "    <tr>\n",
       "      <th>Film</th>\n",
       "      <th></th>\n",
       "      <th></th>\n",
       "      <th></th>\n",
       "      <th></th>\n",
       "      <th></th>\n",
       "      <th></th>\n",
       "    </tr>\n",
       "  </thead>\n",
       "  <tbody>\n",
       "    <tr>\n",
       "      <th>A View to a Kill</th>\n",
       "      <td>1985</td>\n",
       "      <td>Roger Moore</td>\n",
       "      <td>John Glen</td>\n",
       "      <td>275.2</td>\n",
       "      <td>54.5</td>\n",
       "      <td>9.1</td>\n",
       "    </tr>\n",
       "    <tr>\n",
       "      <th>Casino Royale</th>\n",
       "      <td>2006</td>\n",
       "      <td>Daniel Craig</td>\n",
       "      <td>Martin Campbell</td>\n",
       "      <td>581.5</td>\n",
       "      <td>145.3</td>\n",
       "      <td>3.3</td>\n",
       "    </tr>\n",
       "  </tbody>\n",
       "</table>\n",
       "</div>"
      ],
      "text/plain": [
       "                  Year         Actor         Director  Box Office  Budget  \\\n",
       "Film                                                                        \n",
       "A View to a Kill  1985   Roger Moore        John Glen       275.2    54.5   \n",
       "Casino Royale     2006  Daniel Craig  Martin Campbell       581.5   145.3   \n",
       "\n",
       "                  Bond Actor Salary  \n",
       "Film                                 \n",
       "A View to a Kill                9.1  \n",
       "Casino Royale                   3.3  "
      ]
     },
     "execution_count": 3,
     "metadata": {},
     "output_type": "execute_result"
    }
   ],
   "source": [
    "import pandas as pd\n",
    "james_bond = pd.read_csv('jamesbond.csv', index_col='Film')\n",
    "james_bond = james_bond.sort_index()\n",
    "james_bond.head(n=2)"
   ]
  },
  {
   "cell_type": "code",
   "execution_count": 1,
   "metadata": {},
   "outputs": [],
   "source": [
    "def convert_to_string_and_add_millions(number):\n",
    "    return str(number) + ' MILLIONS!'"
   ]
  },
  {
   "cell_type": "code",
   "execution_count": 4,
   "metadata": {},
   "outputs": [
    {
     "data": {
      "text/plain": [
       "Film\n",
       "A View to a Kill                   275.2 MILLIONS!\n",
       "Casino Royale                      581.5 MILLIONS!\n",
       "Casino Royale                      315.0 MILLIONS!\n",
       "Diamonds Are Forever               442.5 MILLIONS!\n",
       "Die Another Day                    465.4 MILLIONS!\n",
       "Dr. No                             448.8 MILLIONS!\n",
       "For Your Eyes Only                 449.4 MILLIONS!\n",
       "From Russia with Love              543.8 MILLIONS!\n",
       "GoldenEye                          518.5 MILLIONS!\n",
       "Goldfinger                         820.4 MILLIONS!\n",
       "Licence to Kill                    250.9 MILLIONS!\n",
       "Live and Let Die                   460.3 MILLIONS!\n",
       "Moonraker                          535.0 MILLIONS!\n",
       "Never Say Never Again              380.0 MILLIONS!\n",
       "Octopussy                          373.8 MILLIONS!\n",
       "On Her Majesty's Secret Service    291.5 MILLIONS!\n",
       "Quantum of Solace                  514.2 MILLIONS!\n",
       "Skyfall                            943.5 MILLIONS!\n",
       "Spectre                            726.7 MILLIONS!\n",
       "The Living Daylights               313.5 MILLIONS!\n",
       "The Man with the Golden Gun        334.0 MILLIONS!\n",
       "The Spy Who Loved Me               533.0 MILLIONS!\n",
       "The World Is Not Enough            439.5 MILLIONS!\n",
       "Thunderball                        848.1 MILLIONS!\n",
       "Tomorrow Never Dies                463.2 MILLIONS!\n",
       "You Only Live Twice                514.2 MILLIONS!\n",
       "Name: Box Office, dtype: object"
      ]
     },
     "execution_count": 4,
     "metadata": {},
     "output_type": "execute_result"
    }
   ],
   "source": [
    "james_bond['Box Office'].apply(convert_to_string_and_add_millions)"
   ]
  },
  {
   "cell_type": "code",
   "execution_count": 7,
   "metadata": {},
   "outputs": [],
   "source": [
    "james_bond['Box Office'] = james_bond['Box Office'].apply(convert_to_string_and_add_millions)"
   ]
  },
  {
   "cell_type": "code",
   "execution_count": 8,
   "metadata": {},
   "outputs": [
    {
     "data": {
      "text/plain": [
       "Film\n",
       "A View to a Kill                    54.5 MILLIONS!\n",
       "Casino Royale                      145.3 MILLIONS!\n",
       "Casino Royale                       85.0 MILLIONS!\n",
       "Diamonds Are Forever                34.7 MILLIONS!\n",
       "Die Another Day                    154.2 MILLIONS!\n",
       "Dr. No                               7.0 MILLIONS!\n",
       "For Your Eyes Only                  60.2 MILLIONS!\n",
       "From Russia with Love               12.6 MILLIONS!\n",
       "GoldenEye                           76.9 MILLIONS!\n",
       "Goldfinger                          18.6 MILLIONS!\n",
       "Licence to Kill                     56.7 MILLIONS!\n",
       "Live and Let Die                    30.8 MILLIONS!\n",
       "Moonraker                           91.5 MILLIONS!\n",
       "Never Say Never Again               86.0 MILLIONS!\n",
       "Octopussy                           53.9 MILLIONS!\n",
       "On Her Majesty's Secret Service     37.3 MILLIONS!\n",
       "Quantum of Solace                  181.4 MILLIONS!\n",
       "Skyfall                            170.2 MILLIONS!\n",
       "Spectre                            206.3 MILLIONS!\n",
       "The Living Daylights                68.8 MILLIONS!\n",
       "The Man with the Golden Gun         27.7 MILLIONS!\n",
       "The Spy Who Loved Me                45.1 MILLIONS!\n",
       "The World Is Not Enough            158.3 MILLIONS!\n",
       "Thunderball                         41.9 MILLIONS!\n",
       "Tomorrow Never Dies                133.9 MILLIONS!\n",
       "You Only Live Twice                 59.9 MILLIONS!\n",
       "Name: Budget, dtype: object"
      ]
     },
     "execution_count": 8,
     "metadata": {},
     "output_type": "execute_result"
    }
   ],
   "source": [
    "james_bond['Budget'].apply(convert_to_string_and_add_millions)"
   ]
  },
  {
   "cell_type": "code",
   "execution_count": 9,
   "metadata": {},
   "outputs": [],
   "source": [
    "james_bond['Budget'] = james_bond['Budget'].apply(convert_to_string_and_add_millions)"
   ]
  },
  {
   "cell_type": "code",
   "execution_count": 10,
   "metadata": {},
   "outputs": [
    {
     "data": {
      "text/html": [
       "<div>\n",
       "<style scoped>\n",
       "    .dataframe tbody tr th:only-of-type {\n",
       "        vertical-align: middle;\n",
       "    }\n",
       "\n",
       "    .dataframe tbody tr th {\n",
       "        vertical-align: top;\n",
       "    }\n",
       "\n",
       "    .dataframe thead th {\n",
       "        text-align: right;\n",
       "    }\n",
       "</style>\n",
       "<table border=\"1\" class=\"dataframe\">\n",
       "  <thead>\n",
       "    <tr style=\"text-align: right;\">\n",
       "      <th></th>\n",
       "      <th>Year</th>\n",
       "      <th>Actor</th>\n",
       "      <th>Director</th>\n",
       "      <th>Box Office</th>\n",
       "      <th>Budget</th>\n",
       "      <th>Bond Actor Salary</th>\n",
       "    </tr>\n",
       "    <tr>\n",
       "      <th>Film</th>\n",
       "      <th></th>\n",
       "      <th></th>\n",
       "      <th></th>\n",
       "      <th></th>\n",
       "      <th></th>\n",
       "      <th></th>\n",
       "    </tr>\n",
       "  </thead>\n",
       "  <tbody>\n",
       "    <tr>\n",
       "      <th>A View to a Kill</th>\n",
       "      <td>1985</td>\n",
       "      <td>Roger Moore</td>\n",
       "      <td>John Glen</td>\n",
       "      <td>275.2 MILLIONS!</td>\n",
       "      <td>54.5 MILLIONS!</td>\n",
       "      <td>9.1</td>\n",
       "    </tr>\n",
       "    <tr>\n",
       "      <th>Casino Royale</th>\n",
       "      <td>2006</td>\n",
       "      <td>Daniel Craig</td>\n",
       "      <td>Martin Campbell</td>\n",
       "      <td>581.5 MILLIONS!</td>\n",
       "      <td>145.3 MILLIONS!</td>\n",
       "      <td>3.3</td>\n",
       "    </tr>\n",
       "    <tr>\n",
       "      <th>Casino Royale</th>\n",
       "      <td>1967</td>\n",
       "      <td>David Niven</td>\n",
       "      <td>Ken Hughes</td>\n",
       "      <td>315.0 MILLIONS!</td>\n",
       "      <td>85.0 MILLIONS!</td>\n",
       "      <td>NaN</td>\n",
       "    </tr>\n",
       "    <tr>\n",
       "      <th>Diamonds Are Forever</th>\n",
       "      <td>1971</td>\n",
       "      <td>Sean Connery</td>\n",
       "      <td>Guy Hamilton</td>\n",
       "      <td>442.5 MILLIONS!</td>\n",
       "      <td>34.7 MILLIONS!</td>\n",
       "      <td>5.8</td>\n",
       "    </tr>\n",
       "  </tbody>\n",
       "</table>\n",
       "</div>"
      ],
      "text/plain": [
       "                      Year         Actor         Director       Box Office  \\\n",
       "Film                                                                         \n",
       "A View to a Kill      1985   Roger Moore        John Glen  275.2 MILLIONS!   \n",
       "Casino Royale         2006  Daniel Craig  Martin Campbell  581.5 MILLIONS!   \n",
       "Casino Royale         1967   David Niven       Ken Hughes  315.0 MILLIONS!   \n",
       "Diamonds Are Forever  1971  Sean Connery     Guy Hamilton  442.5 MILLIONS!   \n",
       "\n",
       "                               Budget  Bond Actor Salary  \n",
       "Film                                                      \n",
       "A View to a Kill       54.5 MILLIONS!                9.1  \n",
       "Casino Royale         145.3 MILLIONS!                3.3  \n",
       "Casino Royale          85.0 MILLIONS!                NaN  \n",
       "Diamonds Are Forever   34.7 MILLIONS!                5.8  "
      ]
     },
     "execution_count": 10,
     "metadata": {},
     "output_type": "execute_result"
    }
   ],
   "source": [
    "james_bond.head(n=4)"
   ]
  },
  {
   "cell_type": "code",
   "execution_count": 21,
   "metadata": {},
   "outputs": [
    {
     "data": {
      "text/html": [
       "<div>\n",
       "<style scoped>\n",
       "    .dataframe tbody tr th:only-of-type {\n",
       "        vertical-align: middle;\n",
       "    }\n",
       "\n",
       "    .dataframe tbody tr th {\n",
       "        vertical-align: top;\n",
       "    }\n",
       "\n",
       "    .dataframe thead th {\n",
       "        text-align: right;\n",
       "    }\n",
       "</style>\n",
       "<table border=\"1\" class=\"dataframe\">\n",
       "  <thead>\n",
       "    <tr style=\"text-align: right;\">\n",
       "      <th></th>\n",
       "      <th>Year</th>\n",
       "      <th>Actor</th>\n",
       "      <th>Director</th>\n",
       "      <th>Box Office</th>\n",
       "      <th>Budget</th>\n",
       "      <th>Bond Actor Salary</th>\n",
       "    </tr>\n",
       "    <tr>\n",
       "      <th>Film</th>\n",
       "      <th></th>\n",
       "      <th></th>\n",
       "      <th></th>\n",
       "      <th></th>\n",
       "      <th></th>\n",
       "      <th></th>\n",
       "    </tr>\n",
       "  </thead>\n",
       "  <tbody>\n",
       "    <tr>\n",
       "      <th>A View to a Kill</th>\n",
       "      <td>1985</td>\n",
       "      <td>Roger Moore</td>\n",
       "      <td>John Glen</td>\n",
       "      <td>275.2</td>\n",
       "      <td>54.5</td>\n",
       "      <td>9.1</td>\n",
       "    </tr>\n",
       "    <tr>\n",
       "      <th>Casino Royale</th>\n",
       "      <td>2006</td>\n",
       "      <td>Daniel Craig</td>\n",
       "      <td>Martin Campbell</td>\n",
       "      <td>581.5</td>\n",
       "      <td>145.3</td>\n",
       "      <td>3.3</td>\n",
       "    </tr>\n",
       "  </tbody>\n",
       "</table>\n",
       "</div>"
      ],
      "text/plain": [
       "                  Year         Actor         Director  Box Office  Budget  \\\n",
       "Film                                                                        \n",
       "A View to a Kill  1985   Roger Moore        John Glen       275.2    54.5   \n",
       "Casino Royale     2006  Daniel Craig  Martin Campbell       581.5   145.3   \n",
       "\n",
       "                  Bond Actor Salary  \n",
       "Film                                 \n",
       "A View to a Kill                9.1  \n",
       "Casino Royale                   3.3  "
      ]
     },
     "execution_count": 21,
     "metadata": {},
     "output_type": "execute_result"
    }
   ],
   "source": [
    "james_bond = pd.read_csv('jamesbond.csv', index_col='Film')\n",
    "james_bond = james_bond.sort_index()\n",
    "james_bond.head(n=2)"
   ]
  },
  {
   "cell_type": "code",
   "execution_count": 22,
   "metadata": {},
   "outputs": [],
   "source": [
    "columns = ['Box Office', 'Budget', 'Bond Actor Salary']\n",
    "for col in columns:\n",
    "    james_bond[col] = james_bond[col].apply(convert_to_string_and_add_millions)"
   ]
  },
  {
   "cell_type": "code",
   "execution_count": 23,
   "metadata": {},
   "outputs": [
    {
     "data": {
      "text/html": [
       "<div>\n",
       "<style scoped>\n",
       "    .dataframe tbody tr th:only-of-type {\n",
       "        vertical-align: middle;\n",
       "    }\n",
       "\n",
       "    .dataframe tbody tr th {\n",
       "        vertical-align: top;\n",
       "    }\n",
       "\n",
       "    .dataframe thead th {\n",
       "        text-align: right;\n",
       "    }\n",
       "</style>\n",
       "<table border=\"1\" class=\"dataframe\">\n",
       "  <thead>\n",
       "    <tr style=\"text-align: right;\">\n",
       "      <th></th>\n",
       "      <th>Year</th>\n",
       "      <th>Actor</th>\n",
       "      <th>Director</th>\n",
       "      <th>Box Office</th>\n",
       "      <th>Budget</th>\n",
       "      <th>Bond Actor Salary</th>\n",
       "    </tr>\n",
       "    <tr>\n",
       "      <th>Film</th>\n",
       "      <th></th>\n",
       "      <th></th>\n",
       "      <th></th>\n",
       "      <th></th>\n",
       "      <th></th>\n",
       "      <th></th>\n",
       "    </tr>\n",
       "  </thead>\n",
       "  <tbody>\n",
       "    <tr>\n",
       "      <th>A View to a Kill</th>\n",
       "      <td>1985</td>\n",
       "      <td>Roger Moore</td>\n",
       "      <td>John Glen</td>\n",
       "      <td>275.2 MILLIONS!</td>\n",
       "      <td>54.5 MILLIONS!</td>\n",
       "      <td>9.1 MILLIONS!</td>\n",
       "    </tr>\n",
       "    <tr>\n",
       "      <th>Casino Royale</th>\n",
       "      <td>2006</td>\n",
       "      <td>Daniel Craig</td>\n",
       "      <td>Martin Campbell</td>\n",
       "      <td>581.5 MILLIONS!</td>\n",
       "      <td>145.3 MILLIONS!</td>\n",
       "      <td>3.3 MILLIONS!</td>\n",
       "    </tr>\n",
       "  </tbody>\n",
       "</table>\n",
       "</div>"
      ],
      "text/plain": [
       "                  Year         Actor         Director       Box Office  \\\n",
       "Film                                                                     \n",
       "A View to a Kill  1985   Roger Moore        John Glen  275.2 MILLIONS!   \n",
       "Casino Royale     2006  Daniel Craig  Martin Campbell  581.5 MILLIONS!   \n",
       "\n",
       "                           Budget Bond Actor Salary  \n",
       "Film                                                 \n",
       "A View to a Kill   54.5 MILLIONS!     9.1 MILLIONS!  \n",
       "Casino Royale     145.3 MILLIONS!     3.3 MILLIONS!  "
      ]
     },
     "execution_count": 23,
     "metadata": {},
     "output_type": "execute_result"
    }
   ],
   "source": [
    "james_bond.head(n=2)"
   ]
  },
  {
   "cell_type": "code",
   "execution_count": null,
   "metadata": {},
   "outputs": [],
   "source": []
  }
 ],
 "metadata": {
  "kernelspec": {
   "display_name": "Python 3.10.5 64-bit",
   "language": "python",
   "name": "python3"
  },
  "language_info": {
   "codemirror_mode": {
    "name": "ipython",
    "version": 3
   },
   "file_extension": ".py",
   "mimetype": "text/x-python",
   "name": "python",
   "nbconvert_exporter": "python",
   "pygments_lexer": "ipython3",
   "version": "3.10.5"
  },
  "orig_nbformat": 4,
  "vscode": {
   "interpreter": {
    "hash": "722b6f501d3291d098eeb116c55030d7476387c4156a20534e17b28f07582bab"
   }
  }
 },
 "nbformat": 4,
 "nbformat_minor": 2
}
