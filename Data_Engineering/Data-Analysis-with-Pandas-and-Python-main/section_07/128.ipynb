{
 "cells": [
  {
   "cell_type": "markdown",
   "metadata": {},
   "source": [
    "# The .str .replace() Method"
   ]
  },
  {
   "cell_type": "code",
   "execution_count": 9,
   "metadata": {},
   "outputs": [
    {
     "data": {
      "text/html": [
       "<div>\n",
       "<style scoped>\n",
       "    .dataframe tbody tr th:only-of-type {\n",
       "        vertical-align: middle;\n",
       "    }\n",
       "\n",
       "    .dataframe tbody tr th {\n",
       "        vertical-align: top;\n",
       "    }\n",
       "\n",
       "    .dataframe thead th {\n",
       "        text-align: right;\n",
       "    }\n",
       "</style>\n",
       "<table border=\"1\" class=\"dataframe\">\n",
       "  <thead>\n",
       "    <tr style=\"text-align: right;\">\n",
       "      <th></th>\n",
       "      <th>Name</th>\n",
       "      <th>Position Title</th>\n",
       "      <th>Department</th>\n",
       "      <th>Employee Annual Salary</th>\n",
       "    </tr>\n",
       "  </thead>\n",
       "  <tbody>\n",
       "    <tr>\n",
       "      <th>0</th>\n",
       "      <td>Aaron,  Elvia J</td>\n",
       "      <td>Water Rate Taker</td>\n",
       "      <td>Water Mgmnt</td>\n",
       "      <td>$90744.00</td>\n",
       "    </tr>\n",
       "    <tr>\n",
       "      <th>1</th>\n",
       "      <td>Aaron,  Jeffery M</td>\n",
       "      <td>Police Officer</td>\n",
       "      <td>Police</td>\n",
       "      <td>$84450.00</td>\n",
       "    </tr>\n",
       "    <tr>\n",
       "      <th>2</th>\n",
       "      <td>Aaron,  Karina</td>\n",
       "      <td>Police Officer</td>\n",
       "      <td>Police</td>\n",
       "      <td>$84450.00</td>\n",
       "    </tr>\n",
       "  </tbody>\n",
       "</table>\n",
       "</div>"
      ],
      "text/plain": [
       "                Name    Position Title   Department Employee Annual Salary\n",
       "0    Aaron,  Elvia J  Water Rate Taker  Water Mgmnt              $90744.00\n",
       "1  Aaron,  Jeffery M    Police Officer       Police              $84450.00\n",
       "2     Aaron,  Karina    Police Officer       Police              $84450.00"
      ]
     },
     "execution_count": 9,
     "metadata": {},
     "output_type": "execute_result"
    }
   ],
   "source": [
    "import pandas as pd\n",
    "chicago = pd.read_csv('chicago.csv').dropna(how='all')\n",
    "chicago['Department'] = chicago['Department'].str.title()\n",
    "chicago['Department'] = chicago['Department'].astype('category')\n",
    "chicago['Position Title'] = chicago['Position Title'].str.title()\n",
    "chicago['Name'] = chicago['Name'].str.title()\n",
    "chicago.head(n=3)"
   ]
  },
  {
   "cell_type": "code",
   "execution_count": 10,
   "metadata": {},
   "outputs": [
    {
     "data": {
      "text/plain": [
       "'HeX_xX_xo worX_xd'"
      ]
     },
     "execution_count": 10,
     "metadata": {},
     "output_type": "execute_result"
    }
   ],
   "source": [
    "'Hello world'.replace('l', 'X_x')"
   ]
  },
  {
   "cell_type": "code",
   "execution_count": 12,
   "metadata": {},
   "outputs": [
    {
     "data": {
      "text/plain": [
       "32045                  Electrical Mechanic\n",
       "32046    Senior Public Information Officer\n",
       "32047                       Police Officer\n",
       "32048                      Legal Secretary\n",
       "32049                       Crossing Guard\n",
       "32050              Pool Motor Truck Driver\n",
       "32051        a_Xirport Operations Supvsr I\n",
       "32052                       Police Officer\n",
       "32053                      Firefighter-Emt\n",
       "32054                       Police Officer\n",
       "32055                       Police Officer\n",
       "32056             Machinist (a_Xutomotive)\n",
       "32057     Frm Of Machinists - a_Xutomotive\n",
       "32058                       Police Officer\n",
       "32059                       Police Officer\n",
       "32060                       Police Officer\n",
       "32061            Chief Data Base a_Xnalyst\n",
       "Name: Position Title, dtype: object"
      ]
     },
     "execution_count": 12,
     "metadata": {},
     "output_type": "execute_result"
    }
   ],
   "source": [
    "chicago['Position Title'].str.replace('A', 'a_X').tail(17)"
   ]
  },
  {
   "cell_type": "code",
   "execution_count": 13,
   "metadata": {},
   "outputs": [
    {
     "data": {
      "text/plain": [
       "0             Water Mgmnt\n",
       "1                  Police\n",
       "2                  Police\n",
       "3        General Services\n",
       "4             Water Mgmnt\n",
       "               ...       \n",
       "32057    General Services\n",
       "32058              Police\n",
       "32059              Police\n",
       "32060              Police\n",
       "32061                Doit\n",
       "Name: Department, Length: 32062, dtype: category\n",
       "Categories (35, object): ['Admin Hearng', 'Animal Contrl', 'Aviation', 'Board Of Election', ..., 'Streets & San', 'Transportn', 'Treasurer', 'Water Mgmnt']"
      ]
     },
     "execution_count": 13,
     "metadata": {},
     "output_type": "execute_result"
    }
   ],
   "source": [
    "chicago['Department']"
   ]
  },
  {
   "cell_type": "code",
   "execution_count": 15,
   "metadata": {},
   "outputs": [
    {
     "data": {
      "text/plain": [
       "0        Water Management\n",
       "1                  Police\n",
       "2                  Police\n",
       "3        General Services\n",
       "4        Water Management\n",
       "               ...       \n",
       "32057    General Services\n",
       "32058              Police\n",
       "32059              Police\n",
       "32060              Police\n",
       "32061                Doit\n",
       "Name: Department, Length: 32062, dtype: object"
      ]
     },
     "execution_count": 15,
     "metadata": {},
     "output_type": "execute_result"
    }
   ],
   "source": [
    "chicago['Department'].str.replace('Mgmnt', 'Management')"
   ]
  },
  {
   "cell_type": "code",
   "execution_count": 18,
   "metadata": {},
   "outputs": [],
   "source": [
    "chicago['Departmen'] = chicago['Department'].str.replace('Mgmnt', 'Management')"
   ]
  },
  {
   "cell_type": "code",
   "execution_count": 19,
   "metadata": {},
   "outputs": [
    {
     "data": {
      "text/html": [
       "<div>\n",
       "<style scoped>\n",
       "    .dataframe tbody tr th:only-of-type {\n",
       "        vertical-align: middle;\n",
       "    }\n",
       "\n",
       "    .dataframe tbody tr th {\n",
       "        vertical-align: top;\n",
       "    }\n",
       "\n",
       "    .dataframe thead th {\n",
       "        text-align: right;\n",
       "    }\n",
       "</style>\n",
       "<table border=\"1\" class=\"dataframe\">\n",
       "  <thead>\n",
       "    <tr style=\"text-align: right;\">\n",
       "      <th></th>\n",
       "      <th>Name</th>\n",
       "      <th>Position Title</th>\n",
       "      <th>Department</th>\n",
       "      <th>Employee Annual Salary</th>\n",
       "      <th>Departmen</th>\n",
       "    </tr>\n",
       "  </thead>\n",
       "  <tbody>\n",
       "    <tr>\n",
       "      <th>0</th>\n",
       "      <td>Aaron,  Elvia J</td>\n",
       "      <td>Water Rate Taker</td>\n",
       "      <td>Water Mgmnt</td>\n",
       "      <td>$90744.00</td>\n",
       "      <td>Water Management</td>\n",
       "    </tr>\n",
       "    <tr>\n",
       "      <th>1</th>\n",
       "      <td>Aaron,  Jeffery M</td>\n",
       "      <td>Police Officer</td>\n",
       "      <td>Police</td>\n",
       "      <td>$84450.00</td>\n",
       "      <td>Police</td>\n",
       "    </tr>\n",
       "    <tr>\n",
       "      <th>2</th>\n",
       "      <td>Aaron,  Karina</td>\n",
       "      <td>Police Officer</td>\n",
       "      <td>Police</td>\n",
       "      <td>$84450.00</td>\n",
       "      <td>Police</td>\n",
       "    </tr>\n",
       "    <tr>\n",
       "      <th>3</th>\n",
       "      <td>Aaron,  Kimberlei R</td>\n",
       "      <td>Chief Contract Expediter</td>\n",
       "      <td>General Services</td>\n",
       "      <td>$89880.00</td>\n",
       "      <td>General Services</td>\n",
       "    </tr>\n",
       "    <tr>\n",
       "      <th>4</th>\n",
       "      <td>Abad Jr,  Vicente M</td>\n",
       "      <td>Civil Engineer Iv</td>\n",
       "      <td>Water Mgmnt</td>\n",
       "      <td>$106836.00</td>\n",
       "      <td>Water Management</td>\n",
       "    </tr>\n",
       "  </tbody>\n",
       "</table>\n",
       "</div>"
      ],
      "text/plain": [
       "                  Name            Position Title        Department  \\\n",
       "0      Aaron,  Elvia J          Water Rate Taker       Water Mgmnt   \n",
       "1    Aaron,  Jeffery M            Police Officer            Police   \n",
       "2       Aaron,  Karina            Police Officer            Police   \n",
       "3  Aaron,  Kimberlei R  Chief Contract Expediter  General Services   \n",
       "4  Abad Jr,  Vicente M         Civil Engineer Iv       Water Mgmnt   \n",
       "\n",
       "  Employee Annual Salary         Departmen  \n",
       "0              $90744.00  Water Management  \n",
       "1              $84450.00            Police  \n",
       "2              $84450.00            Police  \n",
       "3              $89880.00  General Services  \n",
       "4             $106836.00  Water Management  "
      ]
     },
     "execution_count": 19,
     "metadata": {},
     "output_type": "execute_result"
    }
   ],
   "source": [
    "chicago.head()"
   ]
  },
  {
   "cell_type": "code",
   "execution_count": 21,
   "metadata": {},
   "outputs": [
    {
     "name": "stderr",
     "output_type": "stream",
     "text": [
      "C:\\Users\\Tom\\AppData\\Local\\Temp\\ipykernel_6604\\2548171693.py:1: FutureWarning: The default value of regex will change from True to False in a future version. In addition, single character regular expressions will *not* be treated as literal strings when regex=True.\n",
      "  chicago['Employee Annual Salary'].str.replace('$','')\n"
     ]
    },
    {
     "data": {
      "text/plain": [
       "0         90744.00\n",
       "1         84450.00\n",
       "2         84450.00\n",
       "3         89880.00\n",
       "4        106836.00\n",
       "           ...    \n",
       "32057     99528.00\n",
       "32058     87384.00\n",
       "32059     84450.00\n",
       "32060     87384.00\n",
       "32061    113664.00\n",
       "Name: Employee Annual Salary, Length: 32062, dtype: object"
      ]
     },
     "execution_count": 21,
     "metadata": {},
     "output_type": "execute_result"
    }
   ],
   "source": [
    "chicago['Employee Annual Salary'].str.replace('$','')"
   ]
  },
  {
   "cell_type": "code",
   "execution_count": 22,
   "metadata": {},
   "outputs": [
    {
     "name": "stderr",
     "output_type": "stream",
     "text": [
      "C:\\Users\\Tom\\AppData\\Local\\Temp\\ipykernel_6604\\2320363852.py:1: FutureWarning: The default value of regex will change from True to False in a future version. In addition, single character regular expressions will *not* be treated as literal strings when regex=True.\n",
      "  chicago['Employee Annual Salary'] = chicago['Employee Annual Salary'].str.replace('$','')\n"
     ]
    }
   ],
   "source": [
    "chicago['Employee Annual Salary'] = chicago['Employee Annual Salary'].str.replace('$','')"
   ]
  },
  {
   "cell_type": "code",
   "execution_count": 23,
   "metadata": {},
   "outputs": [
    {
     "data": {
      "text/html": [
       "<div>\n",
       "<style scoped>\n",
       "    .dataframe tbody tr th:only-of-type {\n",
       "        vertical-align: middle;\n",
       "    }\n",
       "\n",
       "    .dataframe tbody tr th {\n",
       "        vertical-align: top;\n",
       "    }\n",
       "\n",
       "    .dataframe thead th {\n",
       "        text-align: right;\n",
       "    }\n",
       "</style>\n",
       "<table border=\"1\" class=\"dataframe\">\n",
       "  <thead>\n",
       "    <tr style=\"text-align: right;\">\n",
       "      <th></th>\n",
       "      <th>Name</th>\n",
       "      <th>Position Title</th>\n",
       "      <th>Department</th>\n",
       "      <th>Employee Annual Salary</th>\n",
       "      <th>Departmen</th>\n",
       "    </tr>\n",
       "  </thead>\n",
       "  <tbody>\n",
       "    <tr>\n",
       "      <th>0</th>\n",
       "      <td>Aaron,  Elvia J</td>\n",
       "      <td>Water Rate Taker</td>\n",
       "      <td>Water Mgmnt</td>\n",
       "      <td>90744.00</td>\n",
       "      <td>Water Management</td>\n",
       "    </tr>\n",
       "    <tr>\n",
       "      <th>1</th>\n",
       "      <td>Aaron,  Jeffery M</td>\n",
       "      <td>Police Officer</td>\n",
       "      <td>Police</td>\n",
       "      <td>84450.00</td>\n",
       "      <td>Police</td>\n",
       "    </tr>\n",
       "    <tr>\n",
       "      <th>2</th>\n",
       "      <td>Aaron,  Karina</td>\n",
       "      <td>Police Officer</td>\n",
       "      <td>Police</td>\n",
       "      <td>84450.00</td>\n",
       "      <td>Police</td>\n",
       "    </tr>\n",
       "    <tr>\n",
       "      <th>3</th>\n",
       "      <td>Aaron,  Kimberlei R</td>\n",
       "      <td>Chief Contract Expediter</td>\n",
       "      <td>General Services</td>\n",
       "      <td>89880.00</td>\n",
       "      <td>General Services</td>\n",
       "    </tr>\n",
       "    <tr>\n",
       "      <th>4</th>\n",
       "      <td>Abad Jr,  Vicente M</td>\n",
       "      <td>Civil Engineer Iv</td>\n",
       "      <td>Water Mgmnt</td>\n",
       "      <td>106836.00</td>\n",
       "      <td>Water Management</td>\n",
       "    </tr>\n",
       "  </tbody>\n",
       "</table>\n",
       "</div>"
      ],
      "text/plain": [
       "                  Name            Position Title        Department  \\\n",
       "0      Aaron,  Elvia J          Water Rate Taker       Water Mgmnt   \n",
       "1    Aaron,  Jeffery M            Police Officer            Police   \n",
       "2       Aaron,  Karina            Police Officer            Police   \n",
       "3  Aaron,  Kimberlei R  Chief Contract Expediter  General Services   \n",
       "4  Abad Jr,  Vicente M         Civil Engineer Iv       Water Mgmnt   \n",
       "\n",
       "  Employee Annual Salary         Departmen  \n",
       "0               90744.00  Water Management  \n",
       "1               84450.00            Police  \n",
       "2               84450.00            Police  \n",
       "3               89880.00  General Services  \n",
       "4              106836.00  Water Management  "
      ]
     },
     "execution_count": 23,
     "metadata": {},
     "output_type": "execute_result"
    }
   ],
   "source": [
    "chicago.head()"
   ]
  },
  {
   "cell_type": "code",
   "execution_count": 24,
   "metadata": {},
   "outputs": [
    {
     "data": {
      "text/plain": [
       "0         90744.0\n",
       "1         84450.0\n",
       "2         84450.0\n",
       "3         89880.0\n",
       "4        106836.0\n",
       "           ...   \n",
       "32057     99528.0\n",
       "32058     87384.0\n",
       "32059     84450.0\n",
       "32060     87384.0\n",
       "32061    113664.0\n",
       "Name: Employee Annual Salary, Length: 32062, dtype: float64"
      ]
     },
     "execution_count": 24,
     "metadata": {},
     "output_type": "execute_result"
    }
   ],
   "source": [
    "chicago['Employee Annual Salary'].astype('float')"
   ]
  },
  {
   "cell_type": "code",
   "execution_count": 27,
   "metadata": {},
   "outputs": [],
   "source": [
    "chicago['Employee Annual Salary'] = chicago['Employee Annual Salary'].astype(float)"
   ]
  },
  {
   "cell_type": "code",
   "execution_count": 28,
   "metadata": {},
   "outputs": [
    {
     "data": {
      "text/html": [
       "<div>\n",
       "<style scoped>\n",
       "    .dataframe tbody tr th:only-of-type {\n",
       "        vertical-align: middle;\n",
       "    }\n",
       "\n",
       "    .dataframe tbody tr th {\n",
       "        vertical-align: top;\n",
       "    }\n",
       "\n",
       "    .dataframe thead th {\n",
       "        text-align: right;\n",
       "    }\n",
       "</style>\n",
       "<table border=\"1\" class=\"dataframe\">\n",
       "  <thead>\n",
       "    <tr style=\"text-align: right;\">\n",
       "      <th></th>\n",
       "      <th>Name</th>\n",
       "      <th>Position Title</th>\n",
       "      <th>Department</th>\n",
       "      <th>Employee Annual Salary</th>\n",
       "      <th>Departmen</th>\n",
       "    </tr>\n",
       "  </thead>\n",
       "  <tbody>\n",
       "    <tr>\n",
       "      <th>0</th>\n",
       "      <td>Aaron,  Elvia J</td>\n",
       "      <td>Water Rate Taker</td>\n",
       "      <td>Water Mgmnt</td>\n",
       "      <td>90744.0</td>\n",
       "      <td>Water Management</td>\n",
       "    </tr>\n",
       "    <tr>\n",
       "      <th>1</th>\n",
       "      <td>Aaron,  Jeffery M</td>\n",
       "      <td>Police Officer</td>\n",
       "      <td>Police</td>\n",
       "      <td>84450.0</td>\n",
       "      <td>Police</td>\n",
       "    </tr>\n",
       "    <tr>\n",
       "      <th>2</th>\n",
       "      <td>Aaron,  Karina</td>\n",
       "      <td>Police Officer</td>\n",
       "      <td>Police</td>\n",
       "      <td>84450.0</td>\n",
       "      <td>Police</td>\n",
       "    </tr>\n",
       "    <tr>\n",
       "      <th>3</th>\n",
       "      <td>Aaron,  Kimberlei R</td>\n",
       "      <td>Chief Contract Expediter</td>\n",
       "      <td>General Services</td>\n",
       "      <td>89880.0</td>\n",
       "      <td>General Services</td>\n",
       "    </tr>\n",
       "    <tr>\n",
       "      <th>4</th>\n",
       "      <td>Abad Jr,  Vicente M</td>\n",
       "      <td>Civil Engineer Iv</td>\n",
       "      <td>Water Mgmnt</td>\n",
       "      <td>106836.0</td>\n",
       "      <td>Water Management</td>\n",
       "    </tr>\n",
       "  </tbody>\n",
       "</table>\n",
       "</div>"
      ],
      "text/plain": [
       "                  Name            Position Title        Department  \\\n",
       "0      Aaron,  Elvia J          Water Rate Taker       Water Mgmnt   \n",
       "1    Aaron,  Jeffery M            Police Officer            Police   \n",
       "2       Aaron,  Karina            Police Officer            Police   \n",
       "3  Aaron,  Kimberlei R  Chief Contract Expediter  General Services   \n",
       "4  Abad Jr,  Vicente M         Civil Engineer Iv       Water Mgmnt   \n",
       "\n",
       "   Employee Annual Salary         Departmen  \n",
       "0                 90744.0  Water Management  \n",
       "1                 84450.0            Police  \n",
       "2                 84450.0            Police  \n",
       "3                 89880.0  General Services  \n",
       "4                106836.0  Water Management  "
      ]
     },
     "execution_count": 28,
     "metadata": {},
     "output_type": "execute_result"
    }
   ],
   "source": [
    "chicago.head()"
   ]
  },
  {
   "cell_type": "code",
   "execution_count": 30,
   "metadata": {},
   "outputs": [
    {
     "data": {
      "text/plain": [
       "2571506375.36"
      ]
     },
     "execution_count": 30,
     "metadata": {},
     "output_type": "execute_result"
    }
   ],
   "source": [
    "chicago['Employee Annual Salary'].sum()"
   ]
  },
  {
   "cell_type": "code",
   "execution_count": 31,
   "metadata": {},
   "outputs": [
    {
     "data": {
      "text/plain": [
       "80204.17863389682"
      ]
     },
     "execution_count": 31,
     "metadata": {},
     "output_type": "execute_result"
    }
   ],
   "source": [
    "chicago['Employee Annual Salary'].mean()"
   ]
  },
  {
   "cell_type": "code",
   "execution_count": 32,
   "metadata": {},
   "outputs": [
    {
     "data": {
      "text/plain": [
       "25098.32986750994"
      ]
     },
     "execution_count": 32,
     "metadata": {},
     "output_type": "execute_result"
    }
   ],
   "source": [
    "chicago['Employee Annual Salary'].std()"
   ]
  },
  {
   "cell_type": "code",
   "execution_count": 33,
   "metadata": {},
   "outputs": [
    {
     "data": {
      "text/plain": [
       "8184     300000.0\n",
       "7954     216210.0\n",
       "25532    202728.0\n",
       "8924     197736.0\n",
       "8042     197724.0\n",
       "19208    195000.0\n",
       "3706     187680.0\n",
       "18556    187680.0\n",
       "29466    187680.0\n",
       "13754    185364.0\n",
       "Name: Employee Annual Salary, dtype: float64"
      ]
     },
     "execution_count": 33,
     "metadata": {},
     "output_type": "execute_result"
    }
   ],
   "source": [
    "chicago['Employee Annual Salary'].nlargest(10)"
   ]
  },
  {
   "cell_type": "code",
   "execution_count": 42,
   "metadata": {},
   "outputs": [
    {
     "data": {
      "text/plain": [
       "Name                              Evans,  Ginger S\n",
       "Position Title            Commissioner Of Aviation\n",
       "Department                                Aviation\n",
       "Employee Annual Salary                    300000.0\n",
       "Departmen                                 Aviation\n",
       "Name: 8184, dtype: object"
      ]
     },
     "execution_count": 42,
     "metadata": {},
     "output_type": "execute_result"
    }
   ],
   "source": [
    "chicago.loc[8184]"
   ]
  },
  {
   "cell_type": "code",
   "execution_count": 43,
   "metadata": {},
   "outputs": [],
   "source": [
    "keys = chicago['Employee Annual Salary'].nlargest(10)"
   ]
  },
  {
   "cell_type": "code",
   "execution_count": 53,
   "metadata": {},
   "outputs": [
    {
     "name": "stdout",
     "output_type": "stream",
     "text": [
      "Name                      Evans,  Ginger S\n",
      "Position Title    Commissioner Of Aviation\n",
      "Name: 8184, dtype: object\n",
      "Name              Emanuel,  Rahm\n",
      "Position Title             Mayor\n",
      "Name: 7954, dtype: object\n",
      "Name              Santiago,  Jose A\n",
      "Position Title    Fire Commissioner\n",
      "Name: 25532, dtype: object\n",
      "Name                         Ford Ii,  Richard C\n",
      "Position Title    First Deputy Fire Commissioner\n",
      "Name: 8924, dtype: object\n",
      "Name                       Escalante,  John J\n",
      "Position Title    First Deputy Superintendent\n",
      "Name: 8042, dtype: object\n",
      "Name              Mitchell,  Eileen M\n",
      "Position Title         Chief Of Staff\n",
      "Name: 19208, dtype: object\n",
      "Name                  Callahan,  Michael E\n",
      "Position Title    Deputy Fire Commissioner\n",
      "Name: 3706, dtype: object\n",
      "Name                    Mc Nicholas,  John\n",
      "Position Title    Deputy Fire Commissioner\n",
      "Name: 18556, dtype: object\n",
      "Name                   Vasquez,  Anthony P\n",
      "Position Title    Deputy Fire Commissioner\n",
      "Name: 29466, dtype: object\n",
      "Name              Johnson,  Eddie T\n",
      "Position Title                Chief\n",
      "Name: 13754, dtype: object\n"
     ]
    }
   ],
   "source": [
    "for k in keys.keys():\n",
    "    print(chicago.loc[k]['Name' : 'Position Title'])"
   ]
  },
  {
   "cell_type": "code",
   "execution_count": 54,
   "metadata": {},
   "outputs": [
    {
     "data": {
      "text/plain": [
       "Int64Index([8184, 7954, 25532, 8924, 8042, 19208, 3706, 18556, 29466, 13754], dtype='int64')"
      ]
     },
     "execution_count": 54,
     "metadata": {},
     "output_type": "execute_result"
    }
   ],
   "source": [
    "keys.keys()"
   ]
  },
  {
   "cell_type": "code",
   "execution_count": 47,
   "metadata": {},
   "outputs": [
    {
     "data": {
      "text/plain": [
       "Int64Index([8184, 7954, 25532, 8924, 8042, 19208, 3706, 18556, 29466, 13754], dtype='int64')"
      ]
     },
     "execution_count": 47,
     "metadata": {},
     "output_type": "execute_result"
    }
   ],
   "source": [
    "keys.keys()"
   ]
  },
  {
   "cell_type": "code",
   "execution_count": 58,
   "metadata": {},
   "outputs": [
    {
     "data": {
      "text/plain": [
       "8184     300000.0\n",
       "7954     216210.0\n",
       "25532    202728.0\n",
       "8924     197736.0\n",
       "8042     197724.0\n",
       "19208    195000.0\n",
       "3706     187680.0\n",
       "18556    187680.0\n",
       "29466    187680.0\n",
       "13754    185364.0\n",
       "Name: Employee Annual Salary, dtype: float64"
      ]
     },
     "execution_count": 58,
     "metadata": {},
     "output_type": "execute_result"
    }
   ],
   "source": [
    "keys"
   ]
  },
  {
   "cell_type": "code",
   "execution_count": 59,
   "metadata": {},
   "outputs": [
    {
     "ename": "KeyError",
     "evalue": "0",
     "output_type": "error",
     "traceback": [
      "\u001b[1;31m---------------------------------------------------------------------------\u001b[0m",
      "\u001b[1;31mKeyError\u001b[0m                                  Traceback (most recent call last)",
      "File \u001b[1;32mc:\\Users\\Tom\\AppData\\Local\\Programs\\Python\\Python310\\lib\\site-packages\\pandas\\core\\indexes\\base.py:3621\u001b[0m, in \u001b[0;36mIndex.get_loc\u001b[1;34m(self, key, method, tolerance)\u001b[0m\n\u001b[0;32m   3620\u001b[0m \u001b[39mtry\u001b[39;00m:\n\u001b[1;32m-> 3621\u001b[0m     \u001b[39mreturn\u001b[39;00m \u001b[39mself\u001b[39;49m\u001b[39m.\u001b[39;49m_engine\u001b[39m.\u001b[39;49mget_loc(casted_key)\n\u001b[0;32m   3622\u001b[0m \u001b[39mexcept\u001b[39;00m \u001b[39mKeyError\u001b[39;00m \u001b[39mas\u001b[39;00m err:\n",
      "File \u001b[1;32mc:\\Users\\Tom\\AppData\\Local\\Programs\\Python\\Python310\\lib\\site-packages\\pandas\\_libs\\index.pyx:136\u001b[0m, in \u001b[0;36mpandas._libs.index.IndexEngine.get_loc\u001b[1;34m()\u001b[0m\n",
      "File \u001b[1;32mc:\\Users\\Tom\\AppData\\Local\\Programs\\Python\\Python310\\lib\\site-packages\\pandas\\_libs\\index.pyx:163\u001b[0m, in \u001b[0;36mpandas._libs.index.IndexEngine.get_loc\u001b[1;34m()\u001b[0m\n",
      "File \u001b[1;32mpandas\\_libs\\hashtable_class_helper.pxi:2131\u001b[0m, in \u001b[0;36mpandas._libs.hashtable.Int64HashTable.get_item\u001b[1;34m()\u001b[0m\n",
      "File \u001b[1;32mpandas\\_libs\\hashtable_class_helper.pxi:2140\u001b[0m, in \u001b[0;36mpandas._libs.hashtable.Int64HashTable.get_item\u001b[1;34m()\u001b[0m\n",
      "\u001b[1;31mKeyError\u001b[0m: 0",
      "\nThe above exception was the direct cause of the following exception:\n",
      "\u001b[1;31mKeyError\u001b[0m                                  Traceback (most recent call last)",
      "\u001b[1;32mc:\\Users\\Tom\\iCloudDrive\\Nauka\\Python\\Pyton_files\\Data-Analysis-with-Pandas-and-Python\\section_07\\128.ipynb Cell 25\u001b[0m in \u001b[0;36m<module>\u001b[1;34m\u001b[0m\n\u001b[1;32m----> <a href='vscode-notebook-cell:/c%3A/Users/Tom/iCloudDrive/Nauka/Python/Pyton_files/Data-Analysis-with-Pandas-and-Python/section_07/128.ipynb#ch0000024?line=0'>1</a>\u001b[0m keys[\u001b[39m0\u001b[39;49m]\n",
      "File \u001b[1;32mc:\\Users\\Tom\\AppData\\Local\\Programs\\Python\\Python310\\lib\\site-packages\\pandas\\core\\series.py:958\u001b[0m, in \u001b[0;36mSeries.__getitem__\u001b[1;34m(self, key)\u001b[0m\n\u001b[0;32m    955\u001b[0m     \u001b[39mreturn\u001b[39;00m \u001b[39mself\u001b[39m\u001b[39m.\u001b[39m_values[key]\n\u001b[0;32m    957\u001b[0m \u001b[39melif\u001b[39;00m key_is_scalar:\n\u001b[1;32m--> 958\u001b[0m     \u001b[39mreturn\u001b[39;00m \u001b[39mself\u001b[39;49m\u001b[39m.\u001b[39;49m_get_value(key)\n\u001b[0;32m    960\u001b[0m \u001b[39mif\u001b[39;00m is_hashable(key):\n\u001b[0;32m    961\u001b[0m     \u001b[39m# Otherwise index.get_value will raise InvalidIndexError\u001b[39;00m\n\u001b[0;32m    962\u001b[0m     \u001b[39mtry\u001b[39;00m:\n\u001b[0;32m    963\u001b[0m         \u001b[39m# For labels that don't resolve as scalars like tuples and frozensets\u001b[39;00m\n",
      "File \u001b[1;32mc:\\Users\\Tom\\AppData\\Local\\Programs\\Python\\Python310\\lib\\site-packages\\pandas\\core\\series.py:1069\u001b[0m, in \u001b[0;36mSeries._get_value\u001b[1;34m(self, label, takeable)\u001b[0m\n\u001b[0;32m   1066\u001b[0m     \u001b[39mreturn\u001b[39;00m \u001b[39mself\u001b[39m\u001b[39m.\u001b[39m_values[label]\n\u001b[0;32m   1068\u001b[0m \u001b[39m# Similar to Index.get_value, but we do not fall back to positional\u001b[39;00m\n\u001b[1;32m-> 1069\u001b[0m loc \u001b[39m=\u001b[39m \u001b[39mself\u001b[39;49m\u001b[39m.\u001b[39;49mindex\u001b[39m.\u001b[39;49mget_loc(label)\n\u001b[0;32m   1070\u001b[0m \u001b[39mreturn\u001b[39;00m \u001b[39mself\u001b[39m\u001b[39m.\u001b[39mindex\u001b[39m.\u001b[39m_get_values_for_loc(\u001b[39mself\u001b[39m, loc, label)\n",
      "File \u001b[1;32mc:\\Users\\Tom\\AppData\\Local\\Programs\\Python\\Python310\\lib\\site-packages\\pandas\\core\\indexes\\base.py:3623\u001b[0m, in \u001b[0;36mIndex.get_loc\u001b[1;34m(self, key, method, tolerance)\u001b[0m\n\u001b[0;32m   3621\u001b[0m     \u001b[39mreturn\u001b[39;00m \u001b[39mself\u001b[39m\u001b[39m.\u001b[39m_engine\u001b[39m.\u001b[39mget_loc(casted_key)\n\u001b[0;32m   3622\u001b[0m \u001b[39mexcept\u001b[39;00m \u001b[39mKeyError\u001b[39;00m \u001b[39mas\u001b[39;00m err:\n\u001b[1;32m-> 3623\u001b[0m     \u001b[39mraise\u001b[39;00m \u001b[39mKeyError\u001b[39;00m(key) \u001b[39mfrom\u001b[39;00m \u001b[39merr\u001b[39;00m\n\u001b[0;32m   3624\u001b[0m \u001b[39mexcept\u001b[39;00m \u001b[39mTypeError\u001b[39;00m:\n\u001b[0;32m   3625\u001b[0m     \u001b[39m# If we have a listlike key, _check_indexing_error will raise\u001b[39;00m\n\u001b[0;32m   3626\u001b[0m     \u001b[39m#  InvalidIndexError. Otherwise we fall through and re-raise\u001b[39;00m\n\u001b[0;32m   3627\u001b[0m     \u001b[39m#  the TypeError.\u001b[39;00m\n\u001b[0;32m   3628\u001b[0m     \u001b[39mself\u001b[39m\u001b[39m.\u001b[39m_check_indexing_error(key)\n",
      "\u001b[1;31mKeyError\u001b[0m: 0"
     ]
    }
   ],
   "source": [
    "keys[0]"
   ]
  },
  {
   "cell_type": "code",
   "execution_count": 60,
   "metadata": {},
   "outputs": [
    {
     "data": {
      "text/plain": [
       "Int64Index([8184, 7954, 25532, 8924, 8042, 19208, 3706, 18556, 29466, 13754], dtype='int64')"
      ]
     },
     "execution_count": 60,
     "metadata": {},
     "output_type": "execute_result"
    }
   ],
   "source": [
    "keys.keys()"
   ]
  },
  {
   "cell_type": "code",
   "execution_count": 61,
   "metadata": {},
   "outputs": [
    {
     "data": {
      "text/plain": [
       "8184"
      ]
     },
     "execution_count": 61,
     "metadata": {},
     "output_type": "execute_result"
    }
   ],
   "source": [
    "keys.keys()[0]"
   ]
  },
  {
   "cell_type": "code",
   "execution_count": 62,
   "metadata": {},
   "outputs": [
    {
     "data": {
      "text/plain": [
       "array([ 8184,  7954, 25532,  8924,  8042, 19208,  3706, 18556, 29466,\n",
       "       13754], dtype=int64)"
      ]
     },
     "execution_count": 62,
     "metadata": {},
     "output_type": "execute_result"
    }
   ],
   "source": [
    "keys.keys().to_numpy()"
   ]
  },
  {
   "cell_type": "code",
   "execution_count": 63,
   "metadata": {},
   "outputs": [],
   "source": [
    "corruption = [] \n",
    "for k in keys.keys():\n",
    "    corruption.append(k)"
   ]
  },
  {
   "cell_type": "code",
   "execution_count": 64,
   "metadata": {},
   "outputs": [
    {
     "data": {
      "text/plain": [
       "[8184, 7954, 25532, 8924, 8042, 19208, 3706, 18556, 29466, 13754]"
      ]
     },
     "execution_count": 64,
     "metadata": {},
     "output_type": "execute_result"
    }
   ],
   "source": [
    "corruption"
   ]
  },
  {
   "cell_type": "code",
   "execution_count": 65,
   "metadata": {},
   "outputs": [
    {
     "data": {
      "text/plain": [
       "Name                              Evans,  Ginger S\n",
       "Position Title            Commissioner Of Aviation\n",
       "Department                                Aviation\n",
       "Employee Annual Salary                    300000.0\n",
       "Departmen                                 Aviation\n",
       "Name: 8184, dtype: object"
      ]
     },
     "execution_count": 65,
     "metadata": {},
     "output_type": "execute_result"
    }
   ],
   "source": [
    "chicago.loc[corruption[0]]"
   ]
  },
  {
   "cell_type": "code",
   "execution_count": 66,
   "metadata": {},
   "outputs": [
    {
     "data": {
      "text/html": [
       "<div>\n",
       "<style scoped>\n",
       "    .dataframe tbody tr th:only-of-type {\n",
       "        vertical-align: middle;\n",
       "    }\n",
       "\n",
       "    .dataframe tbody tr th {\n",
       "        vertical-align: top;\n",
       "    }\n",
       "\n",
       "    .dataframe thead th {\n",
       "        text-align: right;\n",
       "    }\n",
       "</style>\n",
       "<table border=\"1\" class=\"dataframe\">\n",
       "  <thead>\n",
       "    <tr style=\"text-align: right;\">\n",
       "      <th></th>\n",
       "      <th>Name</th>\n",
       "      <th>Position Title</th>\n",
       "      <th>Department</th>\n",
       "      <th>Employee Annual Salary</th>\n",
       "      <th>Departmen</th>\n",
       "    </tr>\n",
       "  </thead>\n",
       "  <tbody>\n",
       "    <tr>\n",
       "      <th>8184</th>\n",
       "      <td>Evans,  Ginger S</td>\n",
       "      <td>Commissioner Of Aviation</td>\n",
       "      <td>Aviation</td>\n",
       "      <td>300000.0</td>\n",
       "      <td>Aviation</td>\n",
       "    </tr>\n",
       "    <tr>\n",
       "      <th>7954</th>\n",
       "      <td>Emanuel,  Rahm</td>\n",
       "      <td>Mayor</td>\n",
       "      <td>Mayor'S Office</td>\n",
       "      <td>216210.0</td>\n",
       "      <td>Mayor'S Office</td>\n",
       "    </tr>\n",
       "    <tr>\n",
       "      <th>25532</th>\n",
       "      <td>Santiago,  Jose A</td>\n",
       "      <td>Fire Commissioner</td>\n",
       "      <td>Fire</td>\n",
       "      <td>202728.0</td>\n",
       "      <td>Fire</td>\n",
       "    </tr>\n",
       "    <tr>\n",
       "      <th>8924</th>\n",
       "      <td>Ford Ii,  Richard C</td>\n",
       "      <td>First Deputy Fire Commissioner</td>\n",
       "      <td>Fire</td>\n",
       "      <td>197736.0</td>\n",
       "      <td>Fire</td>\n",
       "    </tr>\n",
       "    <tr>\n",
       "      <th>8042</th>\n",
       "      <td>Escalante,  John J</td>\n",
       "      <td>First Deputy Superintendent</td>\n",
       "      <td>Police</td>\n",
       "      <td>197724.0</td>\n",
       "      <td>Police</td>\n",
       "    </tr>\n",
       "    <tr>\n",
       "      <th>19208</th>\n",
       "      <td>Mitchell,  Eileen M</td>\n",
       "      <td>Chief Of Staff</td>\n",
       "      <td>Mayor'S Office</td>\n",
       "      <td>195000.0</td>\n",
       "      <td>Mayor'S Office</td>\n",
       "    </tr>\n",
       "    <tr>\n",
       "      <th>3706</th>\n",
       "      <td>Callahan,  Michael E</td>\n",
       "      <td>Deputy Fire Commissioner</td>\n",
       "      <td>Fire</td>\n",
       "      <td>187680.0</td>\n",
       "      <td>Fire</td>\n",
       "    </tr>\n",
       "    <tr>\n",
       "      <th>18556</th>\n",
       "      <td>Mc Nicholas,  John</td>\n",
       "      <td>Deputy Fire Commissioner</td>\n",
       "      <td>Fire</td>\n",
       "      <td>187680.0</td>\n",
       "      <td>Fire</td>\n",
       "    </tr>\n",
       "    <tr>\n",
       "      <th>29466</th>\n",
       "      <td>Vasquez,  Anthony P</td>\n",
       "      <td>Deputy Fire Commissioner</td>\n",
       "      <td>Fire</td>\n",
       "      <td>187680.0</td>\n",
       "      <td>Fire</td>\n",
       "    </tr>\n",
       "    <tr>\n",
       "      <th>13754</th>\n",
       "      <td>Johnson,  Eddie T</td>\n",
       "      <td>Chief</td>\n",
       "      <td>Police</td>\n",
       "      <td>185364.0</td>\n",
       "      <td>Police</td>\n",
       "    </tr>\n",
       "  </tbody>\n",
       "</table>\n",
       "</div>"
      ],
      "text/plain": [
       "                       Name                  Position Title      Department  \\\n",
       "8184       Evans,  Ginger S        Commissioner Of Aviation        Aviation   \n",
       "7954         Emanuel,  Rahm                           Mayor  Mayor'S Office   \n",
       "25532     Santiago,  Jose A               Fire Commissioner            Fire   \n",
       "8924    Ford Ii,  Richard C  First Deputy Fire Commissioner            Fire   \n",
       "8042     Escalante,  John J     First Deputy Superintendent          Police   \n",
       "19208   Mitchell,  Eileen M                  Chief Of Staff  Mayor'S Office   \n",
       "3706   Callahan,  Michael E        Deputy Fire Commissioner            Fire   \n",
       "18556    Mc Nicholas,  John        Deputy Fire Commissioner            Fire   \n",
       "29466   Vasquez,  Anthony P        Deputy Fire Commissioner            Fire   \n",
       "13754     Johnson,  Eddie T                           Chief          Police   \n",
       "\n",
       "       Employee Annual Salary       Departmen  \n",
       "8184                 300000.0        Aviation  \n",
       "7954                 216210.0  Mayor'S Office  \n",
       "25532                202728.0            Fire  \n",
       "8924                 197736.0            Fire  \n",
       "8042                 197724.0          Police  \n",
       "19208                195000.0  Mayor'S Office  \n",
       "3706                 187680.0            Fire  \n",
       "18556                187680.0            Fire  \n",
       "29466                187680.0            Fire  \n",
       "13754                185364.0          Police  "
      ]
     },
     "execution_count": 66,
     "metadata": {},
     "output_type": "execute_result"
    }
   ],
   "source": [
    "chicago.loc[corruption]"
   ]
  },
  {
   "cell_type": "code",
   "execution_count": 68,
   "metadata": {},
   "outputs": [
    {
     "data": {
      "text/html": [
       "<div>\n",
       "<style scoped>\n",
       "    .dataframe tbody tr th:only-of-type {\n",
       "        vertical-align: middle;\n",
       "    }\n",
       "\n",
       "    .dataframe tbody tr th {\n",
       "        vertical-align: top;\n",
       "    }\n",
       "\n",
       "    .dataframe thead th {\n",
       "        text-align: right;\n",
       "    }\n",
       "</style>\n",
       "<table border=\"1\" class=\"dataframe\">\n",
       "  <thead>\n",
       "    <tr style=\"text-align: right;\">\n",
       "      <th></th>\n",
       "      <th>Name</th>\n",
       "      <th>Position Title</th>\n",
       "      <th>Department</th>\n",
       "      <th>Employee Annual Salary</th>\n",
       "      <th>Departmen</th>\n",
       "    </tr>\n",
       "  </thead>\n",
       "  <tbody>\n",
       "    <tr>\n",
       "      <th>8184</th>\n",
       "      <td>Evans,  Ginger S</td>\n",
       "      <td>Commissioner Of Aviation</td>\n",
       "      <td>Aviation</td>\n",
       "      <td>300000.0</td>\n",
       "      <td>Aviation</td>\n",
       "    </tr>\n",
       "    <tr>\n",
       "      <th>7954</th>\n",
       "      <td>Emanuel,  Rahm</td>\n",
       "      <td>Mayor</td>\n",
       "      <td>Mayor'S Office</td>\n",
       "      <td>216210.0</td>\n",
       "      <td>Mayor'S Office</td>\n",
       "    </tr>\n",
       "    <tr>\n",
       "      <th>25532</th>\n",
       "      <td>Santiago,  Jose A</td>\n",
       "      <td>Fire Commissioner</td>\n",
       "      <td>Fire</td>\n",
       "      <td>202728.0</td>\n",
       "      <td>Fire</td>\n",
       "    </tr>\n",
       "    <tr>\n",
       "      <th>8924</th>\n",
       "      <td>Ford Ii,  Richard C</td>\n",
       "      <td>First Deputy Fire Commissioner</td>\n",
       "      <td>Fire</td>\n",
       "      <td>197736.0</td>\n",
       "      <td>Fire</td>\n",
       "    </tr>\n",
       "    <tr>\n",
       "      <th>8042</th>\n",
       "      <td>Escalante,  John J</td>\n",
       "      <td>First Deputy Superintendent</td>\n",
       "      <td>Police</td>\n",
       "      <td>197724.0</td>\n",
       "      <td>Police</td>\n",
       "    </tr>\n",
       "    <tr>\n",
       "      <th>19208</th>\n",
       "      <td>Mitchell,  Eileen M</td>\n",
       "      <td>Chief Of Staff</td>\n",
       "      <td>Mayor'S Office</td>\n",
       "      <td>195000.0</td>\n",
       "      <td>Mayor'S Office</td>\n",
       "    </tr>\n",
       "    <tr>\n",
       "      <th>3706</th>\n",
       "      <td>Callahan,  Michael E</td>\n",
       "      <td>Deputy Fire Commissioner</td>\n",
       "      <td>Fire</td>\n",
       "      <td>187680.0</td>\n",
       "      <td>Fire</td>\n",
       "    </tr>\n",
       "    <tr>\n",
       "      <th>18556</th>\n",
       "      <td>Mc Nicholas,  John</td>\n",
       "      <td>Deputy Fire Commissioner</td>\n",
       "      <td>Fire</td>\n",
       "      <td>187680.0</td>\n",
       "      <td>Fire</td>\n",
       "    </tr>\n",
       "    <tr>\n",
       "      <th>29466</th>\n",
       "      <td>Vasquez,  Anthony P</td>\n",
       "      <td>Deputy Fire Commissioner</td>\n",
       "      <td>Fire</td>\n",
       "      <td>187680.0</td>\n",
       "      <td>Fire</td>\n",
       "    </tr>\n",
       "    <tr>\n",
       "      <th>13754</th>\n",
       "      <td>Johnson,  Eddie T</td>\n",
       "      <td>Chief</td>\n",
       "      <td>Police</td>\n",
       "      <td>185364.0</td>\n",
       "      <td>Police</td>\n",
       "    </tr>\n",
       "  </tbody>\n",
       "</table>\n",
       "</div>"
      ],
      "text/plain": [
       "                       Name                  Position Title      Department  \\\n",
       "8184       Evans,  Ginger S        Commissioner Of Aviation        Aviation   \n",
       "7954         Emanuel,  Rahm                           Mayor  Mayor'S Office   \n",
       "25532     Santiago,  Jose A               Fire Commissioner            Fire   \n",
       "8924    Ford Ii,  Richard C  First Deputy Fire Commissioner            Fire   \n",
       "8042     Escalante,  John J     First Deputy Superintendent          Police   \n",
       "19208   Mitchell,  Eileen M                  Chief Of Staff  Mayor'S Office   \n",
       "3706   Callahan,  Michael E        Deputy Fire Commissioner            Fire   \n",
       "18556    Mc Nicholas,  John        Deputy Fire Commissioner            Fire   \n",
       "29466   Vasquez,  Anthony P        Deputy Fire Commissioner            Fire   \n",
       "13754     Johnson,  Eddie T                           Chief          Police   \n",
       "\n",
       "       Employee Annual Salary       Departmen  \n",
       "8184                 300000.0        Aviation  \n",
       "7954                 216210.0  Mayor'S Office  \n",
       "25532                202728.0            Fire  \n",
       "8924                 197736.0            Fire  \n",
       "8042                 197724.0          Police  \n",
       "19208                195000.0  Mayor'S Office  \n",
       "3706                 187680.0            Fire  \n",
       "18556                187680.0            Fire  \n",
       "29466                187680.0            Fire  \n",
       "13754                185364.0          Police  "
      ]
     },
     "execution_count": 68,
     "metadata": {},
     "output_type": "execute_result"
    }
   ],
   "source": [
    "chicago.loc[keys.keys()]"
   ]
  },
  {
   "cell_type": "code",
   "execution_count": 69,
   "metadata": {},
   "outputs": [],
   "source": [
    "mask_Position = chicago['Position Title'] == 'Mayor'"
   ]
  },
  {
   "cell_type": "code",
   "execution_count": 70,
   "metadata": {},
   "outputs": [
    {
     "data": {
      "text/html": [
       "<div>\n",
       "<style scoped>\n",
       "    .dataframe tbody tr th:only-of-type {\n",
       "        vertical-align: middle;\n",
       "    }\n",
       "\n",
       "    .dataframe tbody tr th {\n",
       "        vertical-align: top;\n",
       "    }\n",
       "\n",
       "    .dataframe thead th {\n",
       "        text-align: right;\n",
       "    }\n",
       "</style>\n",
       "<table border=\"1\" class=\"dataframe\">\n",
       "  <thead>\n",
       "    <tr style=\"text-align: right;\">\n",
       "      <th></th>\n",
       "      <th>Name</th>\n",
       "      <th>Position Title</th>\n",
       "      <th>Department</th>\n",
       "      <th>Employee Annual Salary</th>\n",
       "      <th>Departmen</th>\n",
       "    </tr>\n",
       "  </thead>\n",
       "  <tbody>\n",
       "    <tr>\n",
       "      <th>7954</th>\n",
       "      <td>Emanuel,  Rahm</td>\n",
       "      <td>Mayor</td>\n",
       "      <td>Mayor'S Office</td>\n",
       "      <td>216210.0</td>\n",
       "      <td>Mayor'S Office</td>\n",
       "    </tr>\n",
       "  </tbody>\n",
       "</table>\n",
       "</div>"
      ],
      "text/plain": [
       "                Name Position Title      Department  Employee Annual Salary  \\\n",
       "7954  Emanuel,  Rahm          Mayor  Mayor'S Office                216210.0   \n",
       "\n",
       "           Departmen  \n",
       "7954  Mayor'S Office  "
      ]
     },
     "execution_count": 70,
     "metadata": {},
     "output_type": "execute_result"
    }
   ],
   "source": [
    "chicago[mask_Position]"
   ]
  },
  {
   "cell_type": "code",
   "execution_count": 74,
   "metadata": {},
   "outputs": [],
   "source": [
    "mask_department = chicago['Department'] == \"Mayor'S Office\""
   ]
  },
  {
   "cell_type": "code",
   "execution_count": 75,
   "metadata": {},
   "outputs": [
    {
     "data": {
      "text/html": [
       "<div>\n",
       "<style scoped>\n",
       "    .dataframe tbody tr th:only-of-type {\n",
       "        vertical-align: middle;\n",
       "    }\n",
       "\n",
       "    .dataframe tbody tr th {\n",
       "        vertical-align: top;\n",
       "    }\n",
       "\n",
       "    .dataframe thead th {\n",
       "        text-align: right;\n",
       "    }\n",
       "</style>\n",
       "<table border=\"1\" class=\"dataframe\">\n",
       "  <thead>\n",
       "    <tr style=\"text-align: right;\">\n",
       "      <th></th>\n",
       "      <th>Name</th>\n",
       "      <th>Position Title</th>\n",
       "      <th>Department</th>\n",
       "      <th>Employee Annual Salary</th>\n",
       "      <th>Departmen</th>\n",
       "    </tr>\n",
       "  </thead>\n",
       "  <tbody>\n",
       "    <tr>\n",
       "      <th>62</th>\n",
       "      <td>Accurso,  Mary K</td>\n",
       "      <td>Administrative Asst</td>\n",
       "      <td>Mayor'S Office</td>\n",
       "      <td>55008.0</td>\n",
       "      <td>Mayor'S Office</td>\n",
       "    </tr>\n",
       "    <tr>\n",
       "      <th>282</th>\n",
       "      <td>Akinlemibola,  Grace O</td>\n",
       "      <td>Administrative Asst</td>\n",
       "      <td>Mayor'S Office</td>\n",
       "      <td>65004.0</td>\n",
       "      <td>Mayor'S Office</td>\n",
       "    </tr>\n",
       "    <tr>\n",
       "      <th>1209</th>\n",
       "      <td>Bader,  Cara</td>\n",
       "      <td>Asst Administrative Secretary Iii</td>\n",
       "      <td>Mayor'S Office</td>\n",
       "      <td>80004.0</td>\n",
       "      <td>Mayor'S Office</td>\n",
       "    </tr>\n",
       "    <tr>\n",
       "      <th>1742</th>\n",
       "      <td>Beatty,  Helen E</td>\n",
       "      <td>Administrative Asst</td>\n",
       "      <td>Mayor'S Office</td>\n",
       "      <td>73500.0</td>\n",
       "      <td>Mayor'S Office</td>\n",
       "    </tr>\n",
       "    <tr>\n",
       "      <th>1969</th>\n",
       "      <td>Berman,  Emily</td>\n",
       "      <td>Administrative Asst</td>\n",
       "      <td>Mayor'S Office</td>\n",
       "      <td>50004.0</td>\n",
       "      <td>Mayor'S Office</td>\n",
       "    </tr>\n",
       "    <tr>\n",
       "      <th>...</th>\n",
       "      <td>...</td>\n",
       "      <td>...</td>\n",
       "      <td>...</td>\n",
       "      <td>...</td>\n",
       "      <td>...</td>\n",
       "    </tr>\n",
       "    <tr>\n",
       "      <th>30430</th>\n",
       "      <td>Weil,  Allison S</td>\n",
       "      <td>Student Intern - Mayor'S Fellows</td>\n",
       "      <td>Mayor'S Office</td>\n",
       "      <td>20800.0</td>\n",
       "      <td>Mayor'S Office</td>\n",
       "    </tr>\n",
       "    <tr>\n",
       "      <th>30559</th>\n",
       "      <td>Wheat,  Christopher O</td>\n",
       "      <td>Deputy Dir</td>\n",
       "      <td>Mayor'S Office</td>\n",
       "      <td>135000.0</td>\n",
       "      <td>Mayor'S Office</td>\n",
       "    </tr>\n",
       "    <tr>\n",
       "      <th>30806</th>\n",
       "      <td>Williams Bennet,  Kenneth F</td>\n",
       "      <td>First Deputy Chief Of Staff</td>\n",
       "      <td>Mayor'S Office</td>\n",
       "      <td>159996.0</td>\n",
       "      <td>Mayor'S Office</td>\n",
       "    </tr>\n",
       "    <tr>\n",
       "      <th>31245</th>\n",
       "      <td>Wineman Stone,  Jill</td>\n",
       "      <td>Asst To The Mayor</td>\n",
       "      <td>Mayor'S Office</td>\n",
       "      <td>116652.0</td>\n",
       "      <td>Mayor'S Office</td>\n",
       "    </tr>\n",
       "    <tr>\n",
       "      <th>32010</th>\n",
       "      <td>Zovko,  Erika</td>\n",
       "      <td>Administrative Asst</td>\n",
       "      <td>Mayor'S Office</td>\n",
       "      <td>62796.0</td>\n",
       "      <td>Mayor'S Office</td>\n",
       "    </tr>\n",
       "  </tbody>\n",
       "</table>\n",
       "<p>86 rows × 5 columns</p>\n",
       "</div>"
      ],
      "text/plain": [
       "                              Name                     Position Title  \\\n",
       "62                Accurso,  Mary K                Administrative Asst   \n",
       "282         Akinlemibola,  Grace O                Administrative Asst   \n",
       "1209                  Bader,  Cara  Asst Administrative Secretary Iii   \n",
       "1742              Beatty,  Helen E                Administrative Asst   \n",
       "1969                Berman,  Emily                Administrative Asst   \n",
       "...                            ...                                ...   \n",
       "30430             Weil,  Allison S   Student Intern - Mayor'S Fellows   \n",
       "30559        Wheat,  Christopher O                         Deputy Dir   \n",
       "30806  Williams Bennet,  Kenneth F        First Deputy Chief Of Staff   \n",
       "31245         Wineman Stone,  Jill                  Asst To The Mayor   \n",
       "32010                Zovko,  Erika                Administrative Asst   \n",
       "\n",
       "           Department  Employee Annual Salary       Departmen  \n",
       "62     Mayor'S Office                 55008.0  Mayor'S Office  \n",
       "282    Mayor'S Office                 65004.0  Mayor'S Office  \n",
       "1209   Mayor'S Office                 80004.0  Mayor'S Office  \n",
       "1742   Mayor'S Office                 73500.0  Mayor'S Office  \n",
       "1969   Mayor'S Office                 50004.0  Mayor'S Office  \n",
       "...               ...                     ...             ...  \n",
       "30430  Mayor'S Office                 20800.0  Mayor'S Office  \n",
       "30559  Mayor'S Office                135000.0  Mayor'S Office  \n",
       "30806  Mayor'S Office                159996.0  Mayor'S Office  \n",
       "31245  Mayor'S Office                116652.0  Mayor'S Office  \n",
       "32010  Mayor'S Office                 62796.0  Mayor'S Office  \n",
       "\n",
       "[86 rows x 5 columns]"
      ]
     },
     "execution_count": 75,
     "metadata": {},
     "output_type": "execute_result"
    }
   ],
   "source": [
    "chicago[mask_department]"
   ]
  },
  {
   "cell_type": "code",
   "execution_count": 77,
   "metadata": {},
   "outputs": [],
   "source": [
    "chicago_crime = chicago[mask_department]"
   ]
  },
  {
   "cell_type": "code",
   "execution_count": 79,
   "metadata": {},
   "outputs": [
    {
     "data": {
      "text/plain": [
       "7954     216210.0\n",
       "19208    195000.0\n",
       "2975     169992.0\n",
       "23686    168996.0\n",
       "27253    168996.0\n",
       "23157    162492.0\n",
       "10719    162000.0\n",
       "30806    159996.0\n",
       "21728    154998.0\n",
       "6532     154992.0\n",
       "Name: Employee Annual Salary, dtype: float64"
      ]
     },
     "execution_count": 79,
     "metadata": {},
     "output_type": "execute_result"
    }
   ],
   "source": [
    "chicago_crime['Employee Annual Salary'].nlargest(10)"
   ]
  },
  {
   "cell_type": "code",
   "execution_count": 81,
   "metadata": {},
   "outputs": [
    {
     "data": {
      "text/html": [
       "<div>\n",
       "<style scoped>\n",
       "    .dataframe tbody tr th:only-of-type {\n",
       "        vertical-align: middle;\n",
       "    }\n",
       "\n",
       "    .dataframe tbody tr th {\n",
       "        vertical-align: top;\n",
       "    }\n",
       "\n",
       "    .dataframe thead th {\n",
       "        text-align: right;\n",
       "    }\n",
       "</style>\n",
       "<table border=\"1\" class=\"dataframe\">\n",
       "  <thead>\n",
       "    <tr style=\"text-align: right;\">\n",
       "      <th></th>\n",
       "      <th>Name</th>\n",
       "      <th>Position Title</th>\n",
       "      <th>Department</th>\n",
       "      <th>Employee Annual Salary</th>\n",
       "      <th>Departmen</th>\n",
       "    </tr>\n",
       "  </thead>\n",
       "  <tbody>\n",
       "    <tr>\n",
       "      <th>7954</th>\n",
       "      <td>Emanuel,  Rahm</td>\n",
       "      <td>Mayor</td>\n",
       "      <td>Mayor'S Office</td>\n",
       "      <td>216210.0</td>\n",
       "      <td>Mayor'S Office</td>\n",
       "    </tr>\n",
       "    <tr>\n",
       "      <th>19208</th>\n",
       "      <td>Mitchell,  Eileen M</td>\n",
       "      <td>Chief Of Staff</td>\n",
       "      <td>Mayor'S Office</td>\n",
       "      <td>195000.0</td>\n",
       "      <td>Mayor'S Office</td>\n",
       "    </tr>\n",
       "    <tr>\n",
       "      <th>2975</th>\n",
       "      <td>Brown,  Carole L</td>\n",
       "      <td>Chief Financial Officer</td>\n",
       "      <td>Mayor'S Office</td>\n",
       "      <td>169992.0</td>\n",
       "      <td>Mayor'S Office</td>\n",
       "    </tr>\n",
       "    <tr>\n",
       "      <th>23686</th>\n",
       "      <td>Rendina,  Michael</td>\n",
       "      <td>Dir Of Intergovernmental Affairs</td>\n",
       "      <td>Mayor'S Office</td>\n",
       "      <td>168996.0</td>\n",
       "      <td>Mayor'S Office</td>\n",
       "    </tr>\n",
       "    <tr>\n",
       "      <th>27253</th>\n",
       "      <td>Spielfogel,  David S</td>\n",
       "      <td>Asst To The Mayor</td>\n",
       "      <td>Mayor'S Office</td>\n",
       "      <td>168996.0</td>\n",
       "      <td>Mayor'S Office</td>\n",
       "    </tr>\n",
       "    <tr>\n",
       "      <th>23157</th>\n",
       "      <td>Quinn,  Kelley E</td>\n",
       "      <td>Press Secretary</td>\n",
       "      <td>Mayor'S Office</td>\n",
       "      <td>162492.0</td>\n",
       "      <td>Mayor'S Office</td>\n",
       "    </tr>\n",
       "    <tr>\n",
       "      <th>10719</th>\n",
       "      <td>Green,  Melissa</td>\n",
       "      <td>Administrative Asst</td>\n",
       "      <td>Mayor'S Office</td>\n",
       "      <td>162000.0</td>\n",
       "      <td>Mayor'S Office</td>\n",
       "    </tr>\n",
       "    <tr>\n",
       "      <th>30806</th>\n",
       "      <td>Williams Bennet,  Kenneth F</td>\n",
       "      <td>First Deputy Chief Of Staff</td>\n",
       "      <td>Mayor'S Office</td>\n",
       "      <td>159996.0</td>\n",
       "      <td>Mayor'S Office</td>\n",
       "    </tr>\n",
       "    <tr>\n",
       "      <th>21728</th>\n",
       "      <td>Parang,  Farzin</td>\n",
       "      <td>Asst To The Mayor</td>\n",
       "      <td>Mayor'S Office</td>\n",
       "      <td>154998.0</td>\n",
       "      <td>Mayor'S Office</td>\n",
       "    </tr>\n",
       "    <tr>\n",
       "      <th>6532</th>\n",
       "      <td>Deal,  Aaron J</td>\n",
       "      <td>Deputy Chief Of Staff</td>\n",
       "      <td>Mayor'S Office</td>\n",
       "      <td>154992.0</td>\n",
       "      <td>Mayor'S Office</td>\n",
       "    </tr>\n",
       "  </tbody>\n",
       "</table>\n",
       "</div>"
      ],
      "text/plain": [
       "                              Name                    Position Title  \\\n",
       "7954                Emanuel,  Rahm                             Mayor   \n",
       "19208          Mitchell,  Eileen M                    Chief Of Staff   \n",
       "2975              Brown,  Carole L           Chief Financial Officer   \n",
       "23686            Rendina,  Michael  Dir Of Intergovernmental Affairs   \n",
       "27253         Spielfogel,  David S                 Asst To The Mayor   \n",
       "23157             Quinn,  Kelley E                   Press Secretary   \n",
       "10719              Green,  Melissa               Administrative Asst   \n",
       "30806  Williams Bennet,  Kenneth F       First Deputy Chief Of Staff   \n",
       "21728              Parang,  Farzin                 Asst To The Mayor   \n",
       "6532                Deal,  Aaron J             Deputy Chief Of Staff   \n",
       "\n",
       "           Department  Employee Annual Salary       Departmen  \n",
       "7954   Mayor'S Office                216210.0  Mayor'S Office  \n",
       "19208  Mayor'S Office                195000.0  Mayor'S Office  \n",
       "2975   Mayor'S Office                169992.0  Mayor'S Office  \n",
       "23686  Mayor'S Office                168996.0  Mayor'S Office  \n",
       "27253  Mayor'S Office                168996.0  Mayor'S Office  \n",
       "23157  Mayor'S Office                162492.0  Mayor'S Office  \n",
       "10719  Mayor'S Office                162000.0  Mayor'S Office  \n",
       "30806  Mayor'S Office                159996.0  Mayor'S Office  \n",
       "21728  Mayor'S Office                154998.0  Mayor'S Office  \n",
       "6532   Mayor'S Office                154992.0  Mayor'S Office  "
      ]
     },
     "execution_count": 81,
     "metadata": {},
     "output_type": "execute_result"
    }
   ],
   "source": [
    "chicago.loc[chicago_crime['Employee Annual Salary'].nlargest(10).keys()]"
   ]
  },
  {
   "cell_type": "code",
   "execution_count": 82,
   "metadata": {},
   "outputs": [],
   "source": [
    "mask_Position = chicago['Position Title'] == 'Chief Financial Officer'"
   ]
  },
  {
   "cell_type": "code",
   "execution_count": 83,
   "metadata": {},
   "outputs": [
    {
     "data": {
      "text/html": [
       "<div>\n",
       "<style scoped>\n",
       "    .dataframe tbody tr th:only-of-type {\n",
       "        vertical-align: middle;\n",
       "    }\n",
       "\n",
       "    .dataframe tbody tr th {\n",
       "        vertical-align: top;\n",
       "    }\n",
       "\n",
       "    .dataframe thead th {\n",
       "        text-align: right;\n",
       "    }\n",
       "</style>\n",
       "<table border=\"1\" class=\"dataframe\">\n",
       "  <thead>\n",
       "    <tr style=\"text-align: right;\">\n",
       "      <th></th>\n",
       "      <th>Name</th>\n",
       "      <th>Position Title</th>\n",
       "      <th>Department</th>\n",
       "      <th>Employee Annual Salary</th>\n",
       "      <th>Departmen</th>\n",
       "    </tr>\n",
       "  </thead>\n",
       "  <tbody>\n",
       "    <tr>\n",
       "      <th>2975</th>\n",
       "      <td>Brown,  Carole L</td>\n",
       "      <td>Chief Financial Officer</td>\n",
       "      <td>Mayor'S Office</td>\n",
       "      <td>169992.0</td>\n",
       "      <td>Mayor'S Office</td>\n",
       "    </tr>\n",
       "  </tbody>\n",
       "</table>\n",
       "</div>"
      ],
      "text/plain": [
       "                  Name           Position Title      Department  \\\n",
       "2975  Brown,  Carole L  Chief Financial Officer  Mayor'S Office   \n",
       "\n",
       "      Employee Annual Salary       Departmen  \n",
       "2975                169992.0  Mayor'S Office  "
      ]
     },
     "execution_count": 83,
     "metadata": {},
     "output_type": "execute_result"
    }
   ],
   "source": [
    "chicago[mask_Position]"
   ]
  },
  {
   "cell_type": "code",
   "execution_count": null,
   "metadata": {},
   "outputs": [],
   "source": []
  }
 ],
 "metadata": {
  "kernelspec": {
   "display_name": "Python 3.10.5 64-bit",
   "language": "python",
   "name": "python3"
  },
  "language_info": {
   "codemirror_mode": {
    "name": "ipython",
    "version": 3
   },
   "file_extension": ".py",
   "mimetype": "text/x-python",
   "name": "python",
   "nbconvert_exporter": "python",
   "pygments_lexer": "ipython3",
   "version": "3.10.5"
  },
  "orig_nbformat": 4,
  "vscode": {
   "interpreter": {
    "hash": "722b6f501d3291d098eeb116c55030d7476387c4156a20534e17b28f07582bab"
   }
  }
 },
 "nbformat": 4,
 "nbformat_minor": 2
}
