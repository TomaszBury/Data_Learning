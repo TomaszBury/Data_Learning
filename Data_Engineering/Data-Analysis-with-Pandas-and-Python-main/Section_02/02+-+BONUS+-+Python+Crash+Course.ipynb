{
 "cells": [
  {
   "cell_type": "markdown",
   "id": "b0d79961",
   "metadata": {},
   "source": [
    "## Comments"
   ]
  },
  {
   "cell_type": "code",
   "execution_count": 1,
   "id": "135119d9",
   "metadata": {},
   "outputs": [
    {
     "data": {
      "text/plain": [
       "4"
      ]
     },
     "execution_count": 1,
     "metadata": {},
     "output_type": "execute_result"
    }
   ],
   "source": [
    "2 + 2 # Solve really complex mathematical expression using Python\n",
    "# 3 + 3"
   ]
  },
  {
   "cell_type": "markdown",
   "id": "f3a558dc",
   "metadata": {},
   "source": [
    "## Basic Data Types"
   ]
  },
  {
   "cell_type": "code",
   "execution_count": 2,
   "id": "d279294d",
   "metadata": {},
   "outputs": [
    {
     "data": {
      "text/plain": [
       "0"
      ]
     },
     "execution_count": 2,
     "metadata": {},
     "output_type": "execute_result"
    }
   ],
   "source": [
    "5\n",
    "10\n",
    "-23\n",
    "0"
   ]
  },
  {
   "cell_type": "code",
   "execution_count": 3,
   "id": "10bfacdb",
   "metadata": {},
   "outputs": [
    {
     "data": {
      "text/plain": [
       "-113.23819"
      ]
     },
     "execution_count": 3,
     "metadata": {},
     "output_type": "execute_result"
    }
   ],
   "source": [
    "3.14\n",
    "9.99\n",
    "-113.23819"
   ]
  },
  {
   "cell_type": "code",
   "execution_count": 4,
   "id": "9821bc67",
   "metadata": {},
   "outputs": [
    {
     "data": {
      "text/plain": [
       "'Sacramento'"
      ]
     },
     "execution_count": 4,
     "metadata": {},
     "output_type": "execute_result"
    }
   ],
   "source": [
    "\"Boris\"\n",
    "\"Sacramento\""
   ]
  },
  {
   "cell_type": "code",
   "execution_count": 5,
   "id": "8b7ee8b1",
   "metadata": {},
   "outputs": [
    {
     "data": {
      "text/plain": [
       "'139.99'"
      ]
     },
     "execution_count": 5,
     "metadata": {},
     "output_type": "execute_result"
    }
   ],
   "source": [
    "\"139.99\""
   ]
  },
  {
   "cell_type": "code",
   "execution_count": 6,
   "id": "4bdbe3fa",
   "metadata": {},
   "outputs": [
    {
     "data": {
      "text/plain": [
       "'$139.99 dollars!'"
      ]
     },
     "execution_count": 6,
     "metadata": {},
     "output_type": "execute_result"
    }
   ],
   "source": [
    "\"$139.99 dollars!\""
   ]
  },
  {
   "cell_type": "code",
   "execution_count": 7,
   "id": "f3fa5ce3",
   "metadata": {},
   "outputs": [
    {
     "data": {
      "text/plain": [
       "''"
      ]
     },
     "execution_count": 7,
     "metadata": {},
     "output_type": "execute_result"
    }
   ],
   "source": [
    "\"\""
   ]
  },
  {
   "cell_type": "code",
   "execution_count": 8,
   "id": "261e3b10",
   "metadata": {},
   "outputs": [
    {
     "data": {
      "text/plain": [
       "False"
      ]
     },
     "execution_count": 8,
     "metadata": {},
     "output_type": "execute_result"
    }
   ],
   "source": [
    "# Boolean\n",
    "True\n",
    "False"
   ]
  },
  {
   "cell_type": "code",
   "execution_count": 9,
   "id": "1a8ad7f3",
   "metadata": {},
   "outputs": [
    {
     "data": {
      "text/plain": [
       "True"
      ]
     },
     "execution_count": 9,
     "metadata": {},
     "output_type": "execute_result"
    }
   ],
   "source": [
    "5 < 7"
   ]
  },
  {
   "cell_type": "code",
   "execution_count": 10,
   "id": "8dc23e15",
   "metadata": {},
   "outputs": [
    {
     "data": {
      "text/plain": [
       "False"
      ]
     },
     "execution_count": 10,
     "metadata": {},
     "output_type": "execute_result"
    }
   ],
   "source": [
    "10 > 12"
   ]
  },
  {
   "cell_type": "code",
   "execution_count": 11,
   "id": "566b2152",
   "metadata": {},
   "outputs": [],
   "source": [
    "None"
   ]
  },
  {
   "cell_type": "markdown",
   "id": "3271e1b9",
   "metadata": {},
   "source": [
    "## Operators"
   ]
  },
  {
   "cell_type": "code",
   "execution_count": 12,
   "id": "18c1be1f",
   "metadata": {},
   "outputs": [
    {
     "data": {
      "text/plain": [
       "8"
      ]
     },
     "execution_count": 12,
     "metadata": {},
     "output_type": "execute_result"
    }
   ],
   "source": [
    "5 + 3"
   ]
  },
  {
   "cell_type": "code",
   "execution_count": 13,
   "id": "7b602230",
   "metadata": {},
   "outputs": [
    {
     "data": {
      "text/plain": [
       "11.1"
      ]
     },
     "execution_count": 13,
     "metadata": {},
     "output_type": "execute_result"
    }
   ],
   "source": [
    "3.14 + 7.96"
   ]
  },
  {
   "cell_type": "code",
   "execution_count": 14,
   "id": "ce22922e",
   "metadata": {},
   "outputs": [
    {
     "data": {
      "text/plain": [
       "'racecar'"
      ]
     },
     "execution_count": 14,
     "metadata": {},
     "output_type": "execute_result"
    }
   ],
   "source": [
    "# concatenation\n",
    "\"race\" + \"car\""
   ]
  },
  {
   "cell_type": "code",
   "execution_count": 15,
   "id": "1e79878a",
   "metadata": {},
   "outputs": [
    {
     "data": {
      "text/plain": [
       "5"
      ]
     },
     "execution_count": 15,
     "metadata": {},
     "output_type": "execute_result"
    }
   ],
   "source": [
    "10 - 5"
   ]
  },
  {
   "cell_type": "code",
   "execution_count": 16,
   "id": "9312e980",
   "metadata": {},
   "outputs": [
    {
     "data": {
      "text/plain": [
       "15"
      ]
     },
     "execution_count": 16,
     "metadata": {},
     "output_type": "execute_result"
    }
   ],
   "source": [
    "5 * 3"
   ]
  },
  {
   "cell_type": "code",
   "execution_count": 17,
   "id": "193b739a",
   "metadata": {},
   "outputs": [
    {
     "data": {
      "text/plain": [
       "'MahiMahiMahiMahiMahiMahiMahiMahiMahiMahi'"
      ]
     },
     "execution_count": 17,
     "metadata": {},
     "output_type": "execute_result"
    }
   ],
   "source": [
    "\"Mahi\" * 10"
   ]
  },
  {
   "cell_type": "code",
   "execution_count": 18,
   "id": "a1419d28",
   "metadata": {},
   "outputs": [
    {
     "data": {
      "text/plain": [
       "35"
      ]
     },
     "execution_count": 18,
     "metadata": {},
     "output_type": "execute_result"
    }
   ],
   "source": [
    "# PEMDAS\n",
    "# Parentheses Exponents Multiplication Division Addition Subtraction\n",
    "3 + 4 * 5\n",
    "(3 + 4) * 5"
   ]
  },
  {
   "cell_type": "code",
   "execution_count": 19,
   "id": "3292f809",
   "metadata": {},
   "outputs": [
    {
     "data": {
      "text/plain": [
       "3.75"
      ]
     },
     "execution_count": 19,
     "metadata": {},
     "output_type": "execute_result"
    }
   ],
   "source": [
    "15 / 4"
   ]
  },
  {
   "cell_type": "code",
   "execution_count": 20,
   "id": "23eeb5d9",
   "metadata": {},
   "outputs": [
    {
     "data": {
      "text/plain": [
       "2.0"
      ]
     },
     "execution_count": 20,
     "metadata": {},
     "output_type": "execute_result"
    }
   ],
   "source": [
    "10 / 5"
   ]
  },
  {
   "cell_type": "code",
   "execution_count": 21,
   "id": "fee29f2c",
   "metadata": {},
   "outputs": [
    {
     "data": {
      "text/plain": [
       "3"
      ]
     },
     "execution_count": 21,
     "metadata": {},
     "output_type": "execute_result"
    }
   ],
   "source": [
    "10 // 3"
   ]
  },
  {
   "cell_type": "code",
   "execution_count": 22,
   "id": "ea2f3e2b",
   "metadata": {},
   "outputs": [
    {
     "data": {
      "text/plain": [
       "4"
      ]
     },
     "execution_count": 22,
     "metadata": {},
     "output_type": "execute_result"
    }
   ],
   "source": [
    "14 // 3"
   ]
  },
  {
   "cell_type": "code",
   "execution_count": 23,
   "id": "22e808ab",
   "metadata": {},
   "outputs": [
    {
     "data": {
      "text/plain": [
       "4.666666666666667"
      ]
     },
     "execution_count": 23,
     "metadata": {},
     "output_type": "execute_result"
    }
   ],
   "source": [
    "14 / 3"
   ]
  },
  {
   "cell_type": "code",
   "execution_count": 24,
   "id": "9d8f4cef",
   "metadata": {},
   "outputs": [
    {
     "data": {
      "text/plain": [
       "2"
      ]
     },
     "execution_count": 24,
     "metadata": {},
     "output_type": "execute_result"
    }
   ],
   "source": [
    "14 % 3"
   ]
  },
  {
   "cell_type": "code",
   "execution_count": 25,
   "id": "05a0f683",
   "metadata": {},
   "outputs": [
    {
     "data": {
      "text/plain": [
       "True"
      ]
     },
     "execution_count": 25,
     "metadata": {},
     "output_type": "execute_result"
    }
   ],
   "source": [
    "# Equality operator\n",
    "\n",
    "1 == 1\n",
    "1 == 2\n",
    "5 == 5.0"
   ]
  },
  {
   "cell_type": "code",
   "execution_count": 26,
   "id": "b7f95c2d",
   "metadata": {},
   "outputs": [
    {
     "data": {
      "text/plain": [
       "False"
      ]
     },
     "execution_count": 26,
     "metadata": {},
     "output_type": "execute_result"
    }
   ],
   "source": [
    "\"Hello\" == \"Hello\"\n",
    "\"Hello\" == \"Goodbye\"\n",
    "\n",
    "\"Hello\" == \"hello\""
   ]
  },
  {
   "cell_type": "code",
   "execution_count": 27,
   "id": "82781743",
   "metadata": {},
   "outputs": [
    {
     "data": {
      "text/plain": [
       "False"
      ]
     },
     "execution_count": 27,
     "metadata": {},
     "output_type": "execute_result"
    }
   ],
   "source": [
    "True == True\n",
    "False == False\n",
    "\n",
    "True == False\n",
    "False == True"
   ]
  },
  {
   "cell_type": "code",
   "execution_count": 28,
   "id": "2a08515e",
   "metadata": {},
   "outputs": [],
   "source": [
    "# Inequality operator --> !="
   ]
  },
  {
   "cell_type": "code",
   "execution_count": 29,
   "id": "8d3cabb3",
   "metadata": {},
   "outputs": [
    {
     "data": {
      "text/plain": [
       "True"
      ]
     },
     "execution_count": 29,
     "metadata": {},
     "output_type": "execute_result"
    }
   ],
   "source": [
    "5 != 10\n",
    "\"Hello\" != \"Goodbye\""
   ]
  },
  {
   "cell_type": "code",
   "execution_count": 30,
   "id": "03f8e903",
   "metadata": {},
   "outputs": [
    {
     "data": {
      "text/plain": [
       "False"
      ]
     },
     "execution_count": 30,
     "metadata": {},
     "output_type": "execute_result"
    }
   ],
   "source": [
    "5 != 5"
   ]
  },
  {
   "cell_type": "code",
   "execution_count": 31,
   "id": "f4a3f067",
   "metadata": {},
   "outputs": [
    {
     "data": {
      "text/plain": [
       "True"
      ]
     },
     "execution_count": 31,
     "metadata": {},
     "output_type": "execute_result"
    }
   ],
   "source": [
    "5 < 8"
   ]
  },
  {
   "cell_type": "code",
   "execution_count": 32,
   "id": "06ce2c6f",
   "metadata": {},
   "outputs": [
    {
     "data": {
      "text/plain": [
       "False"
      ]
     },
     "execution_count": 32,
     "metadata": {},
     "output_type": "execute_result"
    }
   ],
   "source": [
    "5 <= 8\n",
    "5 <= 5\n",
    "5 <= -2"
   ]
  },
  {
   "cell_type": "code",
   "execution_count": 33,
   "id": "ca937e36",
   "metadata": {},
   "outputs": [
    {
     "data": {
      "text/plain": [
       "False"
      ]
     },
     "execution_count": 33,
     "metadata": {},
     "output_type": "execute_result"
    }
   ],
   "source": [
    "14 > 9\n",
    "14 > 20"
   ]
  },
  {
   "cell_type": "code",
   "execution_count": 34,
   "id": "5556280a",
   "metadata": {},
   "outputs": [
    {
     "data": {
      "text/plain": [
       "False"
      ]
     },
     "execution_count": 34,
     "metadata": {},
     "output_type": "execute_result"
    }
   ],
   "source": [
    "20 >= 12\n",
    "20 >= 20\n",
    "20 >= 100"
   ]
  },
  {
   "cell_type": "markdown",
   "id": "a7bc67a9",
   "metadata": {},
   "source": [
    "## Variables"
   ]
  },
  {
   "cell_type": "code",
   "execution_count": 35,
   "id": "7e24185d",
   "metadata": {},
   "outputs": [],
   "source": [
    "age = 29"
   ]
  },
  {
   "cell_type": "code",
   "execution_count": 36,
   "id": "09e7f49a",
   "metadata": {},
   "outputs": [
    {
     "data": {
      "text/plain": [
       "29"
      ]
     },
     "execution_count": 36,
     "metadata": {},
     "output_type": "execute_result"
    }
   ],
   "source": [
    "age"
   ]
  },
  {
   "cell_type": "code",
   "execution_count": 37,
   "id": "f238738f",
   "metadata": {},
   "outputs": [
    {
     "data": {
      "text/plain": [
       "34"
      ]
     },
     "execution_count": 37,
     "metadata": {},
     "output_type": "execute_result"
    }
   ],
   "source": [
    "age + 5\n",
    "# 29 + 5"
   ]
  },
  {
   "cell_type": "code",
   "execution_count": 38,
   "id": "437f3bb1",
   "metadata": {},
   "outputs": [],
   "source": [
    "price = 19.99\n",
    "first_name = \"Boris\"\n",
    "profession = \"Software Engineer\"\n",
    "is_handsome = True\n",
    "\n",
    "# snake_case"
   ]
  },
  {
   "cell_type": "code",
   "execution_count": 39,
   "id": "d78d08d1",
   "metadata": {},
   "outputs": [
    {
     "data": {
      "text/plain": [
       "'Boris'"
      ]
     },
     "execution_count": 39,
     "metadata": {},
     "output_type": "execute_result"
    }
   ],
   "source": [
    "first_name"
   ]
  },
  {
   "cell_type": "code",
   "execution_count": 40,
   "id": "ccc77f39",
   "metadata": {},
   "outputs": [
    {
     "data": {
      "text/plain": [
       "True"
      ]
     },
     "execution_count": 40,
     "metadata": {},
     "output_type": "execute_result"
    }
   ],
   "source": [
    "is_handsome"
   ]
  },
  {
   "cell_type": "code",
   "execution_count": 41,
   "id": "dcde70bf",
   "metadata": {},
   "outputs": [
    {
     "data": {
      "text/plain": [
       "'Boris is awesome'"
      ]
     },
     "execution_count": 41,
     "metadata": {},
     "output_type": "execute_result"
    }
   ],
   "source": [
    "first_name + \" is awesome\""
   ]
  },
  {
   "cell_type": "code",
   "execution_count": 42,
   "id": "081bf950",
   "metadata": {},
   "outputs": [
    {
     "data": {
      "text/plain": [
       "29"
      ]
     },
     "execution_count": 42,
     "metadata": {},
     "output_type": "execute_result"
    }
   ],
   "source": [
    "age"
   ]
  },
  {
   "cell_type": "code",
   "execution_count": 43,
   "id": "ef5a86fa",
   "metadata": {},
   "outputs": [
    {
     "data": {
      "text/plain": [
       "'Software Engineer'"
      ]
     },
     "execution_count": 43,
     "metadata": {},
     "output_type": "execute_result"
    }
   ],
   "source": [
    "profession"
   ]
  },
  {
   "cell_type": "code",
   "execution_count": 44,
   "id": "0d2553e3",
   "metadata": {},
   "outputs": [],
   "source": [
    "profession = \"Python Developer\""
   ]
  },
  {
   "cell_type": "code",
   "execution_count": 45,
   "id": "0a01c7f5",
   "metadata": {},
   "outputs": [
    {
     "data": {
      "text/plain": [
       "'Python Developer'"
      ]
     },
     "execution_count": 45,
     "metadata": {},
     "output_type": "execute_result"
    }
   ],
   "source": [
    "profession"
   ]
  },
  {
   "cell_type": "code",
   "execution_count": 46,
   "id": "efdccd21",
   "metadata": {},
   "outputs": [],
   "source": [
    "# age = 29\n",
    "\n",
    "# age = 34\n",
    "age = age + 5"
   ]
  },
  {
   "cell_type": "code",
   "execution_count": 47,
   "id": "cb4d111d",
   "metadata": {},
   "outputs": [
    {
     "data": {
      "text/plain": [
       "34"
      ]
     },
     "execution_count": 47,
     "metadata": {},
     "output_type": "execute_result"
    }
   ],
   "source": [
    "age"
   ]
  },
  {
   "cell_type": "markdown",
   "id": "42d67a50",
   "metadata": {},
   "source": [
    "## Built-in Functions"
   ]
  },
  {
   "cell_type": "code",
   "execution_count": 48,
   "id": "97d755de",
   "metadata": {},
   "outputs": [
    {
     "data": {
      "text/plain": [
       "36"
      ]
     },
     "execution_count": 48,
     "metadata": {},
     "output_type": "execute_result"
    }
   ],
   "source": [
    "len(\"How many characters do we have here?\")"
   ]
  },
  {
   "cell_type": "code",
   "execution_count": 49,
   "id": "2718ac24",
   "metadata": {},
   "outputs": [
    {
     "data": {
      "text/plain": [
       "'3.14'"
      ]
     },
     "execution_count": 49,
     "metadata": {},
     "output_type": "execute_result"
    }
   ],
   "source": [
    "str(3.14)"
   ]
  },
  {
   "cell_type": "code",
   "execution_count": 50,
   "id": "baea996b",
   "metadata": {},
   "outputs": [
    {
     "data": {
      "text/plain": [
       "10"
      ]
     },
     "execution_count": 50,
     "metadata": {},
     "output_type": "execute_result"
    }
   ],
   "source": [
    "int(\"10\")"
   ]
  },
  {
   "cell_type": "code",
   "execution_count": 51,
   "id": "bff352fb",
   "metadata": {},
   "outputs": [
    {
     "data": {
      "text/plain": [
       "9.384"
      ]
     },
     "execution_count": 51,
     "metadata": {},
     "output_type": "execute_result"
    }
   ],
   "source": [
    "float(\"9.384\")"
   ]
  },
  {
   "cell_type": "code",
   "execution_count": 52,
   "id": "8c9e2fb0",
   "metadata": {},
   "outputs": [
    {
     "data": {
      "text/plain": [
       "int"
      ]
     },
     "execution_count": 52,
     "metadata": {},
     "output_type": "execute_result"
    }
   ],
   "source": [
    "type(5)"
   ]
  },
  {
   "cell_type": "code",
   "execution_count": 53,
   "id": "e9462e84",
   "metadata": {},
   "outputs": [
    {
     "data": {
      "text/plain": [
       "float"
      ]
     },
     "execution_count": 53,
     "metadata": {},
     "output_type": "execute_result"
    }
   ],
   "source": [
    "type(3.14)"
   ]
  },
  {
   "cell_type": "code",
   "execution_count": 54,
   "id": "9cb85977",
   "metadata": {},
   "outputs": [
    {
     "data": {
      "text/plain": [
       "str"
      ]
     },
     "execution_count": 54,
     "metadata": {},
     "output_type": "execute_result"
    }
   ],
   "source": [
    "type(\"PlayStation\")"
   ]
  },
  {
   "cell_type": "code",
   "execution_count": 55,
   "id": "4a1fa9bc",
   "metadata": {},
   "outputs": [
    {
     "data": {
      "text/plain": [
       "bool"
      ]
     },
     "execution_count": 55,
     "metadata": {},
     "output_type": "execute_result"
    }
   ],
   "source": [
    "type(True)"
   ]
  },
  {
   "cell_type": "code",
   "execution_count": 56,
   "id": "de332eea",
   "metadata": {},
   "outputs": [
    {
     "data": {
      "text/plain": [
       "bool"
      ]
     },
     "execution_count": 56,
     "metadata": {},
     "output_type": "execute_result"
    }
   ],
   "source": [
    "type(False)"
   ]
  },
  {
   "cell_type": "code",
   "execution_count": 57,
   "id": "af8339de",
   "metadata": {},
   "outputs": [
    {
     "data": {
      "text/plain": [
       "True"
      ]
     },
     "execution_count": 57,
     "metadata": {},
     "output_type": "execute_result"
    }
   ],
   "source": [
    "type(10) == type(15)"
   ]
  },
  {
   "cell_type": "code",
   "execution_count": 58,
   "id": "cae7b735",
   "metadata": {},
   "outputs": [
    {
     "data": {
      "text/plain": [
       "False"
      ]
     },
     "execution_count": 58,
     "metadata": {},
     "output_type": "execute_result"
    }
   ],
   "source": [
    "type(10) == type(\"10\")"
   ]
  },
  {
   "cell_type": "markdown",
   "id": "cf976284",
   "metadata": {},
   "source": [
    "## Custom Functions"
   ]
  },
  {
   "cell_type": "code",
   "execution_count": 59,
   "id": "d160857a",
   "metadata": {},
   "outputs": [],
   "source": [
    "# Declare a function that accepts a temperature in Celsius and returns it in Fahrenheit\n",
    "\n",
    "def convert_to_fahrenheit(celsius_temp):\n",
    "    product = celsius_temp * 1.8\n",
    "    return product + 32"
   ]
  },
  {
   "cell_type": "code",
   "execution_count": 60,
   "id": "04dec880",
   "metadata": {},
   "outputs": [
    {
     "data": {
      "text/plain": [
       "5"
      ]
     },
     "execution_count": 60,
     "metadata": {},
     "output_type": "execute_result"
    }
   ],
   "source": [
    "len(\"Hello\")"
   ]
  },
  {
   "cell_type": "code",
   "execution_count": 61,
   "id": "ee459b97",
   "metadata": {},
   "outputs": [
    {
     "data": {
      "text/plain": [
       "32.0"
      ]
     },
     "execution_count": 61,
     "metadata": {},
     "output_type": "execute_result"
    }
   ],
   "source": [
    "convert_to_fahrenheit(0)"
   ]
  },
  {
   "cell_type": "code",
   "execution_count": 62,
   "id": "e634ce7d",
   "metadata": {},
   "outputs": [
    {
     "data": {
      "text/plain": [
       "57.2"
      ]
     },
     "execution_count": 62,
     "metadata": {},
     "output_type": "execute_result"
    }
   ],
   "source": [
    "convert_to_fahrenheit(14)"
   ]
  },
  {
   "cell_type": "code",
   "execution_count": 63,
   "id": "f4d3eda9",
   "metadata": {},
   "outputs": [
    {
     "data": {
      "text/plain": [
       "75.2"
      ]
     },
     "execution_count": 63,
     "metadata": {},
     "output_type": "execute_result"
    }
   ],
   "source": [
    "convert_to_fahrenheit(celsius_temp = 24)"
   ]
  },
  {
   "cell_type": "code",
   "execution_count": 64,
   "id": "612ff8ab",
   "metadata": {},
   "outputs": [
    {
     "data": {
      "text/plain": [
       "212.0"
      ]
     },
     "execution_count": 64,
     "metadata": {},
     "output_type": "execute_result"
    }
   ],
   "source": [
    "convert_to_fahrenheit(100)"
   ]
  },
  {
   "cell_type": "code",
   "execution_count": 65,
   "id": "341ac7bc",
   "metadata": {},
   "outputs": [],
   "source": [
    "def convert_to_fahrenheit(celsius_temp = 0):\n",
    "    product = celsius_temp * 1.8\n",
    "    return product + 32"
   ]
  },
  {
   "cell_type": "code",
   "execution_count": 66,
   "id": "c83efa5c",
   "metadata": {},
   "outputs": [
    {
     "data": {
      "text/plain": [
       "392.0"
      ]
     },
     "execution_count": 66,
     "metadata": {},
     "output_type": "execute_result"
    }
   ],
   "source": [
    "convert_to_fahrenheit(200)"
   ]
  },
  {
   "cell_type": "code",
   "execution_count": 67,
   "id": "5b251bcf",
   "metadata": {},
   "outputs": [
    {
     "data": {
      "text/plain": [
       "32.0"
      ]
     },
     "execution_count": 67,
     "metadata": {},
     "output_type": "execute_result"
    }
   ],
   "source": [
    "convert_to_fahrenheit()"
   ]
  },
  {
   "cell_type": "markdown",
   "id": "7875f148",
   "metadata": {},
   "source": [
    "## String Methods"
   ]
  },
  {
   "cell_type": "code",
   "execution_count": 68,
   "id": "04510444",
   "metadata": {},
   "outputs": [],
   "source": [
    "profession = \"Developer\""
   ]
  },
  {
   "cell_type": "code",
   "execution_count": 69,
   "id": "e357a0f3",
   "metadata": {},
   "outputs": [
    {
     "data": {
      "text/plain": [
       "'DEVELOPER'"
      ]
     },
     "execution_count": 69,
     "metadata": {},
     "output_type": "execute_result"
    }
   ],
   "source": [
    "profession.upper()"
   ]
  },
  {
   "cell_type": "code",
   "execution_count": 70,
   "id": "49b51b60",
   "metadata": {},
   "outputs": [
    {
     "data": {
      "text/plain": [
       "'DEVELOPER'"
      ]
     },
     "execution_count": 70,
     "metadata": {},
     "output_type": "execute_result"
    }
   ],
   "source": [
    "\"Developer\".upper()"
   ]
  },
  {
   "cell_type": "code",
   "execution_count": 71,
   "id": "afa48cfb",
   "metadata": {},
   "outputs": [
    {
     "data": {
      "text/plain": [
       "'developer'"
      ]
     },
     "execution_count": 71,
     "metadata": {},
     "output_type": "execute_result"
    }
   ],
   "source": [
    "profession.lower()"
   ]
  },
  {
   "cell_type": "code",
   "execution_count": 72,
   "id": "db391ab0",
   "metadata": {},
   "outputs": [
    {
     "data": {
      "text/plain": [
       "'dEVELOPER'"
      ]
     },
     "execution_count": 72,
     "metadata": {},
     "output_type": "execute_result"
    }
   ],
   "source": [
    "profession.swapcase()"
   ]
  },
  {
   "cell_type": "code",
   "execution_count": 73,
   "id": "d602684a",
   "metadata": {},
   "outputs": [],
   "source": [
    "# immutable - incapable of change\n",
    "# mutable - capable of change\n",
    "\n",
    "# string - immutable"
   ]
  },
  {
   "cell_type": "code",
   "execution_count": 74,
   "id": "830b8bf6",
   "metadata": {},
   "outputs": [
    {
     "data": {
      "text/plain": [
       "'Developer'"
      ]
     },
     "execution_count": 74,
     "metadata": {},
     "output_type": "execute_result"
    }
   ],
   "source": [
    "profession"
   ]
  },
  {
   "cell_type": "code",
   "execution_count": 75,
   "id": "4aaf7aa1",
   "metadata": {},
   "outputs": [
    {
     "data": {
      "text/plain": [
       "'Once Upon A Time'"
      ]
     },
     "execution_count": 75,
     "metadata": {},
     "output_type": "execute_result"
    }
   ],
   "source": [
    "\"once upon a time\".title()"
   ]
  },
  {
   "cell_type": "code",
   "execution_count": 76,
   "id": "b7b9a245",
   "metadata": {},
   "outputs": [
    {
     "data": {
      "text/plain": [
       "'Once upon a time'"
      ]
     },
     "execution_count": 76,
     "metadata": {},
     "output_type": "execute_result"
    }
   ],
   "source": [
    "\"once upon a time\".capitalize()"
   ]
  },
  {
   "cell_type": "code",
   "execution_count": 77,
   "id": "1846e1b1",
   "metadata": {},
   "outputs": [
    {
     "data": {
      "text/plain": [
       "'Ronald Mcdonald'"
      ]
     },
     "execution_count": 77,
     "metadata": {},
     "output_type": "execute_result"
    }
   ],
   "source": [
    "\"ronald mcdonald\".title()"
   ]
  },
  {
   "cell_type": "code",
   "execution_count": 78,
   "id": "0db1d9a3",
   "metadata": {},
   "outputs": [],
   "source": [
    "profession = \"        Developer          \""
   ]
  },
  {
   "cell_type": "code",
   "execution_count": 79,
   "id": "3cf8b580",
   "metadata": {},
   "outputs": [
    {
     "data": {
      "text/plain": [
       "'Developer          '"
      ]
     },
     "execution_count": 79,
     "metadata": {},
     "output_type": "execute_result"
    }
   ],
   "source": [
    "profession.lstrip()"
   ]
  },
  {
   "cell_type": "code",
   "execution_count": 80,
   "id": "d1f25fc5",
   "metadata": {},
   "outputs": [
    {
     "data": {
      "text/plain": [
       "'        Developer'"
      ]
     },
     "execution_count": 80,
     "metadata": {},
     "output_type": "execute_result"
    }
   ],
   "source": [
    "profession.rstrip()"
   ]
  },
  {
   "cell_type": "code",
   "execution_count": 81,
   "id": "c446eabb",
   "metadata": {},
   "outputs": [
    {
     "data": {
      "text/plain": [
       "'Developer'"
      ]
     },
     "execution_count": 81,
     "metadata": {},
     "output_type": "execute_result"
    }
   ],
   "source": [
    "profession.strip()"
   ]
  },
  {
   "cell_type": "code",
   "execution_count": 82,
   "id": "e3beb12c",
   "metadata": {},
   "outputs": [
    {
     "data": {
      "text/plain": [
       "'        D*v*lop*r          '"
      ]
     },
     "execution_count": 82,
     "metadata": {},
     "output_type": "execute_result"
    }
   ],
   "source": [
    "profession.replace(\"e\", \"*\")"
   ]
  },
  {
   "cell_type": "code",
   "execution_count": 83,
   "id": "c40dc70a",
   "metadata": {},
   "outputs": [
    {
     "data": {
      "text/plain": [
       "'D*v*lop*r'"
      ]
     },
     "execution_count": 83,
     "metadata": {},
     "output_type": "execute_result"
    }
   ],
   "source": [
    "profession.strip().replace(\"e\", \"*\")"
   ]
  },
  {
   "cell_type": "code",
   "execution_count": 84,
   "id": "7496b670",
   "metadata": {},
   "outputs": [],
   "source": [
    "animal = \"rhinoceros\""
   ]
  },
  {
   "cell_type": "code",
   "execution_count": 85,
   "id": "01e25a2a",
   "metadata": {},
   "outputs": [
    {
     "data": {
      "text/plain": [
       "True"
      ]
     },
     "execution_count": 85,
     "metadata": {},
     "output_type": "execute_result"
    }
   ],
   "source": [
    "animal.startswith(\"rhino\")"
   ]
  },
  {
   "cell_type": "code",
   "execution_count": 86,
   "id": "97c500f5",
   "metadata": {},
   "outputs": [
    {
     "data": {
      "text/plain": [
       "False"
      ]
     },
     "execution_count": 86,
     "metadata": {},
     "output_type": "execute_result"
    }
   ],
   "source": [
    "animal.startswith(\"kjaskjas\")"
   ]
  },
  {
   "cell_type": "code",
   "execution_count": 87,
   "id": "00629a4e",
   "metadata": {},
   "outputs": [
    {
     "data": {
      "text/plain": [
       "True"
      ]
     },
     "execution_count": 87,
     "metadata": {},
     "output_type": "execute_result"
    }
   ],
   "source": [
    "animal.startswith(\"r\")"
   ]
  },
  {
   "cell_type": "code",
   "execution_count": 88,
   "id": "e7dc6675",
   "metadata": {},
   "outputs": [
    {
     "data": {
      "text/plain": [
       "False"
      ]
     },
     "execution_count": 88,
     "metadata": {},
     "output_type": "execute_result"
    }
   ],
   "source": [
    "animal.startswith(\"R\")"
   ]
  },
  {
   "cell_type": "code",
   "execution_count": 89,
   "id": "9c118bb8",
   "metadata": {},
   "outputs": [
    {
     "data": {
      "text/plain": [
       "True"
      ]
     },
     "execution_count": 89,
     "metadata": {},
     "output_type": "execute_result"
    }
   ],
   "source": [
    "animal.endswith(\"ros\")"
   ]
  },
  {
   "cell_type": "code",
   "execution_count": 90,
   "id": "f9b8e9c6",
   "metadata": {},
   "outputs": [
    {
     "data": {
      "text/plain": [
       "True"
      ]
     },
     "execution_count": 90,
     "metadata": {},
     "output_type": "execute_result"
    }
   ],
   "source": [
    "animal.endswith(\"s\")"
   ]
  },
  {
   "cell_type": "code",
   "execution_count": 91,
   "id": "1e9b0d7f",
   "metadata": {},
   "outputs": [
    {
     "data": {
      "text/plain": [
       "False"
      ]
     },
     "execution_count": 91,
     "metadata": {},
     "output_type": "execute_result"
    }
   ],
   "source": [
    "animal.endswith(\"zzz\")"
   ]
  },
  {
   "cell_type": "code",
   "execution_count": 92,
   "id": "424e5443",
   "metadata": {},
   "outputs": [
    {
     "data": {
      "text/plain": [
       "True"
      ]
     },
     "execution_count": 92,
     "metadata": {},
     "output_type": "execute_result"
    }
   ],
   "source": [
    "\"ino\" in animal"
   ]
  },
  {
   "cell_type": "code",
   "execution_count": 93,
   "id": "7575d11c",
   "metadata": {},
   "outputs": [
    {
     "data": {
      "text/plain": [
       "True"
      ]
     },
     "execution_count": 93,
     "metadata": {},
     "output_type": "execute_result"
    }
   ],
   "source": [
    "\"r\" in animal"
   ]
  },
  {
   "cell_type": "code",
   "execution_count": 94,
   "id": "d5ee5b15",
   "metadata": {},
   "outputs": [
    {
     "data": {
      "text/plain": [
       "True"
      ]
     },
     "execution_count": 94,
     "metadata": {},
     "output_type": "execute_result"
    }
   ],
   "source": [
    "\"ceros\" in animal"
   ]
  },
  {
   "cell_type": "code",
   "execution_count": 95,
   "id": "d04adab8",
   "metadata": {},
   "outputs": [
    {
     "data": {
      "text/plain": [
       "False"
      ]
     },
     "execution_count": 95,
     "metadata": {},
     "output_type": "execute_result"
    }
   ],
   "source": [
    "\"z\" in animal"
   ]
  },
  {
   "cell_type": "code",
   "execution_count": 96,
   "id": "014aa4a9",
   "metadata": {},
   "outputs": [
    {
     "data": {
      "text/plain": [
       "True"
      ]
     },
     "execution_count": 96,
     "metadata": {},
     "output_type": "execute_result"
    }
   ],
   "source": [
    "\"z\" not in animal"
   ]
  },
  {
   "cell_type": "code",
   "execution_count": 97,
   "id": "1a373ab8",
   "metadata": {},
   "outputs": [
    {
     "data": {
      "text/plain": [
       "False"
      ]
     },
     "execution_count": 97,
     "metadata": {},
     "output_type": "execute_result"
    }
   ],
   "source": [
    "\"rhino\" not in animal"
   ]
  },
  {
   "cell_type": "markdown",
   "id": "56ea194e",
   "metadata": {},
   "source": [
    "## Lists"
   ]
  },
  {
   "cell_type": "code",
   "execution_count": 98,
   "id": "7bcae33a",
   "metadata": {},
   "outputs": [],
   "source": [
    "# Mutable data structure that holds an ordered collection of elements"
   ]
  },
  {
   "cell_type": "code",
   "execution_count": 99,
   "id": "3569796d",
   "metadata": {},
   "outputs": [
    {
     "data": {
      "text/plain": [
       "[1, 2, 3, 4]"
      ]
     },
     "execution_count": 99,
     "metadata": {},
     "output_type": "execute_result"
    }
   ],
   "source": [
    "[1, 2, 3, 4]"
   ]
  },
  {
   "cell_type": "code",
   "execution_count": 100,
   "id": "3d0f61ca",
   "metadata": {},
   "outputs": [
    {
     "data": {
      "text/plain": [
       "[True, False, False, True]"
      ]
     },
     "execution_count": 100,
     "metadata": {},
     "output_type": "execute_result"
    }
   ],
   "source": [
    "[True, False, False, True]"
   ]
  },
  {
   "cell_type": "code",
   "execution_count": 101,
   "id": "8a5ce55f",
   "metadata": {},
   "outputs": [],
   "source": [
    "party_attendees = [\"Michael\", \"Freddy\", \"Jason\"]"
   ]
  },
  {
   "cell_type": "code",
   "execution_count": 102,
   "id": "4b933aae",
   "metadata": {},
   "outputs": [
    {
     "data": {
      "text/plain": [
       "['Michael', 'Freddy', 'Jason']"
      ]
     },
     "execution_count": 102,
     "metadata": {},
     "output_type": "execute_result"
    }
   ],
   "source": [
    "party_attendees"
   ]
  },
  {
   "cell_type": "code",
   "execution_count": 103,
   "id": "8a133b32",
   "metadata": {},
   "outputs": [
    {
     "data": {
      "text/plain": [
       "[]"
      ]
     },
     "execution_count": 103,
     "metadata": {},
     "output_type": "execute_result"
    }
   ],
   "source": [
    "[]"
   ]
  },
  {
   "cell_type": "code",
   "execution_count": 104,
   "id": "fe1091dd",
   "metadata": {},
   "outputs": [
    {
     "data": {
      "text/plain": [
       "3"
      ]
     },
     "execution_count": 104,
     "metadata": {},
     "output_type": "execute_result"
    }
   ],
   "source": [
    "len(party_attendees)"
   ]
  },
  {
   "cell_type": "code",
   "execution_count": 105,
   "id": "383d987f",
   "metadata": {},
   "outputs": [
    {
     "data": {
      "text/plain": [
       "list"
      ]
     },
     "execution_count": 105,
     "metadata": {},
     "output_type": "execute_result"
    }
   ],
   "source": [
    "type(party_attendees)"
   ]
  },
  {
   "cell_type": "code",
   "execution_count": 106,
   "id": "35e2089a",
   "metadata": {},
   "outputs": [],
   "source": [
    "presidents = [\"Washington\", \"Jefferson\"]"
   ]
  },
  {
   "cell_type": "code",
   "execution_count": 107,
   "id": "14e2d4bc",
   "metadata": {},
   "outputs": [],
   "source": [
    "presidents.append(\"Madison\")"
   ]
  },
  {
   "cell_type": "code",
   "execution_count": 108,
   "id": "9cb00594",
   "metadata": {},
   "outputs": [
    {
     "data": {
      "text/plain": [
       "['Washington', 'Jefferson', 'Madison']"
      ]
     },
     "execution_count": 108,
     "metadata": {},
     "output_type": "execute_result"
    }
   ],
   "source": [
    "presidents"
   ]
  },
  {
   "cell_type": "code",
   "execution_count": 109,
   "id": "7ff46207",
   "metadata": {},
   "outputs": [
    {
     "data": {
      "text/plain": [
       "['Salted', 'Unsalted', 'Caramel']"
      ]
     },
     "execution_count": 109,
     "metadata": {},
     "output_type": "execute_result"
    }
   ],
   "source": [
    "popcorn = [\"Salted\", \"Unsalted\", \"Caramel\"]\n",
    "popcorn"
   ]
  },
  {
   "cell_type": "code",
   "execution_count": 110,
   "id": "7f326916",
   "metadata": {},
   "outputs": [
    {
     "data": {
      "text/plain": [
       "'Caramel'"
      ]
     },
     "execution_count": 110,
     "metadata": {},
     "output_type": "execute_result"
    }
   ],
   "source": [
    "popcorn.pop()"
   ]
  },
  {
   "cell_type": "code",
   "execution_count": 111,
   "id": "0226aabc",
   "metadata": {},
   "outputs": [
    {
     "data": {
      "text/plain": [
       "['Salted', 'Unsalted']"
      ]
     },
     "execution_count": 111,
     "metadata": {},
     "output_type": "execute_result"
    }
   ],
   "source": [
    "popcorn"
   ]
  },
  {
   "cell_type": "code",
   "execution_count": 112,
   "id": "3e809863",
   "metadata": {},
   "outputs": [],
   "source": [
    "popcorn.remove(\"Salted\")"
   ]
  },
  {
   "cell_type": "code",
   "execution_count": 113,
   "id": "25d6dde2",
   "metadata": {},
   "outputs": [
    {
     "data": {
      "text/plain": [
       "['Unsalted']"
      ]
     },
     "execution_count": 113,
     "metadata": {},
     "output_type": "execute_result"
    }
   ],
   "source": [
    "popcorn"
   ]
  },
  {
   "cell_type": "code",
   "execution_count": 114,
   "id": "bae1c2da",
   "metadata": {},
   "outputs": [
    {
     "data": {
      "text/plain": [
       "True"
      ]
     },
     "execution_count": 114,
     "metadata": {},
     "output_type": "execute_result"
    }
   ],
   "source": [
    "\"cat\" in \"caterpillar\""
   ]
  },
  {
   "cell_type": "code",
   "execution_count": 115,
   "id": "08c94b4a",
   "metadata": {},
   "outputs": [],
   "source": [
    "planets = [\"Mercury\", \"Venus\", \"Earth\", \"Mars\"]"
   ]
  },
  {
   "cell_type": "code",
   "execution_count": 116,
   "id": "2eca445b",
   "metadata": {},
   "outputs": [
    {
     "data": {
      "text/plain": [
       "True"
      ]
     },
     "execution_count": 116,
     "metadata": {},
     "output_type": "execute_result"
    }
   ],
   "source": [
    "\"Earth\" in planets"
   ]
  },
  {
   "cell_type": "code",
   "execution_count": 117,
   "id": "bdb76880",
   "metadata": {},
   "outputs": [
    {
     "data": {
      "text/plain": [
       "False"
      ]
     },
     "execution_count": 117,
     "metadata": {},
     "output_type": "execute_result"
    }
   ],
   "source": [
    "\"earth\" in planets"
   ]
  },
  {
   "cell_type": "code",
   "execution_count": 118,
   "id": "b8f49ca6",
   "metadata": {},
   "outputs": [
    {
     "data": {
      "text/plain": [
       "True"
      ]
     },
     "execution_count": 118,
     "metadata": {},
     "output_type": "execute_result"
    }
   ],
   "source": [
    "\"Pluto\" not in planets"
   ]
  },
  {
   "cell_type": "code",
   "execution_count": 119,
   "id": "af84b162",
   "metadata": {},
   "outputs": [
    {
     "data": {
      "text/plain": [
       "False"
      ]
     },
     "execution_count": 119,
     "metadata": {},
     "output_type": "execute_result"
    }
   ],
   "source": [
    "\"Mars\" not in planets"
   ]
  },
  {
   "cell_type": "code",
   "execution_count": null,
   "id": "5a6f6370",
   "metadata": {},
   "outputs": [],
   "source": []
  },
  {
   "cell_type": "code",
   "execution_count": null,
   "id": "1b11b421",
   "metadata": {},
   "outputs": [],
   "source": []
  },
  {
   "cell_type": "markdown",
   "id": "39e4d0be",
   "metadata": {},
   "source": [
    "## Index Positions nad SLicing"
   ]
  },
  {
   "cell_type": "code",
   "execution_count": 120,
   "id": "4362c2df",
   "metadata": {},
   "outputs": [],
   "source": [
    "spiderman = \"Spiderman\""
   ]
  },
  {
   "cell_type": "code",
   "execution_count": 121,
   "id": "72a31138",
   "metadata": {},
   "outputs": [
    {
     "data": {
      "text/plain": [
       "9"
      ]
     },
     "execution_count": 121,
     "metadata": {},
     "output_type": "execute_result"
    }
   ],
   "source": [
    "len(spiderman)"
   ]
  },
  {
   "cell_type": "code",
   "execution_count": 122,
   "id": "64d7216e",
   "metadata": {},
   "outputs": [],
   "source": [
    "# 0 1 2\n",
    "# S p i"
   ]
  },
  {
   "cell_type": "code",
   "execution_count": 123,
   "id": "160acff6",
   "metadata": {},
   "outputs": [
    {
     "data": {
      "text/plain": [
       "'n'"
      ]
     },
     "execution_count": 123,
     "metadata": {},
     "output_type": "execute_result"
    }
   ],
   "source": [
    "spiderman[0]\n",
    "spiderman[1]\n",
    "spiderman[8]"
   ]
  },
  {
   "cell_type": "code",
   "execution_count": 124,
   "id": "40f324c9",
   "metadata": {},
   "outputs": [
    {
     "data": {
      "text/plain": [
       "'S'"
      ]
     },
     "execution_count": 124,
     "metadata": {},
     "output_type": "execute_result"
    }
   ],
   "source": [
    "spiderman[-1]\n",
    "spiderman[-2]\n",
    "spiderman[-3]\n",
    "spiderman[-8]\n",
    "spiderman[-9]"
   ]
  },
  {
   "cell_type": "code",
   "execution_count": 125,
   "id": "ea37471a",
   "metadata": {},
   "outputs": [],
   "source": [
    "superheroes = [\"Batman\", \"Superman\", \"Wolverine\", \"Ironman\", \"Arnold Schwarzenegger\"]"
   ]
  },
  {
   "cell_type": "code",
   "execution_count": 126,
   "id": "f9993324",
   "metadata": {},
   "outputs": [
    {
     "data": {
      "text/plain": [
       "5"
      ]
     },
     "execution_count": 126,
     "metadata": {},
     "output_type": "execute_result"
    }
   ],
   "source": [
    "len(superheroes)"
   ]
  },
  {
   "cell_type": "code",
   "execution_count": 127,
   "id": "acddd454",
   "metadata": {},
   "outputs": [
    {
     "data": {
      "text/plain": [
       "'Arnold Schwarzenegger'"
      ]
     },
     "execution_count": 127,
     "metadata": {},
     "output_type": "execute_result"
    }
   ],
   "source": [
    "superheroes[0]\n",
    "superheroes[2]\n",
    "superheroes[4]"
   ]
  },
  {
   "cell_type": "code",
   "execution_count": 128,
   "id": "918497ac",
   "metadata": {},
   "outputs": [
    {
     "data": {
      "text/plain": [
       "'Wolverine'"
      ]
     },
     "execution_count": 128,
     "metadata": {},
     "output_type": "execute_result"
    }
   ],
   "source": [
    "superheroes[-1]\n",
    "superheroes[-3]"
   ]
  },
  {
   "cell_type": "code",
   "execution_count": 129,
   "id": "40cba0a4",
   "metadata": {},
   "outputs": [
    {
     "data": {
      "text/plain": [
       "['Wolverine', 'Ironman']"
      ]
     },
     "execution_count": 129,
     "metadata": {},
     "output_type": "execute_result"
    }
   ],
   "source": [
    "superheroes[1:3]\n",
    "superheroes[2:4]"
   ]
  },
  {
   "cell_type": "code",
   "execution_count": 130,
   "id": "61e000a4",
   "metadata": {},
   "outputs": [
    {
     "data": {
      "text/plain": [
       "'Spiderman'"
      ]
     },
     "execution_count": 130,
     "metadata": {},
     "output_type": "execute_result"
    }
   ],
   "source": [
    "spiderman"
   ]
  },
  {
   "cell_type": "code",
   "execution_count": 131,
   "id": "1ef73346",
   "metadata": {},
   "outputs": [
    {
     "data": {
      "text/plain": [
       "'pide'"
      ]
     },
     "execution_count": 131,
     "metadata": {},
     "output_type": "execute_result"
    }
   ],
   "source": [
    "spiderman[1:3]\n",
    "spiderman[1:5]"
   ]
  },
  {
   "cell_type": "code",
   "execution_count": 132,
   "id": "333bb5ae",
   "metadata": {},
   "outputs": [
    {
     "data": {
      "text/plain": [
       "['Batman', 'Superman', 'Wolverine', 'Ironman', 'Arnold Schwarzenegger']"
      ]
     },
     "execution_count": 132,
     "metadata": {},
     "output_type": "execute_result"
    }
   ],
   "source": [
    "superheroes"
   ]
  },
  {
   "cell_type": "code",
   "execution_count": 133,
   "id": "20e00f7c",
   "metadata": {},
   "outputs": [
    {
     "data": {
      "text/plain": [
       "['Batman', 'Superman']"
      ]
     },
     "execution_count": 133,
     "metadata": {},
     "output_type": "execute_result"
    }
   ],
   "source": [
    "superheroes[0:2]\n",
    "\n",
    "superheroes[:2]"
   ]
  },
  {
   "cell_type": "code",
   "execution_count": 134,
   "id": "881a622d",
   "metadata": {},
   "outputs": [
    {
     "data": {
      "text/plain": [
       "'Spider'"
      ]
     },
     "execution_count": 134,
     "metadata": {},
     "output_type": "execute_result"
    }
   ],
   "source": [
    "spiderman[0:6]\n",
    "\n",
    "spiderman[:6]"
   ]
  },
  {
   "cell_type": "code",
   "execution_count": 135,
   "id": "0ef30d31",
   "metadata": {},
   "outputs": [
    {
     "data": {
      "text/plain": [
       "['Wolverine', 'Ironman', 'Arnold Schwarzenegger']"
      ]
     },
     "execution_count": 135,
     "metadata": {},
     "output_type": "execute_result"
    }
   ],
   "source": [
    "superheroes[2:5]\n",
    "superheroes[2:100]\n",
    "superheroes[2:]"
   ]
  },
  {
   "cell_type": "code",
   "execution_count": 136,
   "id": "78394eb7",
   "metadata": {},
   "outputs": [
    {
     "data": {
      "text/plain": [
       "['Batman', 'Superman', 'Wolverine', 'Ironman', 'Arnold Schwarzenegger']"
      ]
     },
     "execution_count": 136,
     "metadata": {},
     "output_type": "execute_result"
    }
   ],
   "source": [
    "superheroes[:]"
   ]
  },
  {
   "cell_type": "code",
   "execution_count": 137,
   "id": "0ff43af3",
   "metadata": {},
   "outputs": [
    {
     "data": {
      "text/plain": [
       "'rman'"
      ]
     },
     "execution_count": 137,
     "metadata": {},
     "output_type": "execute_result"
    }
   ],
   "source": [
    "spiderman[5:12]"
   ]
  },
  {
   "cell_type": "code",
   "execution_count": 138,
   "id": "34845d3f",
   "metadata": {},
   "outputs": [
    {
     "data": {
      "text/plain": [
       "'rman'"
      ]
     },
     "execution_count": 138,
     "metadata": {},
     "output_type": "execute_result"
    }
   ],
   "source": [
    "spiderman[5:]"
   ]
  },
  {
   "cell_type": "code",
   "execution_count": 139,
   "id": "5498b55e",
   "metadata": {},
   "outputs": [
    {
     "data": {
      "text/plain": [
       "'derm'"
      ]
     },
     "execution_count": 139,
     "metadata": {},
     "output_type": "execute_result"
    }
   ],
   "source": [
    "spiderman[3:-2]"
   ]
  },
  {
   "cell_type": "markdown",
   "id": "209b8921",
   "metadata": {},
   "source": [
    "## Dictionaries"
   ]
  },
  {
   "cell_type": "code",
   "execution_count": 140,
   "id": "819ef6d7",
   "metadata": {},
   "outputs": [],
   "source": [
    "# An unordered collection of key-value pairs"
   ]
  },
  {
   "cell_type": "code",
   "execution_count": 141,
   "id": "aab31bb0",
   "metadata": {},
   "outputs": [],
   "source": [
    "# Filet mignon - 29.99\n",
    "menu = {\n",
    "    \"Filet Mignon\": 29.99,\n",
    "    \"Big Mac\": 3.99,\n",
    "    \"Pizza\": 0.99,\n",
    "    \"Salmon\": 29.99\n",
    "}"
   ]
  },
  {
   "cell_type": "code",
   "execution_count": 142,
   "id": "fa578ce4",
   "metadata": {},
   "outputs": [
    {
     "data": {
      "text/plain": [
       "{'Filet Mignon': 29.99, 'Big Mac': 3.99, 'Pizza': 0.99, 'Salmon': 29.99}"
      ]
     },
     "execution_count": 142,
     "metadata": {},
     "output_type": "execute_result"
    }
   ],
   "source": [
    "menu"
   ]
  },
  {
   "cell_type": "code",
   "execution_count": 143,
   "id": "5d744d26",
   "metadata": {},
   "outputs": [
    {
     "data": {
      "text/plain": [
       "4"
      ]
     },
     "execution_count": 143,
     "metadata": {},
     "output_type": "execute_result"
    }
   ],
   "source": [
    "len(menu)"
   ]
  },
  {
   "cell_type": "code",
   "execution_count": 144,
   "id": "8d07faf6",
   "metadata": {},
   "outputs": [
    {
     "data": {
      "text/plain": [
       "3.99"
      ]
     },
     "execution_count": 144,
     "metadata": {},
     "output_type": "execute_result"
    }
   ],
   "source": [
    "menu[\"Big Mac\"]"
   ]
  },
  {
   "cell_type": "code",
   "execution_count": 145,
   "id": "fb6bdb1d",
   "metadata": {},
   "outputs": [],
   "source": [
    "# menu[\"Tuna\"]\n",
    "# menu[\"salmon\"]"
   ]
  },
  {
   "cell_type": "code",
   "execution_count": 146,
   "id": "c3e7b55d",
   "metadata": {},
   "outputs": [],
   "source": [
    "menu[\"Burrito\"] = 13.99"
   ]
  },
  {
   "cell_type": "code",
   "execution_count": 147,
   "id": "f66d2ebc",
   "metadata": {},
   "outputs": [
    {
     "data": {
      "text/plain": [
       "{'Filet Mignon': 29.99,\n",
       " 'Big Mac': 3.99,\n",
       " 'Pizza': 0.99,\n",
       " 'Salmon': 29.99,\n",
       " 'Burrito': 13.99}"
      ]
     },
     "execution_count": 147,
     "metadata": {},
     "output_type": "execute_result"
    }
   ],
   "source": [
    "menu"
   ]
  },
  {
   "cell_type": "code",
   "execution_count": 148,
   "id": "ee434d57",
   "metadata": {},
   "outputs": [],
   "source": [
    "menu[\"Big Mac\"] = 5.99"
   ]
  },
  {
   "cell_type": "code",
   "execution_count": 149,
   "id": "e7d029e4",
   "metadata": {},
   "outputs": [
    {
     "data": {
      "text/plain": [
       "{'Filet Mignon': 29.99,\n",
       " 'Big Mac': 5.99,\n",
       " 'Pizza': 0.99,\n",
       " 'Salmon': 29.99,\n",
       " 'Burrito': 13.99}"
      ]
     },
     "execution_count": 149,
     "metadata": {},
     "output_type": "execute_result"
    }
   ],
   "source": [
    "menu"
   ]
  },
  {
   "cell_type": "code",
   "execution_count": 150,
   "id": "31fb0047",
   "metadata": {},
   "outputs": [
    {
     "data": {
      "text/plain": [
       "29.99"
      ]
     },
     "execution_count": 150,
     "metadata": {},
     "output_type": "execute_result"
    }
   ],
   "source": [
    "menu.pop(\"Filet Mignon\")"
   ]
  },
  {
   "cell_type": "code",
   "execution_count": 151,
   "id": "ade2f0ad",
   "metadata": {},
   "outputs": [
    {
     "data": {
      "text/plain": [
       "{'Big Mac': 5.99, 'Pizza': 0.99, 'Salmon': 29.99, 'Burrito': 13.99}"
      ]
     },
     "execution_count": 151,
     "metadata": {},
     "output_type": "execute_result"
    }
   ],
   "source": [
    "menu"
   ]
  },
  {
   "cell_type": "code",
   "execution_count": 152,
   "id": "00ea4c36",
   "metadata": {},
   "outputs": [
    {
     "data": {
      "text/plain": [
       "True"
      ]
     },
     "execution_count": 152,
     "metadata": {},
     "output_type": "execute_result"
    }
   ],
   "source": [
    "\"Pizza\" in menu"
   ]
  },
  {
   "cell_type": "code",
   "execution_count": 153,
   "id": "46202aaa",
   "metadata": {},
   "outputs": [
    {
     "data": {
      "text/plain": [
       "False"
      ]
     },
     "execution_count": 153,
     "metadata": {},
     "output_type": "execute_result"
    }
   ],
   "source": [
    "\"Hot Pockets\" in menu"
   ]
  },
  {
   "cell_type": "code",
   "execution_count": 154,
   "id": "072e4f91",
   "metadata": {},
   "outputs": [
    {
     "data": {
      "text/plain": [
       "True"
      ]
     },
     "execution_count": 154,
     "metadata": {},
     "output_type": "execute_result"
    }
   ],
   "source": [
    "\"Bubble Gum\" not in menu"
   ]
  },
  {
   "cell_type": "code",
   "execution_count": 155,
   "id": "bd43a89f",
   "metadata": {},
   "outputs": [
    {
     "data": {
      "text/plain": [
       "False"
      ]
     },
     "execution_count": 155,
     "metadata": {},
     "output_type": "execute_result"
    }
   ],
   "source": [
    "\"Burrito\" not in menu"
   ]
  },
  {
   "cell_type": "code",
   "execution_count": 156,
   "id": "ed933aed",
   "metadata": {},
   "outputs": [
    {
     "data": {
      "text/plain": [
       "False"
      ]
     },
     "execution_count": 156,
     "metadata": {},
     "output_type": "execute_result"
    }
   ],
   "source": [
    "5.99 in menu"
   ]
  },
  {
   "cell_type": "code",
   "execution_count": 157,
   "id": "cec2a58e",
   "metadata": {},
   "outputs": [
    {
     "data": {
      "text/plain": [
       "dict_values([5.99, 0.99, 29.99, 13.99])"
      ]
     },
     "execution_count": 157,
     "metadata": {},
     "output_type": "execute_result"
    }
   ],
   "source": [
    "menu.values()"
   ]
  },
  {
   "cell_type": "code",
   "execution_count": 158,
   "id": "613b24bd",
   "metadata": {},
   "outputs": [
    {
     "data": {
      "text/plain": [
       "True"
      ]
     },
     "execution_count": 158,
     "metadata": {},
     "output_type": "execute_result"
    }
   ],
   "source": [
    "5.99 in menu.values()"
   ]
  },
  {
   "cell_type": "code",
   "execution_count": 159,
   "id": "e58f7014",
   "metadata": {},
   "outputs": [
    {
     "data": {
      "text/plain": [
       "False"
      ]
     },
     "execution_count": 159,
     "metadata": {},
     "output_type": "execute_result"
    }
   ],
   "source": [
    "99.95 in menu.values()"
   ]
  },
  {
   "cell_type": "code",
   "execution_count": null,
   "id": "69888935",
   "metadata": {},
   "outputs": [],
   "source": []
  }
 ],
 "metadata": {
  "interpreter": {
   "hash": "0963322607b61fb85e60b3c63581df9ac5d2bad434271279b035d9d92170e8cb"
  },
  "kernelspec": {
   "display_name": "Python 3.9.5 64-bit",
   "language": "python",
   "name": "python3"
  },
  "language_info": {
   "codemirror_mode": {
    "name": "ipython",
    "version": 3
   },
   "file_extension": ".py",
   "mimetype": "text/x-python",
   "name": "python",
   "nbconvert_exporter": "python",
   "pygments_lexer": "ipython3",
   "version": "3.9.5"
  }
 },
 "nbformat": 4,
 "nbformat_minor": 5
}
